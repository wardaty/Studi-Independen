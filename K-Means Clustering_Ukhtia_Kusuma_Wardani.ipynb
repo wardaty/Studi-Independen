{
  "nbformat": 4,
  "nbformat_minor": 0,
  "metadata": {
    "colab": {
      "provenance": []
    },
    "kernelspec": {
      "display_name": "Python 3",
      "language": "python",
      "name": "python3"
    },
    "language_info": {
      "codemirror_mode": {
        "name": "ipython",
        "version": 3
      },
      "file_extension": ".py",
      "mimetype": "text/x-python",
      "name": "python",
      "nbconvert_exporter": "python",
      "pygments_lexer": "ipython3",
      "version": "3.7.7"
    }
  },
  "cells": [
    {
      "cell_type": "markdown",
      "metadata": {
        "id": "eEi_kSxKkE8Z"
      },
      "source": [
        "# K Means Clustering Algorithm"
      ]
    },
    {
      "cell_type": "markdown",
      "metadata": {
        "id": "cg1JY1yWkE8i"
      },
      "source": [
        "## Studi Kasus"
      ]
    },
    {
      "cell_type": "markdown",
      "metadata": {
        "id": "0uat0VXdt0w2"
      },
      "source": [
        "Data yang anda miliki adalah data penjualan setelah terjadinya pandemi Covid-19 dengan kategori produk sports & apparel. Dikarenakan saat ini penjualan banyak dilakukan secara online, anda berencana untuk memperbaiki tampilan website dengan cara mengelompokkan produk berdasarkan kategori-kategori tertentu. Perombakan ini diharapkan dapat mempermudah pembeli dalam memilih barang sesuai dengan selera dan kebutuhan mereka. Untuk mencapai tujuan tersebut anda akan menggunakan history penjualan sebelumnya. Data yang anda miliki adalah sebagai berikut :\n",
        "\n",
        "- Product Name : Nama produk \n",
        "- Product ID : Id unik produk\n",
        "- Listing Price : Harga sebenarnya dari produk\n",
        "- Sale Price : Harga saat produk dibeli\n",
        "- Discount : Diskon yang diberikan dalam suatu produk\n",
        "- Brand : Nama Brand dari produk\n",
        "- Description : Deskripsi produk\n",
        "- Rating : Rating yang diberikan user\n",
        "- Listing Price : Jumlah review suatu produk\n",
        "- Last Visited : Record terakhir produk dikunjungi oleh customer\n",
        "\n",
        "Selain mengelompokkan produk, anda juga ingin menganalisis persaingan yang terjadi pada tiap-tiap brand. Dengan mengetahui minat pembeli, harapannya untuk kedepannya anda dapat menyesuaikan store anda dengan kebutuhan pasar."
      ]
    },
    {
      "cell_type": "markdown",
      "metadata": {
        "id": "Hv1ac7niWdfG"
      },
      "source": [
        "## Import Libraries and Data"
      ]
    },
    {
      "cell_type": "code",
      "source": [
        "# import package\n",
        "import os\n",
        "import pandas as pd\n",
        "import numpy as np\n",
        "from sklearn.preprocessing import LabelEncoder, StandardScaler\n",
        "from sklearn.cluster import KMeans\n",
        "from sklearn.metrics import silhouette_score\n",
        "\n",
        "# Package untuk visualisasi\n",
        "import seaborn as sns\n",
        "import matplotlib.pyplot as plt"
      ],
      "metadata": {
        "id": "uCaGOfR0QCyK"
      },
      "execution_count": null,
      "outputs": []
    },
    {
      "cell_type": "code",
      "metadata": {
        "id": "pgJX6GWSq040",
        "colab": {
          "base_uri": "https://localhost:8080/"
        },
        "outputId": "fe25d7ec-6c5f-4ba1-f26f-a0b9ef1edd22"
      },
      "source": [
        "from google.colab import drive\n",
        "drive.mount('/content/drive')"
      ],
      "execution_count": null,
      "outputs": [
        {
          "output_type": "stream",
          "name": "stdout",
          "text": [
            "Drive already mounted at /content/drive; to attempt to forcibly remount, call drive.mount(\"/content/drive\", force_remount=True).\n"
          ]
        }
      ]
    },
    {
      "cell_type": "code",
      "source": [
        "# Mendefinisikan data path\n",
        "path = '/content/drive/My Drive/SMT_6/GCollab DS-1/Dataset - Klustering/'"
      ],
      "metadata": {
        "id": "YgzE9xCHPVjz"
      },
      "execution_count": null,
      "outputs": []
    },
    {
      "cell_type": "code",
      "source": [
        "#Loading the dataset\n",
        "df = pd.read_csv(path + \"Clustering_product.csv\")\n",
        "df.head()"
      ],
      "metadata": {
        "colab": {
          "base_uri": "https://localhost:8080/",
          "height": 206
        },
        "id": "k6jT8bkNPZ_v",
        "outputId": "89fce336-8eb1-4b30-b457-f96d876d5d8b"
      },
      "execution_count": null,
      "outputs": [
        {
          "output_type": "execute_result",
          "data": {
            "text/plain": [
              "                                        Product Name Product ID  \\\n",
              "0  Women's adidas Originals NMD_Racer Primeknit S...     AH2430   \n",
              "1               Women's adidas Originals Sleek Shoes     G27341   \n",
              "2                  Women's adidas Swim Puka Slippers     CM0081   \n",
              "3   Women's adidas Sport Inspired Questar Ride Shoes     B44832   \n",
              "4           Women's adidas Originals Taekwondo Shoes     D98205   \n",
              "\n",
              "   Listing Price  Sale Price  Discount              Brand  \\\n",
              "0          14999        7499        50   Adidas ORIGINALS   \n",
              "1           7599        3799        50   Adidas ORIGINALS   \n",
              "2            999         599        40  Adidas CORE / NEO   \n",
              "3           6999        3499        50  Adidas CORE / NEO   \n",
              "4           7999        3999        50   Adidas ORIGINALS   \n",
              "\n",
              "                                         Description  Rating  Reviews  \\\n",
              "0  Channeling the streamlined look of an '80s rac...     4.8       41   \n",
              "1  A modern take on adidas sport heritage, tailor...     3.3       24   \n",
              "2  These adidas Puka slippers for women's come wi...     2.6       37   \n",
              "3  Inspired by modern tech runners, these women's...     4.1       35   \n",
              "4  This design is inspired by vintage Taekwondo s...     3.5       72   \n",
              "\n",
              "          Last Visited\\t  \n",
              "0  2020-04-13T15:06:14\\t  \n",
              "1  2020-04-13T15:06:15\\t  \n",
              "2  2020-04-13T15:06:15\\t  \n",
              "3  2020-04-13T15:06:15\\t  \n",
              "4  2020-04-13T15:06:15\\t  "
            ],
            "text/html": [
              "\n",
              "  <div id=\"df-c8557a92-474c-4310-a778-a50350020c7d\">\n",
              "    <div class=\"colab-df-container\">\n",
              "      <div>\n",
              "<style scoped>\n",
              "    .dataframe tbody tr th:only-of-type {\n",
              "        vertical-align: middle;\n",
              "    }\n",
              "\n",
              "    .dataframe tbody tr th {\n",
              "        vertical-align: top;\n",
              "    }\n",
              "\n",
              "    .dataframe thead th {\n",
              "        text-align: right;\n",
              "    }\n",
              "</style>\n",
              "<table border=\"1\" class=\"dataframe\">\n",
              "  <thead>\n",
              "    <tr style=\"text-align: right;\">\n",
              "      <th></th>\n",
              "      <th>Product Name</th>\n",
              "      <th>Product ID</th>\n",
              "      <th>Listing Price</th>\n",
              "      <th>Sale Price</th>\n",
              "      <th>Discount</th>\n",
              "      <th>Brand</th>\n",
              "      <th>Description</th>\n",
              "      <th>Rating</th>\n",
              "      <th>Reviews</th>\n",
              "      <th>Last Visited\\t</th>\n",
              "    </tr>\n",
              "  </thead>\n",
              "  <tbody>\n",
              "    <tr>\n",
              "      <th>0</th>\n",
              "      <td>Women's adidas Originals NMD_Racer Primeknit S...</td>\n",
              "      <td>AH2430</td>\n",
              "      <td>14999</td>\n",
              "      <td>7499</td>\n",
              "      <td>50</td>\n",
              "      <td>Adidas ORIGINALS</td>\n",
              "      <td>Channeling the streamlined look of an '80s rac...</td>\n",
              "      <td>4.8</td>\n",
              "      <td>41</td>\n",
              "      <td>2020-04-13T15:06:14\\t</td>\n",
              "    </tr>\n",
              "    <tr>\n",
              "      <th>1</th>\n",
              "      <td>Women's adidas Originals Sleek Shoes</td>\n",
              "      <td>G27341</td>\n",
              "      <td>7599</td>\n",
              "      <td>3799</td>\n",
              "      <td>50</td>\n",
              "      <td>Adidas ORIGINALS</td>\n",
              "      <td>A modern take on adidas sport heritage, tailor...</td>\n",
              "      <td>3.3</td>\n",
              "      <td>24</td>\n",
              "      <td>2020-04-13T15:06:15\\t</td>\n",
              "    </tr>\n",
              "    <tr>\n",
              "      <th>2</th>\n",
              "      <td>Women's adidas Swim Puka Slippers</td>\n",
              "      <td>CM0081</td>\n",
              "      <td>999</td>\n",
              "      <td>599</td>\n",
              "      <td>40</td>\n",
              "      <td>Adidas CORE / NEO</td>\n",
              "      <td>These adidas Puka slippers for women's come wi...</td>\n",
              "      <td>2.6</td>\n",
              "      <td>37</td>\n",
              "      <td>2020-04-13T15:06:15\\t</td>\n",
              "    </tr>\n",
              "    <tr>\n",
              "      <th>3</th>\n",
              "      <td>Women's adidas Sport Inspired Questar Ride Shoes</td>\n",
              "      <td>B44832</td>\n",
              "      <td>6999</td>\n",
              "      <td>3499</td>\n",
              "      <td>50</td>\n",
              "      <td>Adidas CORE / NEO</td>\n",
              "      <td>Inspired by modern tech runners, these women's...</td>\n",
              "      <td>4.1</td>\n",
              "      <td>35</td>\n",
              "      <td>2020-04-13T15:06:15\\t</td>\n",
              "    </tr>\n",
              "    <tr>\n",
              "      <th>4</th>\n",
              "      <td>Women's adidas Originals Taekwondo Shoes</td>\n",
              "      <td>D98205</td>\n",
              "      <td>7999</td>\n",
              "      <td>3999</td>\n",
              "      <td>50</td>\n",
              "      <td>Adidas ORIGINALS</td>\n",
              "      <td>This design is inspired by vintage Taekwondo s...</td>\n",
              "      <td>3.5</td>\n",
              "      <td>72</td>\n",
              "      <td>2020-04-13T15:06:15\\t</td>\n",
              "    </tr>\n",
              "  </tbody>\n",
              "</table>\n",
              "</div>\n",
              "      <button class=\"colab-df-convert\" onclick=\"convertToInteractive('df-c8557a92-474c-4310-a778-a50350020c7d')\"\n",
              "              title=\"Convert this dataframe to an interactive table.\"\n",
              "              style=\"display:none;\">\n",
              "        \n",
              "  <svg xmlns=\"http://www.w3.org/2000/svg\" height=\"24px\"viewBox=\"0 0 24 24\"\n",
              "       width=\"24px\">\n",
              "    <path d=\"M0 0h24v24H0V0z\" fill=\"none\"/>\n",
              "    <path d=\"M18.56 5.44l.94 2.06.94-2.06 2.06-.94-2.06-.94-.94-2.06-.94 2.06-2.06.94zm-11 1L8.5 8.5l.94-2.06 2.06-.94-2.06-.94L8.5 2.5l-.94 2.06-2.06.94zm10 10l.94 2.06.94-2.06 2.06-.94-2.06-.94-.94-2.06-.94 2.06-2.06.94z\"/><path d=\"M17.41 7.96l-1.37-1.37c-.4-.4-.92-.59-1.43-.59-.52 0-1.04.2-1.43.59L10.3 9.45l-7.72 7.72c-.78.78-.78 2.05 0 2.83L4 21.41c.39.39.9.59 1.41.59.51 0 1.02-.2 1.41-.59l7.78-7.78 2.81-2.81c.8-.78.8-2.07 0-2.86zM5.41 20L4 18.59l7.72-7.72 1.47 1.35L5.41 20z\"/>\n",
              "  </svg>\n",
              "      </button>\n",
              "      \n",
              "  <style>\n",
              "    .colab-df-container {\n",
              "      display:flex;\n",
              "      flex-wrap:wrap;\n",
              "      gap: 12px;\n",
              "    }\n",
              "\n",
              "    .colab-df-convert {\n",
              "      background-color: #E8F0FE;\n",
              "      border: none;\n",
              "      border-radius: 50%;\n",
              "      cursor: pointer;\n",
              "      display: none;\n",
              "      fill: #1967D2;\n",
              "      height: 32px;\n",
              "      padding: 0 0 0 0;\n",
              "      width: 32px;\n",
              "    }\n",
              "\n",
              "    .colab-df-convert:hover {\n",
              "      background-color: #E2EBFA;\n",
              "      box-shadow: 0px 1px 2px rgba(60, 64, 67, 0.3), 0px 1px 3px 1px rgba(60, 64, 67, 0.15);\n",
              "      fill: #174EA6;\n",
              "    }\n",
              "\n",
              "    [theme=dark] .colab-df-convert {\n",
              "      background-color: #3B4455;\n",
              "      fill: #D2E3FC;\n",
              "    }\n",
              "\n",
              "    [theme=dark] .colab-df-convert:hover {\n",
              "      background-color: #434B5C;\n",
              "      box-shadow: 0px 1px 3px 1px rgba(0, 0, 0, 0.15);\n",
              "      filter: drop-shadow(0px 1px 2px rgba(0, 0, 0, 0.3));\n",
              "      fill: #FFFFFF;\n",
              "    }\n",
              "  </style>\n",
              "\n",
              "      <script>\n",
              "        const buttonEl =\n",
              "          document.querySelector('#df-c8557a92-474c-4310-a778-a50350020c7d button.colab-df-convert');\n",
              "        buttonEl.style.display =\n",
              "          google.colab.kernel.accessAllowed ? 'block' : 'none';\n",
              "\n",
              "        async function convertToInteractive(key) {\n",
              "          const element = document.querySelector('#df-c8557a92-474c-4310-a778-a50350020c7d');\n",
              "          const dataTable =\n",
              "            await google.colab.kernel.invokeFunction('convertToInteractive',\n",
              "                                                     [key], {});\n",
              "          if (!dataTable) return;\n",
              "\n",
              "          const docLinkHtml = 'Like what you see? Visit the ' +\n",
              "            '<a target=\"_blank\" href=https://colab.research.google.com/notebooks/data_table.ipynb>data table notebook</a>'\n",
              "            + ' to learn more about interactive tables.';\n",
              "          element.innerHTML = '';\n",
              "          dataTable['output_type'] = 'display_data';\n",
              "          await google.colab.output.renderOutput(dataTable, element);\n",
              "          const docLink = document.createElement('div');\n",
              "          docLink.innerHTML = docLinkHtml;\n",
              "          element.appendChild(docLink);\n",
              "        }\n",
              "      </script>\n",
              "    </div>\n",
              "  </div>\n",
              "  "
            ]
          },
          "metadata": {},
          "execution_count": 199
        }
      ]
    },
    {
      "cell_type": "code",
      "source": [
        "#cek informasi data\n",
        "df.info()"
      ],
      "metadata": {
        "colab": {
          "base_uri": "https://localhost:8080/"
        },
        "id": "hOyDIwkzQd8b",
        "outputId": "08a651ed-0ae2-451c-f637-307a496c983c"
      },
      "execution_count": null,
      "outputs": [
        {
          "output_type": "stream",
          "name": "stdout",
          "text": [
            "<class 'pandas.core.frame.DataFrame'>\n",
            "RangeIndex: 3268 entries, 0 to 3267\n",
            "Data columns (total 10 columns):\n",
            " #   Column         Non-Null Count  Dtype  \n",
            "---  ------         --------------  -----  \n",
            " 0   Product Name   3268 non-null   object \n",
            " 1   Product ID     3268 non-null   object \n",
            " 2   Listing Price  3268 non-null   int64  \n",
            " 3   Sale Price     3268 non-null   int64  \n",
            " 4   Discount       3268 non-null   int64  \n",
            " 5   Brand          3268 non-null   object \n",
            " 6   Description    3265 non-null   object \n",
            " 7   Rating         3268 non-null   float64\n",
            " 8   Reviews        3268 non-null   int64  \n",
            " 9   Last Visited\t  3268 non-null   object \n",
            "dtypes: float64(1), int64(4), object(5)\n",
            "memory usage: 255.4+ KB\n"
          ]
        }
      ]
    },
    {
      "cell_type": "code",
      "source": [
        "# Data kategori\n",
        "categorical = [\"Brand\"]\n",
        "df_categorical = df[categorical]\n",
        "df_categorical.head()"
      ],
      "metadata": {
        "colab": {
          "base_uri": "https://localhost:8080/",
          "height": 206
        },
        "id": "fEq_ZAaTQNw3",
        "outputId": "0e6d8a4d-3405-4e51-bc1e-62216a0ed9b0"
      },
      "execution_count": null,
      "outputs": [
        {
          "output_type": "execute_result",
          "data": {
            "text/plain": [
              "               Brand\n",
              "0   Adidas ORIGINALS\n",
              "1   Adidas ORIGINALS\n",
              "2  Adidas CORE / NEO\n",
              "3  Adidas CORE / NEO\n",
              "4   Adidas ORIGINALS"
            ],
            "text/html": [
              "\n",
              "  <div id=\"df-ec0840c7-f0a0-43d3-8724-fc55d7d0d94a\">\n",
              "    <div class=\"colab-df-container\">\n",
              "      <div>\n",
              "<style scoped>\n",
              "    .dataframe tbody tr th:only-of-type {\n",
              "        vertical-align: middle;\n",
              "    }\n",
              "\n",
              "    .dataframe tbody tr th {\n",
              "        vertical-align: top;\n",
              "    }\n",
              "\n",
              "    .dataframe thead th {\n",
              "        text-align: right;\n",
              "    }\n",
              "</style>\n",
              "<table border=\"1\" class=\"dataframe\">\n",
              "  <thead>\n",
              "    <tr style=\"text-align: right;\">\n",
              "      <th></th>\n",
              "      <th>Brand</th>\n",
              "    </tr>\n",
              "  </thead>\n",
              "  <tbody>\n",
              "    <tr>\n",
              "      <th>0</th>\n",
              "      <td>Adidas ORIGINALS</td>\n",
              "    </tr>\n",
              "    <tr>\n",
              "      <th>1</th>\n",
              "      <td>Adidas ORIGINALS</td>\n",
              "    </tr>\n",
              "    <tr>\n",
              "      <th>2</th>\n",
              "      <td>Adidas CORE / NEO</td>\n",
              "    </tr>\n",
              "    <tr>\n",
              "      <th>3</th>\n",
              "      <td>Adidas CORE / NEO</td>\n",
              "    </tr>\n",
              "    <tr>\n",
              "      <th>4</th>\n",
              "      <td>Adidas ORIGINALS</td>\n",
              "    </tr>\n",
              "  </tbody>\n",
              "</table>\n",
              "</div>\n",
              "      <button class=\"colab-df-convert\" onclick=\"convertToInteractive('df-ec0840c7-f0a0-43d3-8724-fc55d7d0d94a')\"\n",
              "              title=\"Convert this dataframe to an interactive table.\"\n",
              "              style=\"display:none;\">\n",
              "        \n",
              "  <svg xmlns=\"http://www.w3.org/2000/svg\" height=\"24px\"viewBox=\"0 0 24 24\"\n",
              "       width=\"24px\">\n",
              "    <path d=\"M0 0h24v24H0V0z\" fill=\"none\"/>\n",
              "    <path d=\"M18.56 5.44l.94 2.06.94-2.06 2.06-.94-2.06-.94-.94-2.06-.94 2.06-2.06.94zm-11 1L8.5 8.5l.94-2.06 2.06-.94-2.06-.94L8.5 2.5l-.94 2.06-2.06.94zm10 10l.94 2.06.94-2.06 2.06-.94-2.06-.94-.94-2.06-.94 2.06-2.06.94z\"/><path d=\"M17.41 7.96l-1.37-1.37c-.4-.4-.92-.59-1.43-.59-.52 0-1.04.2-1.43.59L10.3 9.45l-7.72 7.72c-.78.78-.78 2.05 0 2.83L4 21.41c.39.39.9.59 1.41.59.51 0 1.02-.2 1.41-.59l7.78-7.78 2.81-2.81c.8-.78.8-2.07 0-2.86zM5.41 20L4 18.59l7.72-7.72 1.47 1.35L5.41 20z\"/>\n",
              "  </svg>\n",
              "      </button>\n",
              "      \n",
              "  <style>\n",
              "    .colab-df-container {\n",
              "      display:flex;\n",
              "      flex-wrap:wrap;\n",
              "      gap: 12px;\n",
              "    }\n",
              "\n",
              "    .colab-df-convert {\n",
              "      background-color: #E8F0FE;\n",
              "      border: none;\n",
              "      border-radius: 50%;\n",
              "      cursor: pointer;\n",
              "      display: none;\n",
              "      fill: #1967D2;\n",
              "      height: 32px;\n",
              "      padding: 0 0 0 0;\n",
              "      width: 32px;\n",
              "    }\n",
              "\n",
              "    .colab-df-convert:hover {\n",
              "      background-color: #E2EBFA;\n",
              "      box-shadow: 0px 1px 2px rgba(60, 64, 67, 0.3), 0px 1px 3px 1px rgba(60, 64, 67, 0.15);\n",
              "      fill: #174EA6;\n",
              "    }\n",
              "\n",
              "    [theme=dark] .colab-df-convert {\n",
              "      background-color: #3B4455;\n",
              "      fill: #D2E3FC;\n",
              "    }\n",
              "\n",
              "    [theme=dark] .colab-df-convert:hover {\n",
              "      background-color: #434B5C;\n",
              "      box-shadow: 0px 1px 3px 1px rgba(0, 0, 0, 0.15);\n",
              "      filter: drop-shadow(0px 1px 2px rgba(0, 0, 0, 0.3));\n",
              "      fill: #FFFFFF;\n",
              "    }\n",
              "  </style>\n",
              "\n",
              "      <script>\n",
              "        const buttonEl =\n",
              "          document.querySelector('#df-ec0840c7-f0a0-43d3-8724-fc55d7d0d94a button.colab-df-convert');\n",
              "        buttonEl.style.display =\n",
              "          google.colab.kernel.accessAllowed ? 'block' : 'none';\n",
              "\n",
              "        async function convertToInteractive(key) {\n",
              "          const element = document.querySelector('#df-ec0840c7-f0a0-43d3-8724-fc55d7d0d94a');\n",
              "          const dataTable =\n",
              "            await google.colab.kernel.invokeFunction('convertToInteractive',\n",
              "                                                     [key], {});\n",
              "          if (!dataTable) return;\n",
              "\n",
              "          const docLinkHtml = 'Like what you see? Visit the ' +\n",
              "            '<a target=\"_blank\" href=https://colab.research.google.com/notebooks/data_table.ipynb>data table notebook</a>'\n",
              "            + ' to learn more about interactive tables.';\n",
              "          element.innerHTML = '';\n",
              "          dataTable['output_type'] = 'display_data';\n",
              "          await google.colab.output.renderOutput(dataTable, element);\n",
              "          const docLink = document.createElement('div');\n",
              "          docLink.innerHTML = docLinkHtml;\n",
              "          element.appendChild(docLink);\n",
              "        }\n",
              "      </script>\n",
              "    </div>\n",
              "  </div>\n",
              "  "
            ]
          },
          "metadata": {},
          "execution_count": 201
        }
      ]
    },
    {
      "cell_type": "markdown",
      "metadata": {
        "id": "LlIjc1XzX-VQ"
      },
      "source": [
        "> **Dalam materi ini, data preprocessing seperti cek missing value, duplicate data, data type tidak akan dilakukan, karena fokus dari materi adalah pada clustering. Anda dapat membuka kembali materi sebelumnya dan menerapkankan sendiri dalam materi ini jika ingin menganalisis secara lengkap.**"
      ]
    },
    {
      "cell_type": "markdown",
      "metadata": {
        "id": "qdUBusj8kE8k"
      },
      "source": [
        "## Exploratory Data Analysis (EDA)"
      ]
    },
    {
      "cell_type": "markdown",
      "source": [
        "persebaran data product"
      ],
      "metadata": {
        "id": "0InyNkmkRXgW"
      }
    },
    {
      "cell_type": "code",
      "source": [
        "#Persebaran data\n",
        "sns.boxplot(df[\"Discount\"])"
      ],
      "metadata": {
        "colab": {
          "base_uri": "https://localhost:8080/",
          "height": 447
        },
        "id": "tdd6wMS6RnmO",
        "outputId": "88be7f74-b652-4690-e579-ad2e1369206d"
      },
      "execution_count": null,
      "outputs": [
        {
          "output_type": "execute_result",
          "data": {
            "text/plain": [
              "<Axes: >"
            ]
          },
          "metadata": {},
          "execution_count": 202
        },
        {
          "output_type": "display_data",
          "data": {
            "text/plain": [
              "<Figure size 640x480 with 1 Axes>"
            ],
            "image/png": "[encoded data removed]"
          },
          "metadata": {}
        }
      ]
    },
    {
      "cell_type": "code",
      "source": [
        "# Menggolongkan diskon dan melihat persebarannya dalam data\n",
        "price15below = df.Discount[(df.Discount <= 15) & (df.Discount >= 0)]\n",
        "price16_30 = df.Discount[(df.Discount <= 30) & (df.Discount >= 16)]\n",
        "price31_45 = df.Discount[(df.Discount <= 45) & (df.Discount >= 31)]\n",
        "price46above = df.Discount[(df.Discount >= 46)]\n",
        "\n",
        "x = [\"15\",\"16_30\",\"31_45\",\"46+\"]\n",
        "y = [len(price15below.values),len(price16_30.values),len(price31_45.values),len(price46above.values)]\n",
        "\n",
        "plt.figure(figsize=(15,6))\n",
        "sns.barplot(x=x, y=y, palette=\"rocket\")\n",
        "plt.title(\"Number of Product and Discount\")\n",
        "plt.xlabel(\"Discount\")\n",
        "plt.ylabel(\"Number of Product\")\n",
        "plt.show()"
      ],
      "metadata": {
        "colab": {
          "base_uri": "https://localhost:8080/",
          "height": 564
        },
        "id": "nbo8kwUoW4uG",
        "outputId": "0c1e748b-8747-48a4-a971-805451ed7eb8"
      },
      "execution_count": null,
      "outputs": [
        {
          "output_type": "display_data",
          "data": {
            "text/plain": [
              "<Figure size 1500x600 with 1 Axes>"
            ],
            "image/png": "[encoded data removed]"
          },
          "metadata": {}
        }
      ]
    },
    {
      "cell_type": "code",
      "source": [
        "#Persebaran data rating\n",
        "sns.boxplot(df[\"Rating\"])"
      ],
      "metadata": {
        "colab": {
          "base_uri": "https://localhost:8080/",
          "height": 447
        },
        "id": "YC4I5dAlZo_D",
        "outputId": "d0280ad4-70ae-434e-f4e2-7fb5d59e6387"
      },
      "execution_count": null,
      "outputs": [
        {
          "output_type": "execute_result",
          "data": {
            "text/plain": [
              "<Axes: >"
            ]
          },
          "metadata": {},
          "execution_count": 204
        },
        {
          "output_type": "display_data",
          "data": {
            "text/plain": [
              "<Figure size 640x480 with 1 Axes>"
            ],
            "image/png": "[encoded data removed]"
          },
          "metadata": {}
        }
      ]
    },
    {
      "cell_type": "code",
      "source": [
        "# Menggolongkan diskon dan melihat persebarannya dalam data\n",
        "rating1below = df.Rating[(df.Rating <= 1) & (df.Rating >= 0)]\n",
        "rating2 = df.Rating[(df.Rating<= 2) & (df.Rating >= 1)]\n",
        "rating3 = df.Rating[(df.Rating <= 3) & (df.Rating >= 2)]\n",
        "rating4 = df.Rating[(df.Rating <= 4) & (df.Rating >= 3)]\n",
        "rating5 = df.Rating[(df.Rating <= 5) & (df.Rating >= 4)]\n",
        "\n",
        "x = [\"2\",\"2\",\"3\",\"4\", \"5\"]\n",
        "y = [len(rating1below.values),len(rating2.values),len(rating3.values),len(rating4.values),len(rating5.values)]\n",
        "\n",
        "plt.figure(figsize=(15,6))\n",
        "sns.barplot(x=x, y=y, palette=\"rocket\")\n",
        "plt.title(\"Number of Product and Rating\")\n",
        "plt.xlabel(\"Rating\")\n",
        "plt.ylabel(\"Name of Product\")\n",
        "plt.show()"
      ],
      "metadata": {
        "colab": {
          "base_uri": "https://localhost:8080/",
          "height": 564
        },
        "id": "lFP_CmBzZ1H3",
        "outputId": "f7436040-bceb-476a-eba9-4dcbba292ab5"
      },
      "execution_count": null,
      "outputs": [
        {
          "output_type": "display_data",
          "data": {
            "text/plain": [
              "<Figure size 1500x600 with 1 Axes>"
            ],
            "image/png": "[encoded data removed]"
          },
          "metadata": {}
        }
      ]
    },
    {
      "cell_type": "markdown",
      "source": [
        "## Handling outlier"
      ],
      "metadata": {
        "id": "KgVIuL9VCX3t"
      }
    },
    {
      "cell_type": "markdown",
      "source": [
        "## Kolom Reviews"
      ],
      "metadata": {
        "id": "UVL2g-yiC-1T"
      }
    },
    {
      "cell_type": "code",
      "source": [
        "#Persebaran data review\n",
        "sns.boxplot(df[\"Reviews\"])"
      ],
      "metadata": {
        "colab": {
          "base_uri": "https://localhost:8080/",
          "height": 447
        },
        "id": "GAAKDHYIbU1T",
        "outputId": "3d2c9b8b-b587-4296-ac57-2f3758b7e7cc"
      },
      "execution_count": null,
      "outputs": [
        {
          "output_type": "execute_result",
          "data": {
            "text/plain": [
              "<Axes: >"
            ]
          },
          "metadata": {},
          "execution_count": 206
        },
        {
          "output_type": "display_data",
          "data": {
            "text/plain": [
              "<Figure size 640x480 with 1 Axes>"
            ],
            "image/png": "[encoded data removed]"
          },
          "metadata": {}
        }
      ]
    },
    {
      "cell_type": "code",
      "source": [
        "import statistics"
      ],
      "metadata": {
        "id": "7cVtAd0BDMxN"
      },
      "execution_count": null,
      "outputs": []
    },
    {
      "cell_type": "code",
      "source": [
        "# Fungsi Pendeteksian Outlier dengan IQR\n",
        "def detect_outliers_iqr(df):\n",
        "    outliers = []\n",
        "    df = sorted(df)\n",
        "    q1 = np.percentile(df, 25)\n",
        "    q3 = np.percentile(df, 75)\n",
        "\n",
        "    IQR = q3-q1\n",
        "    lwr_bound = q1-(1.5*IQR)\n",
        "    upr_bound = q3+(1.5*IQR)\n",
        "\n",
        "    for i in df: \n",
        "        if (i<lwr_bound or i>upr_bound):\n",
        "            outliers.append(i)\n",
        "    return outliers\n",
        "score_outliers = detect_outliers_iqr(df['Reviews'])\n",
        "print(\"Outliers from IQR method: \", score_outliers)\n",
        "print(\"Banyaknya outlier: \",len(score_outliers))"
      ],
      "metadata": {
        "colab": {
          "base_uri": "https://localhost:8080/"
        },
        "id": "d33hObXBCa6u",
        "outputId": "1729bf6a-14a0-4b64-c1fb-97be5453e23c"
      },
      "execution_count": null,
      "outputs": [
        {
          "output_type": "stream",
          "name": "stdout",
          "text": [
            "Outliers from IQR method:  [223]\n",
            "Banyaknya outlier:  1\n"
          ]
        }
      ]
    },
    {
      "cell_type": "code",
      "source": [
        "# Menghapus outlier\n",
        "tr = []\n",
        "for j in df['Reviews']:\n",
        "    f = j in score_outliers\n",
        "    if f is False:\n",
        "        tr.append(j)\n",
        "print(tr)"
      ],
      "metadata": {
        "colab": {
          "base_uri": "https://localhost:8080/"
        },
        "id": "fPmZRUhVCxCB",
        "outputId": "c7065bb7-45f9-47fa-9e54-7378db40d66f"
      },
      "execution_count": null,
      "outputs": [
        {
          "output_type": "stream",
          "name": "stdout",
          "text": [
            "[41, 24, 37, 35, 72, 45, 2, 7, 16, 39, 36, 35, 97, 62, 16, 69, 16, 8, 62, 67, 30, 43, 13, 81, 70, 46, 63, 95, 15, 34, 86, 3, 67, 5, 85, 4, 35, 13, 20, 41, 72, 32, 84, 75, 4, 48, 12, 83, 11, 42, 69, 33, 35, 18, 89, 47, 94, 35, 39, 98, 6, 17, 77, 17, 28, 88, 23, 8, 64, 52, 70, 59, 14, 2, 38, 85, 6, 46, 9, 87, 28, 87, 66, 54, 66, 1, 94, 49, 6, 99, 67, 49, 42, 90, 88, 44, 74, 19, 54, 79, 5, 96, 41, 8, 80, 22, 94, 68, 3, 46, 50, 75, 71, 48, 36, 7, 69, 71, 65, 3, 74, 2, 84, 34, 54, 49, 35, 48, 25, 51, 12, 51, 31, 41, 5, 78, 96, 26, 53, 78, 90, 96, 82, 69, 21, 88, 32, 20, 44, 69, 66, 65, 56, 15, 51, 84, 57, 43, 83, 14, 62, 49, 37, 38, 88, 98, 93, 18, 23, 59, 90, 37, 47, 46, 85, 68, 74, 1, 48, 0, 14, 69, 83, 86, 90, 58, 73, 11, 32, 78, 47, 81, 15, 98, 1, 51, 57, 50, 80, 75, 90, 68, 15, 64, 79, 70, 68, 23, 70, 42, 77, 52, 92, 29, 93, 24, 1, 83, 68, 73, 50, 61, 35, 98, 49, 50, 52, 91, 51, 81, 48, 98, 9, 35, 78, 90, 15, 2, 78, 47, 24, 35, 73, 43, 35, 53, 83, 45, 66, 75, 94, 6, 65, 36, 25, 8, 75, 94, 57, 77, 26, 37, 24, 6, 84, 7, 25, 99, 9, 35, 25, 13, 45, 34, 13, 60, 91, 33, 39, 34, 67, 83, 49, 64, 18, 74, 81, 30, 64, 72, 87, 43, 15, 81, 54, 15, 17, 30, 73, 27, 43, 49, 80, 65, 87, 43, 58, 0, 94, 52, 39, 21, 87, 42, 8, 74, 23, 59, 89, 99, 28, 97, 22, 15, 28, 70, 43, 65, 51, 89, 96, 74, 58, 2, 53, 8, 91, 85, 2, 40, 28, 18, 49, 3, 7, 53, 26, 49, 58, 79, 17, 93, 32, 97, 29, 89, 62, 22, 85, 47, 38, 40, 92, 20, 43, 85, 37, 31, 16, 42, 82, 24, 84, 44, 76, 12, 39, 12, 26, 89, 16, 76, 93, 51, 34, 39, 54, 81, 60, 19, 57, 16, 2, 39, 58, 38, 64, 22, 93, 54, 27, 80, 9, 29, 31, 1, 94, 65, 6, 67, 36, 45, 4, 11, 35, 85, 72, 74, 77, 14, 84, 94, 17, 60, 5, 99, 35, 36, 37, 59, 88, 77, 31, 63, 34, 73, 41, 2, 84, 70, 47, 94, 48, 30, 98, 4, 31, 79, 96, 21, 16, 81, 36, 95, 28, 22, 82, 7, 32, 70, 22, 46, 21, 34, 86, 1, 20, 1, 25, 37, 95, 53, 49, 79, 90, 84, 19, 40, 0, 4, 63, 43, 21, 35, 23, 40, 14, 95, 20, 21, 88, 82, 99, 53, 15, 35, 57, 8, 26, 24, 75, 17, 34, 62, 38, 17, 33, 80, 45, 72, 13, 48, 71, 46, 86, 89, 34, 93, 88, 7, 90, 88, 16, 79, 10, 24, 12, 94, 84, 13, 0, 93, 43, 67, 3, 73, 91, 53, 29, 28, 60, 36, 41, 70, 88, 77, 95, 18, 25, 77, 68, 53, 63, 34, 87, 42, 78, 8, 23, 85, 99, 72, 69, 85, 30, 0, 88, 74, 24, 95, 39, 28, 11, 34, 91, 42, 81, 59, 27, 6, 47, 38, 83, 59, 98, 56, 62, 15, 72, 7, 35, 21, 48, 40, 24, 65, 44, 75, 87, 11, 2, 64, 56, 57, 3, 74, 86, 58, 54, 28, 14, 69, 78, 37, 80, 28, 1, 75, 76, 39, 80, 82, 53, 69, 58, 91, 75, 97, 14, 31, 11, 17, 29, 38, 48, 25, 45, 0, 5, 6, 30, 28, 40, 25, 65, 91, 87, 39, 41, 39, 80, 12, 0, 56, 87, 65, 25, 27, 98, 66, 41, 83, 86, 50, 69, 51, 67, 99, 14, 10, 4, 82, 7, 57, 70, 57, 58, 76, 82, 10, 52, 33, 65, 1, 30, 95, 30, 47, 72, 1, 17, 66, 62, 6, 57, 68, 61, 91, 59, 70, 82, 47, 83, 45, 31, 71, 49, 44, 28, 31, 71, 16, 81, 24, 34, 2, 81, 59, 12, 67, 82, 1, 84, 99, 74, 45, 14, 6, 24, 69, 1, 92, 65, 53, 30, 47, 26, 3, 33, 64, 40, 53, 98, 12, 68, 2, 87, 84, 51, 81, 54, 85, 15, 52, 54, 53, 57, 48, 85, 69, 45, 79, 81, 22, 17, 67, 91, 14, 61, 19, 23, 85, 93, 78, 51, 15, 54, 10, 4, 27, 91, 83, 76, 3, 43, 84, 88, 95, 10, 92, 3, 44, 10, 42, 1, 34, 52, 19, 88, 26, 11, 61, 33, 42, 32, 55, 20, 16, 55, 42, 74, 46, 57, 69, 33, 31, 78, 21, 22, 95, 62, 25, 40, 5, 98, 5, 44, 40, 72, 30, 58, 85, 40, 90, 34, 53, 21, 86, 55, 21, 59, 41, 61, 47, 89, 93, 66, 68, 77, 29, 67, 93, 70, 27, 17, 5, 84, 74, 1, 37, 10, 52, 75, 66, 27, 96, 95, 40, 87, 7, 87, 2, 20, 55, 28, 78, 55, 30, 95, 74, 58, 2, 68, 91, 61, 24, 73, 98, 67, 34, 81, 3, 89, 60, 78, 92, 78, 73, 9, 68, 62, 5, 53, 13, 6, 13, 78, 77, 73, 38, 14, 62, 9, 33, 83, 20, 77, 21, 51, 15, 4, 18, 50, 98, 71, 27, 64, 19, 17, 64, 65, 26, 72, 0, 96, 64, 46, 47, 58, 83, 22, 66, 72, 94, 51, 40, 45, 59, 68, 34, 69, 15, 65, 72, 0, 83, 83, 53, 13, 25, 44, 85, 83, 24, 70, 30, 17, 29, 51, 92, 34, 77, 50, 20, 2, 19, 98, 10, 4, 74, 90, 55, 14, 39, 34, 37, 63, 71, 48, 24, 82, 64, 7, 52, 0, 73, 46, 86, 85, 43, 83, 18, 93, 23, 8, 20, 48, 30, 37, 9, 20, 60, 95, 8, 87, 63, 90, 35, 28, 17, 33, 51, 2, 48, 38, 38, 62, 80, 83, 92, 83, 52, 47, 5, 79, 75, 71, 62, 28, 96, 8, 38, 1, 36, 74, 37, 22, 26, 20, 89, 57, 32, 32, 24, 85, 8, 26, 77, 2, 86, 75, 29, 34, 39, 16, 18, 64, 53, 40, 81, 64, 91, 40, 99, 19, 4, 59, 67, 91, 30, 86, 71, 9, 64, 39, 20, 11, 10, 23, 76, 8, 72, 31, 54, 57, 85, 8, 77, 1, 13, 48, 17, 19, 67, 89, 6, 42, 69, 36, 17, 37, 19, 4, 33, 65, 37, 14, 67, 17, 97, 57, 0, 15, 57, 46, 62, 2, 65, 6, 96, 37, 86, 28, 89, 99, 6, 88, 4, 61, 40, 49, 64, 59, 52, 35, 59, 50, 83, 73, 99, 15, 53, 32, 71, 41, 22, 20, 85, 54, 1, 56, 3, 61, 43, 44, 45, 20, 78, 50, 18, 25, 98, 53, 55, 45, 19, 52, 13, 55, 28, 13, 54, 45, 76, 73, 47, 93, 69, 65, 38, 62, 6, 89, 6, 10, 9, 8, 66, 32, 16, 49, 64, 0, 46, 88, 52, 46, 93, 4, 24, 74, 72, 62, 97, 56, 36, 44, 10, 48, 48, 83, 15, 69, 17, 23, 30, 12, 84, 42, 76, 72, 89, 53, 66, 24, 10, 1, 60, 47, 98, 35, 50, 47, 67, 59, 54, 25, 92, 53, 57, 22, 22, 76, 85, 60, 61, 68, 63, 34, 58, 61, 57, 41, 82, 84, 75, 83, 12, 8, 69, 61, 31, 38, 73, 99, 26, 63, 5, 1, 24, 47, 33, 61, 0, 50, 20, 70, 98, 88, 51, 69, 39, 16, 94, 80, 26, 62, 91, 93, 92, 7, 88, 32, 28, 59, 21, 67, 9, 22, 0, 26, 13, 93, 72, 75, 67, 67, 31, 65, 79, 23, 58, 91, 97, 22, 92, 86, 17, 7, 48, 73, 25, 98, 15, 37, 74, 10, 5, 96, 90, 91, 55, 54, 97, 87, 38, 41, 83, 37, 32, 24, 91, 42, 10, 51, 79, 53, 74, 57, 76, 78, 96, 27, 53, 29, 81, 34, 5, 2, 35, 30, 83, 30, 74, 9, 50, 24, 75, 45, 43, 70, 84, 9, 97, 64, 99, 89, 14, 3, 86, 19, 2, 25, 78, 92, 81, 44, 66, 93, 27, 57, 47, 79, 89, 86, 56, 89, 84, 47, 62, 10, 79, 43, 14, 83, 80, 10, 95, 5, 29, 33, 32, 74, 82, 64, 41, 43, 53, 77, 67, 80, 66, 20, 97, 69, 46, 32, 67, 32, 17, 37, 79, 71, 66, 76, 58, 5, 29, 61, 84, 57, 27, 6, 17, 69, 56, 54, 15, 40, 88, 52, 56, 68, 55, 34, 31, 85, 61, 45, 73, 33, 26, 11, 97, 94, 44, 90, 46, 22, 81, 96, 6, 24, 13, 45, 72, 15, 33, 95, 9, 21, 88, 52, 52, 21, 38, 12, 70, 96, 83, 72, 27, 87, 44, 80, 33, 37, 14, 27, 18, 84, 1, 51, 78, 46, 44, 37, 24, 14, 76, 5, 85, 92, 30, 36, 63, 49, 58, 41, 50, 45, 2, 40, 26, 87, 87, 43, 53, 65, 97, 91, 98, 28, 95, 97, 59, 49, 80, 7, 4, 50, 10, 80, 18, 5, 4, 27, 19, 36, 10, 2, 40, 18, 62, 24, 67, 96, 49, 99, 60, 60, 70, 59, 2, 57, 7, 0, 85, 55, 6, 78, 47, 21, 78, 50, 98, 89, 29, 40, 71, 46, 81, 65, 23, 81, 33, 76, 76, 29, 5, 46, 24, 66, 52, 47, 89, 33, 9, 26, 14, 96, 81, 38, 73, 19, 6, 22, 87, 38, 69, 21, 17, 35, 57, 98, 35, 25, 44, 14, 98, 17, 20, 30, 93, 78, 27, 19, 31, 43, 55, 22, 96, 53, 38, 59, 97, 47, 37, 9, 9, 20, 62, 77, 4, 63, 92, 10, 61, 0, 78, 54, 96, 89, 48, 49, 88, 68, 66, 84, 65, 13, 44, 61, 57, 11, 69, 45, 13, 91, 51, 74, 33, 9, 33, 7, 88, 51, 68, 87, 36, 45, 96, 10, 85, 72, 90, 41, 82, 32, 84, 78, 92, 2, 24, 64, 20, 52, 37, 31, 63, 56, 55, 31, 61, 80, 17, 79, 88, 81, 7, 63, 60, 78, 28, 98, 70, 95, 55, 57, 2, 71, 53, 97, 96, 6, 70, 47, 18, 16, 16, 52, 18, 12, 16, 58, 82, 4, 80, 3, 95, 1, 52, 15, 43, 38, 13, 64, 91, 9, 9, 11, 41, 92, 4, 44, 28, 44, 19, 18, 17, 51, 78, 82, 43, 11, 60, 71, 41, 12, 70, 82, 82, 43, 13, 16, 58, 4, 52, 27, 4, 50, 31, 23, 31, 90, 80, 93, 3, 54, 52, 99, 42, 53, 78, 10, 3, 35, 94, 33, 62, 57, 51, 53, 9, 29, 8, 28, 91, 73, 1, 28, 63, 21, 85, 7, 71, 77, 7, 73, 54, 75, 63, 65, 1, 25, 57, 34, 86, 67, 64, 90, 27, 29, 25, 52, 75, 77, 56, 62, 97, 35, 59, 6, 86, 28, 67, 18, 13, 95, 43, 31, 19, 61, 8, 93, 10, 19, 61, 81, 48, 75, 10, 71, 68, 76, 82, 62, 6, 83, 34, 34, 54, 26, 96, 47, 98, 69, 46, 36, 85, 56, 50, 48, 76, 35, 23, 58, 95, 0, 65, 2, 83, 28, 61, 40, 67, 0, 84, 2, 95, 45, 31, 87, 2, 92, 12, 78, 60, 44, 88, 73, 1, 33, 49, 39, 50, 85, 45, 95, 95, 10, 9, 65, 27, 46, 65, 5, 95, 24, 24, 29, 3, 25, 39, 0, 18, 12, 73, 11, 96, 85, 50, 14, 65, 85, 66, 82, 44, 56, 42, 20, 20, 91, 30, 62, 13, 0, 43, 61, 13, 3, 48, 89, 9, 5, 24, 83, 37, 61, 13, 46, 16, 23, 23, 12, 66, 23, 68, 11, 79, 3, 13, 23, 13, 49, 57, 68, 99, 18, 27, 93, 86, 15, 45, 80, 30, 10, 4, 2, 83, 85, 88, 16, 28, 98, 74, 20, 42, 15, 20, 61, 78, 0, 26, 12, 16, 59, 8, 92, 95, 36, 65, 43, 79, 99, 27, 2, 58, 8, 4, 29, 46, 72, 24, 36, 97, 1, 7, 18, 1, 53, 74, 22, 88, 49, 85, 43, 36, 23, 48, 54, 70, 16, 20, 61, 58, 11, 81, 30, 52, 50, 2, 50, 2, 3, 90, 66, 47, 63, 46, 56, 86, 33, 0, 39, 34, 78, 10, 2, 56, 30, 18, 83, 88, 98, 82, 26, 56, 12, 88, 52, 59, 0, 36, 90, 20, 36, 62, 21, 90, 84, 48, 32, 40, 10, 21, 40, 51, 35, 47, 38, 18, 37, 26, 89, 19, 9, 4, 36, 78, 10, 21, 54, 68, 35, 24, 52, 10, 87, 83, 76, 34, 3, 50, 23, 23, 58, 1, 43, 74, 98, 73, 16, 88, 31, 41, 2, 51, 50, 29, 34, 34, 10, 63, 69, 77, 99, 23, 82, 6, 12, 68, 7, 0, 9, 75, 64, 27, 97, 19, 73, 19, 34, 4, 50, 36, 1, 43, 80, 34, 88, 38, 45, 80, 86, 97, 15, 56, 16, 97, 7, 24, 0, 39, 54, 62, 83, 50, 18, 54, 52, 76, 78, 1, 59, 85, 75, 16, 7, 34, 24, 79, 48, 72, 40, 82, 68, 18, 98, 91, 0, 94, 5, 66, 50, 66, 79, 18, 78, 30, 35, 83, 25, 66, 25, 41, 13, 54, 4, 78, 98, 1, 40, 90, 51, 15, 72, 11, 14, 2, 48, 65, 85, 5, 67, 57, 78, 19, 14, 52, 64, 23, 88, 23, 18, 27, 34, 86, 65, 74, 24, 96, 86, 29, 12, 46, 51, 47, 85, 77, 20, 42, 8, 12, 72, 84, 28, 79, 53, 43, 7, 43, 11, 39, 85, 85, 40, 92, 54, 95, 14, 3, 10, 58, 72, 32, 30, 90, 37, 93, 4, 36, 95, 69, 20, 6, 91, 88, 5, 8, 6, 64, 27, 21, 56, 34, 24, 51, 93, 12, 68, 21, 52, 62, 30, 87, 56, 97, 25, 13, 43, 80, 20, 77, 44, 63, 40, 62, 75, 86, 15, 64, 71, 54, 50, 3, 71, 67, 52, 83, 15, 49, 43, 54, 22, 94, 9, 10, 9, 89, 82, 0, 4, 70, 46, 61, 9, 66, 88, 11, 6, 66, 35, 96, 15, 34, 57, 65, 87, 52, 91, 11, 54, 6, 22, 26, 77, 23, 12, 53, 47, 80, 76, 81, 33, 75, 87, 15, 43, 88, 22, 26, 7, 50, 74, 56, 46, 64, 61, 11, 97, 51, 57, 49, 13, 50, 65, 3, 81, 50, 54, 80, 98, 87, 70, 30, 75, 24, 63, 49, 52, 5, 70, 61, 46, 33, 26, 14, 68, 94, 16, 33, 48, 16, 75, 47, 13, 49, 44, 76, 41, 41, 50, 94, 94, 2, 67, 24, 46, 90, 81, 40, 12, 52, 40, 0, 78, 70, 32, 26, 26, 88, 88, 87, 77, 94, 96, 70, 53, 53, 56, 75, 94, 60, 16, 94, 38, 23, 10, 39, 72, 86, 19, 48, 16, 2, 1, 58, 62, 26, 5, 41, 64, 59, 91, 13, 4, 88, 53, 56, 52, 87, 28, 40, 88, 87, 76, 43, 22, 5, 81, 94, 33, 17, 63, 59, 18, 80, 74, 38, 52, 8, 48, 7, 37, 88, 83, 53, 94, 67, 69, 16, 58, 99, 29, 19, 84, 36, 44, 18, 29, 39, 48, 19, 21, 74, 34, 58, 1, 53, 31, 31, 41, 37, 29, 64, 58, 45, 69, 15, 68, 5, 15, 22, 8, 40, 78, 22, 47, 84, 50, 6, 98, 81, 39, 71, 62, 89, 35, 21, 7, 58, 92, 55, 88, 26, 42, 48, 68, 43, 47, 30, 87, 6, 89, 0, 0, 0, 0, 0, 0, 0, 1, 14, 2, 9, 67, 0, 0, 48, 34, 0, 16, 0, 0, 0, 6, 2, 22, 0, 65, 0, 1, 4, 0, 5, 1, 7, 0, 0, 0, 3, 0, 1, 13, 7, 3, 0, 61, 0, 0, 0, 0, 0, 0, 0, 0, 0, 2, 31, 2, 0, 0, 1, 0, 2, 0, 0, 1, 47, 0, 0, 2, 0, 2, 9, 0, 8, 1, 0, 33, 27, 9, 0, 3, 0, 0, 1, 0, 0, 0, 11, 10, 2, 0, 5, 2, 20, 0, 2, 12, 3, 2, 0, 8, 5, 1, 1, 1, 5, 18, 0, 1, 3, 81, 0, 6, 3, 0, 3, 2, 0, 7, 1, 25, 7, 0, 6, 12, 9, 24, 1, 0, 0, 3, 1, 0, 0, 5, 17, 0, 0, 2, 0, 2, 3, 0, 3, 0, 50, 2, 20, 0, 17, 1, 2, 8, 54, 6, 68, 17, 27, 0, 0, 0, 31, 7, 0, 2, 4, 1, 2, 7, 1, 24, 31, 2, 20, 0, 14, 15, 23, 0, 0, 105, 30, 61, 12, 0, 1, 94, 30, 1, 34, 0, 0, 4, 0, 10, 62, 18, 23, 9, 11, 0, 1, 0, 0, 1, 0, 4, 4, 0, 0, 12, 23, 1, 1, 1, 3, 0, 9, 13, 1, 0, 0, 0, 2, 1, 2, 19, 0, 5, 5, 5, 0, 0, 13, 0, 0, 0, 0, 0, 0, 47, 12, 23, 2, 0, 6, 5, 11, 2, 1, 1, 0, 0, 0, 0, 0, 5, 0, 3, 0, 3, 4, 4, 29, 1, 3, 0, 78, 0, 6, 0, 0, 1, 2, 1, 0, 2, 0, 0, 2, 0, 0, 1, 5, 10, 1, 0, 1, 1, 45, 1, 0, 10, 1, 14, 0, 0, 10, 2, 0, 0, 0, 2, 6, 0, 0, 1, 0, 0, 5, 25, 3, 18, 0, 0, 1, 13, 71, 2, 0, 0, 3, 34, 9, 4, 0, 18, 1, 0, 1, 0, 0, 72, 1, 0, 1, 1, 0, 3, 19, 6, 4, 3, 19, 8, 0, 6, 0, 10, 3, 5, 1, 0, 0, 4, 0, 0, 42, 0, 5, 5, 1, 1, 0, 4, 5, 2, 6, 10, 1, 11, 7, 0, 17, 12, 0, 13, 11, 9, 1, 8, 3, 2, 1, 0, 1, 0, 3, 5, 1, 0, 6, 25, 2, 2, 0, 3, 2, 5, 0, 3, 3, 0, 5, 0, 0, 6, 18, 26, 26, 0, 1, 1, 31, 33, 5, 4, 5, 2, 0, 12, 0, 20, 1, 1, 0, 2, 2, 63, 0, 5, 0, 1, 4, 0, 0, 1, 24, 6, 0, 1, 0, 4, 5, 30, 7, 5, 0, 2, 1, 1, 8, 0, 1, 45, 1, 17, 1, 1, 1, 0, 17, 0, 0, 1, 0, 8, 9, 5, 1, 25, 1, 0, 1, 0, 0, 0, 0, 4, 0, 1, 6, 34, 0, 16, 63, 0, 15, 3, 0, 2, 0, 34, 12, 2, 5, 3, 20, 13, 0, 0, 0, 1, 3, 1, 0, 2, 0, 7, 0, 1, 34, 2, 5, 1, 0, 36, 2, 0, 11, 0, 0, 0, 0, 0, 1, 2, 0, 0, 0, 5, 1, 6, 19, 1, 0, 0, 4, 15, 1, 2, 0, 12, 2, 0, 3, 2, 1, 18, 15, 1, 1, 0, 5, 1, 0, 0, 11, 14, 3, 6, 34, 1, 0, 1, 0, 18, 0, 1, 19, 0, 0, 3, 0, 1, 0, 6, 0, 1, 0, 0, 0, 2, 5, 0, 20, 0, 53, 5, 1, 8, 19, 10, 11, 3, 0, 2, 1, 1, 4, 0, 13, 19, 8, 3, 4, 18, 18, 4, 1, 4, 0, 10, 8, 0, 0, 0, 0, 3, 3, 0, 2, 1, 1, 10, 0, 0, 0, 0, 0, 1, 2, 3, 45, 0, 0, 10, 1, 1, 0, 1, 4, 0]\n"
          ]
        }
      ]
    },
    {
      "cell_type": "code",
      "source": [
        "# Menghitung nilai mean dan median data\n",
        "print(\"Mean data : \",statistics.mean(list(df.Reviews)))\n",
        "print(\"Median data : \",statistics.median(list(df.Reviews)))\n",
        "print(\"Mean data setelah deleting : \",statistics.mean(tr))\n",
        "print(\"Median data setelah deleting: \",statistics.median(tr))"
      ],
      "metadata": {
        "colab": {
          "base_uri": "https://localhost:8080/"
        },
        "id": "SNmBZFfCC6qD",
        "outputId": "2cf8eee3-8a6f-451e-e2de-f953a4644256"
      },
      "execution_count": null,
      "outputs": [
        {
          "output_type": "stream",
          "name": "stdout",
          "text": [
            "Mean data :  40.55171358629131\n",
            "Median data :  37.0\n",
            "Mean data setelah deleting :  40.49586776859504\n",
            "Median data setelah deleting:  37\n"
          ]
        }
      ]
    },
    {
      "cell_type": "code",
      "source": [
        "plt.boxplot(tr, vert=False)\n",
        "plt.title(\"After replacing outlier\")\n",
        "plt.xlabel('Reviews')"
      ],
      "metadata": {
        "colab": {
          "base_uri": "https://localhost:8080/",
          "height": 489
        },
        "id": "dmKzpbaLDUPl",
        "outputId": "690164f7-9dc1-4f74-9cf0-eb6383338252"
      },
      "execution_count": null,
      "outputs": [
        {
          "output_type": "execute_result",
          "data": {
            "text/plain": [
              "Text(0.5, 0, 'Reviews')"
            ]
          },
          "metadata": {},
          "execution_count": 211
        },
        {
          "output_type": "display_data",
          "data": {
            "text/plain": [
              "<Figure size 640x480 with 1 Axes>"
            ],
            "image/png": "[encoded data removed]"
          },
          "metadata": {}
        }
      ]
    },
    {
      "cell_type": "code",
      "source": [
        "# Menggolongkan review dan melihat persebarannya dalam data\n",
        "Reviews1below = df.Reviews[(df.Reviews <= 25) & (df.Reviews >= 0)]\n",
        "Reviews2 = df.Reviews[(df.Reviews<= 40) & (df.Reviews >= 26)]\n",
        "Reviews3 = df.Reviews[(df.Reviews <= 55) & (df.Reviews >= 41)]\n",
        "Reviews4 = df.Reviews[(df.Reviews <= 70) & (df.Reviews >= 56)]\n",
        "Reviews5 = df.Reviews[(df.Reviews >= 76)]\n",
        "\n",
        "x = [\"0-25\",\"26-40\",\"41-55\",\"56-70\", \"71+\"]\n",
        "y = [len(Reviews1below.values),len(Reviews2.values),len(Reviews3.values),len(Reviews4.values),len(Reviews5.values)]\n",
        "\n",
        "plt.figure(figsize=(15,6))\n",
        "sns.barplot(x=x, y=y, palette=\"rocket\")\n",
        "plt.title(\"Number of Product and Reviews\")\n",
        "plt.xlabel(\"Reviews\")\n",
        "plt.ylabel(\"Number of Product\")\n",
        "plt.show()"
      ],
      "metadata": {
        "colab": {
          "base_uri": "https://localhost:8080/",
          "height": 564
        },
        "id": "vZuTL800Dv_Z",
        "outputId": "1326871c-3be0-4546-ddfa-7f88d3553caf"
      },
      "execution_count": null,
      "outputs": [
        {
          "output_type": "display_data",
          "data": {
            "text/plain": [
              "<Figure size 1500x600 with 1 Axes>"
            ],
            "image/png": "[encoded data removed]"
          },
          "metadata": {}
        }
      ]
    },
    {
      "cell_type": "markdown",
      "source": [
        "## Kolom Listing Price"
      ],
      "metadata": {
        "id": "sQq1GxQNFuvR"
      }
    },
    {
      "cell_type": "code",
      "source": [
        "#Persebaran data listing price\n",
        "sns.boxplot(df[\"Listing Price\"])"
      ],
      "metadata": {
        "colab": {
          "base_uri": "https://localhost:8080/",
          "height": 447
        },
        "id": "ujBzvJe9cZs8",
        "outputId": "09982d85-853a-46ed-a63c-fab4875cf9f9"
      },
      "execution_count": null,
      "outputs": [
        {
          "output_type": "execute_result",
          "data": {
            "text/plain": [
              "<Axes: >"
            ]
          },
          "metadata": {},
          "execution_count": 213
        },
        {
          "output_type": "display_data",
          "data": {
            "text/plain": [
              "<Figure size 640x480 with 1 Axes>"
            ],
            "image/png": "[encoded data removed]"
          },
          "metadata": {}
        }
      ]
    },
    {
      "cell_type": "code",
      "source": [
        "# Fungsi Pendeteksian Outlier dengan IQR\n",
        "def detect_outliers_iqr(df):\n",
        "    outliers = []\n",
        "    df = sorted(df)\n",
        "    q1 = np.percentile(df, 35)\n",
        "    q3 = np.percentile(df, 65)\n",
        "\n",
        "    IQR = q3-q1\n",
        "    lwr_bound = q1-(1.5*IQR)\n",
        "    upr_bound = q3+(1.5*IQR)\n",
        "\n",
        "    for i in df: \n",
        "        if (i<lwr_bound or i>upr_bound):\n",
        "            outliers.append(i)\n",
        "    return outliers\n",
        "score_outliers = detect_outliers_iqr(df['Listing Price'])\n",
        "print(\"Outliers from IQR method: \", score_outliers)\n",
        "print(\"Banyaknya outlier: \",len(score_outliers))"
      ],
      "metadata": {
        "colab": {
          "base_uri": "https://localhost:8080/"
        },
        "id": "RV5X7vgfEFTY",
        "outputId": "acb27e4f-d138-4f58-aa24-02d26d874afd"
      },
      "execution_count": null,
      "outputs": [
        {
          "output_type": "stream",
          "name": "stdout",
          "text": [
            "Outliers from IQR method:  [0, 0, 0, 0, 0, 0, 0, 0, 0, 0, 0, 0, 0, 0, 0, 0, 0, 0, 0, 0, 0, 0, 0, 0, 0, 0, 0, 0, 0, 0, 0, 0, 0, 0, 0, 0, 0, 0, 0, 0, 0, 0, 0, 0, 0, 0, 0, 0, 0, 0, 0, 0, 0, 0, 0, 0, 0, 0, 0, 0, 0, 0, 0, 0, 0, 0, 0, 0, 0, 0, 0, 0, 0, 0, 0, 0, 0, 0, 0, 0, 0, 0, 0, 0, 0, 0, 0, 0, 0, 0, 0, 0, 0, 0, 0, 0, 0, 0, 0, 0, 0, 0, 0, 0, 0, 0, 0, 0, 0, 0, 0, 0, 0, 0, 0, 0, 0, 0, 0, 0, 0, 0, 0, 0, 0, 0, 0, 0, 0, 0, 0, 0, 0, 0, 0, 0, 0, 0, 0, 0, 0, 0, 0, 0, 0, 0, 0, 0, 0, 0, 0, 0, 0, 0, 0, 0, 0, 0, 0, 0, 0, 0, 0, 0, 0, 0, 0, 0, 0, 0, 0, 0, 0, 0, 0, 0, 0, 0, 0, 0, 0, 0, 0, 0, 0, 0, 0, 0, 0, 0, 0, 0, 0, 0, 0, 0, 0, 0, 0, 0, 0, 0, 0, 0, 0, 0, 0, 0, 0, 0, 0, 0, 0, 0, 0, 0, 0, 0, 0, 0, 0, 0, 0, 0, 0, 0, 0, 0, 0, 0, 0, 0, 0, 0, 0, 0, 0, 0, 0, 0, 0, 0, 0, 0, 0, 0, 0, 0, 0, 0, 0, 0, 0, 0, 0, 0, 0, 0, 0, 0, 0, 0, 0, 0, 0, 0, 0, 0, 0, 0, 0, 0, 0, 0, 0, 0, 0, 0, 0, 0, 0, 0, 0, 0, 0, 0, 0, 0, 0, 0, 0, 0, 0, 0, 0, 0, 0, 0, 0, 0, 0, 0, 0, 0, 0, 0, 0, 0, 0, 0, 0, 0, 0, 0, 0, 0, 0, 0, 0, 0, 0, 0, 0, 0, 0, 0, 0, 0, 0, 0, 0, 0, 0, 0, 0, 0, 0, 0, 0, 0, 0, 0, 0, 0, 0, 0, 0, 0, 0, 0, 0, 0, 0, 0, 0, 0, 0, 0, 0, 0, 0, 0, 0, 0, 0, 0, 0, 0, 0, 0, 0, 0, 0, 0, 0, 0, 0, 0, 0, 0, 0, 0, 0, 0, 0, 0, 0, 0, 0, 0, 0, 0, 0, 0, 0, 0, 0, 0, 0, 0, 0, 0, 0, 0, 0, 0, 0, 0, 0, 0, 0, 0, 0, 0, 0, 0, 0, 0, 0, 0, 0, 0, 0, 0, 0, 0, 12995, 12995, 12995, 12995, 12995, 12995, 12995, 12995, 12995, 12995, 12995, 12995, 12999, 12999, 12999, 12999, 12999, 12999, 12999, 12999, 12999, 12999, 12999, 12999, 12999, 12999, 12999, 12999, 12999, 12999, 12999, 12999, 12999, 12999, 12999, 12999, 12999, 12999, 12999, 12999, 12999, 12999, 12999, 12999, 12999, 12999, 12999, 12999, 12999, 12999, 12999, 12999, 12999, 12999, 12999, 12999, 12999, 12999, 12999, 12999, 12999, 12999, 12999, 12999, 12999, 12999, 12999, 12999, 12999, 12999, 12999, 12999, 12999, 12999, 12999, 12999, 12999, 12999, 12999, 12999, 12999, 12999, 12999, 12999, 12999, 12999, 12999, 12999, 12999, 12999, 12999, 12999, 12999, 12999, 12999, 12999, 12999, 12999, 12999, 12999, 12999, 12999, 12999, 12999, 12999, 12999, 12999, 12999, 12999, 12999, 12999, 12999, 13995, 13995, 13995, 13995, 13995, 13995, 13995, 13995, 13995, 13995, 13995, 13995, 13995, 13995, 13999, 13999, 13999, 13999, 13999, 13999, 13999, 13999, 13999, 13999, 13999, 13999, 13999, 13999, 13999, 13999, 13999, 13999, 13999, 13999, 13999, 13999, 13999, 13999, 13999, 13999, 13999, 13999, 13999, 13999, 13999, 13999, 13999, 13999, 13999, 13999, 14995, 14995, 14995, 14995, 14995, 14995, 14999, 14999, 14999, 14999, 14999, 14999, 14999, 14999, 14999, 14999, 14999, 14999, 14999, 14999, 14999, 14999, 14999, 14999, 14999, 14999, 14999, 14999, 14999, 14999, 14999, 14999, 14999, 14999, 14999, 14999, 14999, 14999, 14999, 14999, 14999, 14999, 14999, 14999, 14999, 14999, 14999, 14999, 14999, 15995, 15995, 15995, 15995, 15995, 15995, 15995, 15995, 15995, 15995, 15995, 15995, 15995, 15995, 15995, 15995, 15995, 15995, 15995, 15995, 15995, 15995, 15995, 15995, 15995, 15995, 15995, 15995, 15995, 15995, 15995, 15995, 15995, 15999, 15999, 15999, 15999, 15999, 15999, 15999, 15999, 15999, 15999, 15999, 15999, 15999, 15999, 15999, 15999, 15999, 15999, 15999, 15999, 15999, 15999, 15999, 15999, 15999, 15999, 15999, 15999, 15999, 15999, 16995, 16995, 16995, 16995, 16995, 16995, 16995, 16995, 16995, 16995, 16995, 16995, 16995, 16995, 16995, 16999, 16999, 16999, 16999, 16999, 16999, 16999, 16999, 16999, 16999, 16999, 16999, 16999, 16999, 16999, 16999, 16999, 16999, 16999, 16999, 16999, 16999, 16999, 16999, 16999, 16999, 16999, 17995, 17995, 17995, 17995, 17999, 17999, 17999, 17999, 17999, 17999, 17999, 17999, 17999, 17999, 17999, 17999, 17999, 17999, 17999, 17999, 17999, 17999, 17999, 17999, 17999, 17999, 17999, 17999, 17999, 17999, 17999, 17999, 17999, 17999, 17999, 17999, 17999, 17999, 17999, 18995, 18995, 18999, 18999, 18999, 18999, 18999, 18999, 18999, 19995, 19999, 19999, 19999, 19999, 19999, 19999, 19999, 19999, 19999, 19999, 19999, 21999, 21999, 21999, 21999, 21999, 21999, 21999, 21999, 21999, 21999, 21999, 22999, 22999, 22999, 22999, 22999, 22999, 22999, 22999, 23999, 23999, 23999, 23999, 23999, 27999, 27999, 27999, 27999, 29999, 29999]\n",
            "Banyaknya outlier:  832\n"
          ]
        }
      ]
    },
    {
      "cell_type": "code",
      "source": [
        "# Menghapus outlier\n",
        "tr = []\n",
        "for j in df['Listing Price']:\n",
        "    f = j in score_outliers\n",
        "    if f is False:\n",
        "        tr.append(j)\n",
        "print(tr)"
      ],
      "metadata": {
        "colab": {
          "base_uri": "https://localhost:8080/"
        },
        "id": "kUwRks0YENz-",
        "outputId": "3b1d73e0-214e-4d6b-ae8a-8e77f709848c"
      },
      "execution_count": null,
      "outputs": [
        {
          "output_type": "stream",
          "name": "stdout",
          "text": [
            "[7599, 999, 6999, 7999, 4799, 4799, 999, 5599, 6599, 7599, 6599, 5999, 7599, 7999, 5999, 4599, 3999, 3299, 4299, 5599, 4299, 3799, 6599, 3799, 3299, 3799, 4299, 5599, 3299, 3299, 3299, 3299, 5599, 3999, 5599, 4599, 5599, 8599, 6599, 6599, 6599, 7599, 5599, 6999, 5599, 4999, 4999, 3299, 4999, 6999, 6599, 11999, 7999, 2699, 7999, 5599, 7999, 5599, 4999, 4299, 5999, 4999, 4799, 4599, 5999, 7999, 4799, 4599, 5999, 7599, 1299, 2799, 4599, 7999, 7999, 4999, 1299, 1499, 5999, 7999, 4599, 5599, 4799, 7999, 4599, 4999, 5299, 1999, 9999, 5999, 8999, 6599, 4599, 4999, 5999, 4599, 4799, 5599, 4999, 3599, 1599, 4799, 1299, 4999, 4799, 6599, 5599, 8999, 5599, 3599, 4299, 5599, 7999, 8999, 7999, 7999, 6599, 1599, 7999, 9999, 4799, 7599, 11999, 6999, 7999, 4999, 7599, 4799, 4799, 2499, 7599, 6599, 7999, 7599, 7999, 8999, 4999, 2499, 7599, 7599, 7599, 7999, 999, 6599, 6599, 11999, 2499, 7599, 11999, 11999, 7999, 5999, 7999, 10999, 7999, 2699, 2999, 8999, 9999, 7999, 11999, 7999, 7999, 2699, 8999, 4999, 7999, 7999, 5599, 5299, 4999, 5999, 4999, 1299, 7999, 4999, 2999, 10999, 4999, 5299, 2999, 2699, 5299, 2799, 8999, 5599, 4599, 5999, 3999, 5599, 9999, 4999, 5599, 4599, 7599, 4299, 3999, 5299, 7999, 3999, 4299, 2799, 6599, 4599, 10999, 7999, 7999, 1499, 6599, 1499, 4799, 5599, 4999, 4599, 6599, 4299, 4599, 5599, 5599, 2999, 2999, 4999, 4599, 5999, 4599, 5599, 1299, 4999, 5999, 6999, 7999, 7599, 4999, 4999, 4999, 7999, 9999, 3599, 7999, 6599, 7999, 7599, 7999, 7999, 3799, 3599, 11999, 7999, 7599, 7599, 6599, 3799, 11999, 7599, 5999, 8999, 7999, 1299, 11999, 1299, 1499, 4799, 3999, 6599, 5999, 1299, 7999, 11999, 9999, 5999, 7999, 7599, 7999, 7999, 11999, 9999, 4299, 5999, 5999, 7999, 11999, 6999, 5599, 6599, 5599, 7999, 4299, 6599, 4999, 5299, 5599, 11999, 9999, 8999, 4599, 4999, 4599, 4599, 4999, 4999, 5999, 5299, 4599, 5599, 5299, 5599, 5599, 4999, 4999, 3599, 5999, 5599, 3999, 4599, 4999, 5299, 5999, 4999, 5999, 4999, 5599, 5299, 4299, 3999, 3999, 5599, 5599, 5299, 4999, 3999, 5599, 4599, 4599, 4599, 5599, 5999, 4999, 5599, 11999, 11999, 5599, 7999, 7599, 5299, 8999, 4599, 4999, 5599, 4299, 5999, 6599, 4999, 7599, 7999, 6999, 6599, 5599, 7599, 4299, 5299, 5599, 4599, 4999, 7999, 4599, 5599, 5999, 4799, 5999, 4999, 7999, 1299, 7999, 4999, 7599, 4999, 999, 5599, 1499, 4999, 999, 1299, 1299, 999, 999, 1499, 5599, 4599, 4599, 999, 4999, 5599, 5599, 4999, 6599, 4999, 6599, 5599, 5599, 4999, 4999, 5599, 5999, 5999, 6599, 4999, 4999, 4999, 5599, 5599, 4999, 5599, 5299, 4599, 4599, 5999, 4999, 4999, 4999, 4999, 4299, 3999, 4299, 5299, 3799, 5599, 4599, 4599, 4599, 5599, 5999, 4599, 4599, 3799, 5999, 4299, 5599, 6999, 5599, 5599, 6999, 4999, 4999, 4299, 5599, 6999, 6599, 3999, 6999, 3999, 3999, 4999, 5299, 4799, 5599, 4599, 2499, 3799, 2999, 4999, 7999, 4599, 5599, 2999, 4999, 3599, 5599, 5999, 4999, 4999, 6999, 6999, 7999, 5599, 4999, 5599, 7599, 3999, 7599, 4999, 2999, 3999, 2499, 3299, 3799, 7999, 5999, 7999, 10999, 4599, 7599, 11999, 7599, 2499, 7999, 7999, 8999, 6599, 7999, 7999, 6599, 6599, 7999, 7999, 8999, 7999, 7599, 8599, 7599, 8599, 8999, 7599, 8999, 7599, 7599, 7999, 7999, 11999, 7999, 7999, 7999, 8999, 5299, 7999, 7999, 7999, 6999, 5299, 5599, 3599, 5599, 7999, 6999, 3299, 5599, 7999, 6999, 6999, 5599, 5599, 8999, 5999, 6599, 8999, 2499, 5999, 4999, 4599, 6999, 3599, 7999, 5599, 4999, 5599, 5599, 5999, 3999, 6999, 5599, 5999, 3599, 5599, 2999, 7999, 3999, 7999, 3999, 5999, 4599, 4299, 2799, 4999, 5599, 5599, 4299, 4599, 4599, 7999, 7999, 7999, 3799, 4599, 4999, 8999, 5599, 5599, 4999, 2699, 8999, 10999, 7599, 10999, 7599, 7999, 9999, 7999, 8999, 7999, 7599, 7599, 7999, 7999, 10999, 7599, 10999, 6599, 7999, 8999, 5599, 9999, 11999, 6599, 11999, 2499, 6299, 2799, 11999, 7599, 6599, 11999, 5999, 5999, 8999, 7599, 9999, 9999, 7999, 7999, 3799, 4999, 5999, 4999, 7999, 5999, 4999, 4999, 7999, 11999, 11999, 11999, 11999, 2499, 9999, 4999, 10999, 7999, 10999, 4999, 8999, 5999, 4599, 2699, 4799, 7599, 1299, 2799, 1299, 1499, 1499, 1499, 1299, 7999, 1499, 2699, 1499, 4599, 4599, 1299, 4599, 4999, 3999, 2999, 4599, 5299, 4299, 3999, 7999, 1599, 10999, 5999, 4999, 4999, 3299, 1299, 2799, 2799, 7599, 3299, 5999, 2799, 7599, 2499, 5999, 5999, 11999, 5999, 1599, 5999, 7599, 7599, 6599, 3999, 5999, 5999, 5999, 11999, 6599, 4999, 10999, 7599, 5599, 5999, 5999, 7999, 9999, 5999, 7999, 5999, 8999, 8999, 9999, 8999, 5999, 9999, 7599, 11999, 4599, 4999, 11999, 7999, 7999, 9999, 7999, 4999, 7999, 4299, 11999, 6599, 2999, 10999, 11999, 7599, 7599, 10999, 2699, 6599, 11999, 2499, 2999, 4999, 2999, 4599, 2699, 4999, 2699, 6999, 3999, 3999, 5999, 4599, 6999, 7599, 5999, 5999, 4599, 4299, 6599, 5999, 5599, 6599, 6999, 4599, 3999, 4599, 4599, 4799, 3999, 4599, 3999, 4599, 7599, 3999, 4599, 3999, 4599, 4599, 5599, 4999, 4799, 4999, 5299, 3999, 3999, 4299, 5599, 4799, 4799, 9999, 9599, 5599, 7999, 6999, 6999, 3999, 10999, 7999, 6999, 10999, 10999, 10999, 10999, 10999, 11999, 10999, 10999, 7999, 4799, 10999, 10999, 5599, 6999, 5599, 9999, 9999, 11999, 6599, 7999, 5999, 6599, 4799, 5599, 6599, 8999, 7999, 11999, 11999, 8999, 8999, 11999, 11999, 11999, 4599, 8999, 5999, 8999, 7599, 7599, 7599, 7999, 7999, 8999, 4799, 4799, 5599, 7999, 6999, 4999, 9999, 11999, 4999, 9999, 7999, 7999, 11999, 11999, 11999, 11999, 11999, 11999, 7999, 7999, 4799, 7999, 7999, 4599, 1499, 7999, 7999, 4799, 7599, 3599, 3799, 10999, 7999, 11999, 7999, 4599, 11999, 7999, 3999, 7599, 5999, 2999, 3999, 7599, 7999, 5999, 5599, 5599, 6999, 4599, 5999, 4999, 4599, 7999, 5599, 7999, 7599, 7599, 8999, 7999, 8999, 6999, 11999, 7999, 7999, 7599, 8599, 7599, 7999, 7999, 11999, 8999, 11999, 7999, 7999, 7999, 7599, 4299, 7999, 6999, 10999, 6999, 6999, 7599, 11999, 7599, 8999, 4599, 4599, 4599, 4599, 3299, 4999, 9599, 3599, 7599, 3599, 1999, 3599, 1299, 1999, 5999, 7599, 1299, 7599, 7599, 5999, 5999, 1299, 4999, 4599, 11999, 5999, 7999, 7999, 6999, 7999, 4599, 6599, 7599, 8999, 7599, 10999, 6999, 4999, 7599, 5999, 8999, 5999, 5599, 5599, 4599, 2499, 7599, 2699, 3799, 4999, 5999, 4999, 5599, 5999, 5999, 7999, 4299, 4599, 5599, 5999, 5999, 5599, 5999, 3999, 5999, 7999, 7999, 2799, 6599, 2799, 3999, 2699, 6999, 4599, 4999, 4999, 2699, 3999, 9999, 10999, 2999, 2999, 5599, 11999, 4299, 5599, 4999, 6599, 6599, 5999, 4999, 8999, 11999, 11999, 7999, 5999, 6599, 7599, 10999, 7999, 6599, 5999, 10999, 10999, 5999, 7599, 11999, 11999, 8999, 9999, 11999, 10999, 7999, 11999, 11999, 7999, 7999, 7599, 7999, 7499, 11999, 7999, 6299, 11999, 8999, 6999, 7999, 6999, 5999, 5999, 8999, 5599, 5299, 7999, 4599, 7999, 9999, 3599, 11999, 3799, 11999, 7999, 7999, 8999, 2499, 3299, 11999, 6999, 5599, 3999, 6999, 5299, 4999, 3799, 3999, 5599, 4599, 7999, 4299, 2999, 5999, 2799, 3999, 7999, 5999, 5999, 5599, 5999, 4999, 3999, 5999, 5999, 6599, 3799, 7999, 7999, 5999, 7999, 6999, 6999, 5599, 6999, 7599, 7999, 4999, 7999, 2499, 1499, 5999, 4299, 5599, 5599, 7999, 11999, 10999, 10999, 7599, 7999, 5599, 5599, 11999, 5999, 7599, 3999, 7599, 7599, 5999, 5299, 5599, 5299, 5599, 4599, 6599, 7999, 4599, 6599, 7999, 7999, 5599, 5999, 5999, 3999, 4599, 7999, 6999, 5999, 11999, 5599, 4599, 3999, 4599, 3599, 3999, 3999, 3999, 3599, 3999, 7999, 5599, 7999, 2999, 5599, 5599, 5599, 5599, 5599, 5599, 1299, 1499, 1999, 7999, 5999, 1299, 6999, 1999, 7999, 4599, 5999, 5999, 7999, 5999, 5599, 2499, 4999, 4599, 4999, 7999, 4999, 4999, 4999, 3299, 5999, 5999, 4299, 4299, 4299, 5299, 10999, 10999, 6999, 7999, 5299, 5299, 6999, 4999, 2499, 4599, 2699, 8999, 5599, 7599, 5999, 5999, 7999, 6999, 7599, 7999, 7999, 7599, 4599, 5999, 7999, 10999, 5999, 4599, 10999, 2299, 7999, 7999, 7599, 4999, 4599, 4599, 7999, 4999, 7599, 8999, 7599, 7999, 3999, 4999, 4599, 2499, 7999, 7999, 7999, 7599, 7599, 9999, 4599, 6999, 7999, 4599, 1799, 7999, 4799, 7999, 9999, 7999, 5999, 7999, 11999, 8999, 5599, 5999, 7599, 1999, 7599, 9999, 3999, 11999, 8499, 3299, 9999, 9999, 5999, 1799, 3299, 7999, 11999, 5999, 6999, 5999, 5999, 4599, 5999, 5999, 4599, 3999, 3999, 5299, 5599, 3999, 5299, 7599, 8999, 5999, 10999, 5599, 7999, 7999, 7599, 6999, 7999, 8999, 8999, 7999, 10999, 7999, 8999, 7999, 11999, 7599, 8999, 10999, 8999, 2499, 11999, 7599, 8999, 7599, 8999, 7999, 7599, 4999, 7599, 9999, 7599, 11999, 5599, 6599, 6599, 5999, 3999, 3999, 5599, 2999, 6599, 7599, 7599, 6999, 7599, 4599, 7599, 10999, 10999, 10999, 7999, 7599, 5299, 8999, 4999, 7999, 7599, 5999, 11999, 4999, 4999, 6999, 7999, 5999, 8999, 4599, 7999, 1499, 7599, 7599, 7999, 4299, 6999, 7999, 4599, 3599, 5999, 2799, 7999, 5599, 6599, 5299, 5599, 5999, 7999, 7999, 5999, 7999, 11999, 4599, 7599, 7999, 8999, 7599, 6599, 7999, 7999, 3599, 5299, 10999, 5999, 7999, 10999, 7999, 7999, 11999, 7599, 6999, 4999, 5599, 2499, 3799, 5599, 7999, 4999, 5499, 10999, 11999, 5499, 8999, 5999, 5599, 7599, 7999, 4599, 6999, 10999, 10999, 7599, 9999, 3299, 11999, 1799, 6599, 2799, 6999, 10999, 8999, 3999, 5999, 7999, 2799, 4999, 5999, 5599, 2499, 6999, 5999, 8999, 9999, 7999, 2999, 7999, 4599, 10999, 5999, 9999, 10999, 7999, 9999, 7999, 4999, 5999, 11999, 9999, 10999, 7599, 7999, 8999, 6999, 6999, 1799, 2499, 7999, 5999, 11999, 8999, 11999, 1299, 1299, 1299, 1299, 1499, 9999, 1499, 1499, 10999, 1299, 7999, 7999, 5599, 4999, 4299, 9999, 4299, 4299, 5999, 3999, 5599, 5599, 7999, 3999, 4599, 5599, 4599, 5599, 5299, 7999, 5599, 4599, 4999, 4599, 4599, 5999, 7999, 8999, 7999, 6599, 7999, 11999, 5599, 5999, 5999, 2499, 11999, 4999, 11999, 3999, 7999, 10999, 4999, 5999, 9999, 5999, 4999, 6999, 5999, 4999, 5999, 4299, 3299, 3999, 7599, 4599, 4599, 1499, 5599, 4599, 7999, 7599, 7999, 7599, 5599, 4299, 5999, 7999, 4599, 4599, 4599, 4999, 4999, 6599, 4999, 4999, 4599, 10999, 7999, 7999, 5999, 7599, 6599, 7599, 5999, 6599, 2999, 7999, 7999, 2799, 2799, 2799, 2799, 2999, 2799, 2999, 2999, 2799, 7999, 4999, 2799, 5299, 3599, 7999, 2799, 3999, 7999, 2499, 11999, 11999, 10999, 7599, 1499, 7999, 4599, 6999, 4799, 5999, 5599, 7999, 4999, 5599, 1999, 7999, 5599, 7999, 5599, 3999, 4999, 5999, 5599, 4599, 7599, 7599, 10999, 7999, 4599, 7999, 7999, 6999, 5999, 4999, 4599, 9999, 3599, 5599, 4599, 5599, 6599, 7599, 5999, 5599, 3999, 7599, 3599, 11999, 2799, 7999, 4799, 7999, 10999, 7999, 6999, 4999, 7999, 5999, 5999, 4299, 7999, 6999, 5299, 5999, 6999, 4999, 7599, 7599, 4299, 10999, 7999, 3799, 2799, 7999, 4299, 4299, 4999, 5999, 9999, 4999, 7999, 4999, 5999, 4999, 4999, 4999, 6599, 3999, 4999, 4999, 9999, 7999, 7999, 3999, 11999, 4599, 11999, 5999, 6999, 5999, 5599, 7999, 7599, 8999, 6999, 4599, 5999, 2999, 4999, 8999, 11999, 6599, 7999, 5299, 7999, 5299, 5299, 5599, 7999, 7599, 4599, 4999, 5299, 6999, 4999, 4999, 4299, 4999, 7999, 11999, 5599, 3599, 3799, 4599, 4299, 4599, 3999, 3999, 2799, 11999, 3599, 4599, 4999, 10999, 4999, 4599, 7599, 7999, 7999, 8999, 4999, 8999, 4999, 5299, 8999, 5599, 5599, 4599, 5999, 5599, 7999, 5599, 11999, 4599, 6599, 4599, 6599, 5999, 7999, 8999, 5999, 7599, 8999, 11999, 6599, 6999, 7999, 7599, 11999, 7599, 7599, 7999, 5999, 5999, 10999, 9999, 5999, 4299, 2999, 5999, 4599, 7999, 5599, 5999, 4299, 4999, 3999, 4299, 4599, 4799, 6599, 4599, 5999, 4799, 4599, 4599, 6599, 5999, 4599, 5999, 5999, 6599, 6599, 5999, 6999, 5999, 4999, 10999, 7999, 4999, 4999, 10999, 7999, 5999, 7999, 8599, 7999, 6999, 10999, 9999, 7999, 8599, 3999, 899, 4599, 999, 4299, 5599, 5599, 4999, 6999, 5599, 2799, 8999, 7999, 5999, 11999, 7999, 7999, 11999, 7999, 8999, 9999, 8999, 5999, 7999, 7999, 8999, 7599, 7999, 9999, 8599, 6599, 10999, 7999, 5599, 5999, 5999, 5999, 5599, 9999, 5999, 5999, 4999, 3999, 4799, 7599, 5999, 10999, 10999, 7599, 7599, 10999, 7999, 7599, 10999, 11999, 8999, 7599, 7999, 1499, 7999, 2699, 6999, 2999, 7599, 8999, 7999, 7999, 2999, 5299, 7999, 6599, 5599, 4599, 5999, 5599, 5599, 5599, 1499, 8999, 9999, 4799, 10999, 7999, 4999, 6999, 4599, 4999, 4999, 8999, 2799, 2499, 5999, 2499, 4599, 4299, 2799, 4299, 3599, 10999, 7999, 9999, 8999, 9999, 9999, 7999, 5299, 1499, 3299, 5599, 6999, 7999, 2699, 7599, 4999, 7599, 5999, 7999, 11999, 4599, 6599, 5999, 4999, 4599, 4599, 6599, 6599, 7999, 5999, 10999, 9999, 6999, 4999, 4799, 7999, 6599, 4299, 4599, 2799, 1499, 5999, 1199, 6599, 5999, 11999, 4999, 4599, 7999, 7999, 7999, 6599, 6599, 5999, 2499, 6999, 6599, 6999, 3999, 3999, 4999, 5599, 4999, 3999, 5599, 5999, 9999, 9999, 2499, 2799, 10999, 10999, 10999, 9999, 9999, 11999, 9999, 9999, 6999, 4999, 9999, 10999, 7999, 3299, 11999, 5999, 10999, 5999, 5999, 4999, 5999, 7999, 4599, 10999, 7999, 6599, 6599, 10999, 9999, 4499, 4599, 4599, 5999, 6599, 4599, 4599, 4599, 3599, 5999, 1999, 4999, 11999, 11999, 9999, 10999, 4999, 9999, 3599, 4599, 7999, 2799, 8999, 7999, 2999, 2999, 4999, 2799, 2999, 4999, 5999, 5999, 6999, 5599, 7999, 7999, 3299, 10999, 10999, 7599, 7999, 5299, 6999, 7999, 4299, 7999, 7999, 7999, 8999, 7999, 4599, 6599, 5999, 6599, 5999, 8999, 5599, 7999, 7999, 10999, 7599, 9999, 11999, 8999, 7999, 7999, 8999, 4599, 6599, 4599, 5999, 4599, 4999, 6999, 6999, 9999, 9999, 6599, 4599, 2999, 4799, 10999, 2699, 3299, 6599, 7999, 8999, 3999, 7999, 1499, 2699, 10999, 1499, 4799, 2999, 5999, 10999, 6999, 4999, 6599, 7599, 8999, 2799, 2799, 2799, 2799, 11999, 8999, 999, 4599, 2699, 7999, 7999, 5599, 3999, 6599, 4799, 4999, 4999, 5999, 7599, 3599, 11999, 11999, 11999, 2499, 8999, 4999, 6599, 7999, 5599, 2999, 7999, 7999, 5999, 7999, 7999, 7999, 6599, 6599, 7599, 7999, 7999, 7999, 7599, 7599, 5999, 5999, 7599, 7999, 7999, 5599, 11999, 2999, 3799, 5599, 6599, 4599, 6599, 7999, 11999, 4599, 4599, 5999, 5999, 6599, 5999, 10999, 4599, 7999, 5999, 999, 3799, 4999, 4999, 4999, 7599, 6599, 6599, 7599, 7999, 4999, 6999, 7999, 1299, 7999, 5599, 3299, 7999, 4599, 4799, 5999, 4799, 5999, 3299, 11999, 3799, 6599, 9999, 11999, 9999, 6599, 5599, 3799, 4599, 5999, 4599, 11999, 4599, 4599, 3999, 5999, 10999, 10999, 2799, 5599, 1499, 4999, 2999, 6999, 5999, 4799, 9999, 3799, 9999, 10999, 4299, 4299, 4999, 2999, 3999, 2999, 6999, 5599, 5999, 3999, 8999, 8999, 3999, 10999, 3999, 5999, 3999, 4999, 11999, 7999, 5999, 5599, 3999, 7999, 6999, 9999, 7999, 9999, 4999, 4799, 4799, 9999, 5599, 4999, 11999, 9999, 10999, 6999, 3999, 7999, 7995, 9995, 10995, 9995, 11995, 7995, 10995, 10995, 10995, 11995, 8495, 9995, 10995, 11995, 4995, 10995, 8995, 11995, 8995, 11995, 7495, 5995, 7995, 9995, 7495, 7995, 9995, 7995, 8995, 7995, 11995, 9995, 7995, 11995, 4995, 9995, 7995, 10995, 8995, 10995, 9995, 6995, 4995, 8995, 6995, 4995, 2995, 7995, 7995, 7495, 10995, 11995, 7495, 11995, 7995, 8495, 8495, 8995, 10995, 4495, 10995, 10995, 10995, 7995, 9995, 4995, 9995, 9995, 11995, 7495, 4495, 4995, 7895, 10995, 8495, 5995, 2995, 5995, 8995, 8995, 10995, 6495, 4795, 9995, 7495, 11995, 8495, 7995, 10995, 7495, 9995, 7495, 8995, 8995, 7995, 7995, 8995, 7995, 4995, 8995, 11995, 4495, 7495, 4495, 8495, 11995, 11995, 11995, 3995, 6995, 9995, 4995, 9495, 11995, 11995, 8995, 7995, 8995, 10995, 9995, 7995, 6995, 7495, 8495, 8995, 7495, 10995, 4995, 8495, 8995]\n"
          ]
        }
      ]
    },
    {
      "cell_type": "code",
      "source": [
        "plt.boxplot(tr, vert=False)\n",
        "plt.title(\"After replacing outlier\")\n",
        "plt.xlabel('Listing Price')"
      ],
      "metadata": {
        "colab": {
          "base_uri": "https://localhost:8080/",
          "height": 489
        },
        "id": "ctQ_xVNwHe_r",
        "outputId": "38a19a5e-5a5c-42ba-b8f6-d083f32189f1"
      },
      "execution_count": null,
      "outputs": [
        {
          "output_type": "execute_result",
          "data": {
            "text/plain": [
              "Text(0.5, 0, 'Listing Price')"
            ]
          },
          "metadata": {},
          "execution_count": 216
        },
        {
          "output_type": "display_data",
          "data": {
            "text/plain": [
              "<Figure size 640x480 with 1 Axes>"
            ],
            "image/png": "[encoded data removed]"
          },
          "metadata": {}
        }
      ]
    },
    {
      "cell_type": "code",
      "source": [
        "# Menggolongkan review dan melihat persebarannya dalam data\n",
        "Listing_Price1 = df['Listing Price'][(df['Listing Price'] <= 2500) & (df['Listing Price'] >= 0)]\n",
        "Listing_Price2 = df['Listing Price'][(df['Listing Price']<= 4000) & (df['Listing Price'] >= 2501)]\n",
        "Listing_Price3 = df['Listing Price'][(df['Listing Price'] <= 5500) & (df['Listing Price'] >= 4001)]\n",
        "Listing_Price4 = df['Listing Price'][(df['Listing Price'] <= 7000) & (df['Listing Price'] >= 5501)]\n",
        "Listing_Price5 = df['Listing Price'][(df['Listing Price'] >= 7001)]\n",
        "\n",
        "x = [\"0-2500\",\"2501-4000\",\"4001-5500\",\"5501-7000\", \"7001+\"]\n",
        "y = [len(Listing_Price1.values),len(Listing_Price2.values),len(Listing_Price3.values),len(Listing_Price4.values),len(Listing_Price5.values)]\n",
        "\n",
        "plt.figure(figsize=(15,6))\n",
        "sns.barplot(x=x, y=y, palette=\"rocket\")\n",
        "plt.title(\"Number of Product and Listing Price\")\n",
        "plt.xlabel(\"Listing Price\")\n",
        "plt.ylabel(\"Number of Product\")\n",
        "plt.show()"
      ],
      "metadata": {
        "colab": {
          "base_uri": "https://localhost:8080/",
          "height": 564
        },
        "id": "6MQB8FhZHm5m",
        "outputId": "6d5f3f3f-5280-40dd-f97d-be48d18cdcb7"
      },
      "execution_count": null,
      "outputs": [
        {
          "output_type": "display_data",
          "data": {
            "text/plain": [
              "<Figure size 1500x600 with 1 Axes>"
            ],
            "image/png": "[encoded data removed]"
          },
          "metadata": {}
        }
      ]
    },
    {
      "cell_type": "markdown",
      "source": [
        "## Kolom Sale Price"
      ],
      "metadata": {
        "id": "6oort8t0I-ZH"
      }
    },
    {
      "cell_type": "code",
      "source": [
        "#Persebaran data sale price\n",
        "sns.boxplot(df[\"Sale Price\"])"
      ],
      "metadata": {
        "colab": {
          "base_uri": "https://localhost:8080/",
          "height": 447
        },
        "id": "ZIKCg07ucrBx",
        "outputId": "387e8e27-e3cf-46f4-93f5-b76ed3d185ee"
      },
      "execution_count": null,
      "outputs": [
        {
          "output_type": "execute_result",
          "data": {
            "text/plain": [
              "<Axes: >"
            ]
          },
          "metadata": {},
          "execution_count": 218
        },
        {
          "output_type": "display_data",
          "data": {
            "text/plain": [
              "<Figure size 640x480 with 1 Axes>"
            ],
            "image/png": "[encoded data removed]"
          },
          "metadata": {}
        }
      ]
    },
    {
      "cell_type": "code",
      "source": [
        "# Fungsi Pendeteksian Outlier dengan IQR\n",
        "def detect_outliers_iqr(df):\n",
        "    outliers = []\n",
        "    df = sorted(df)\n",
        "    q1 = np.percentile(df, 30)\n",
        "    q3 = np.percentile(df, 70)\n",
        "\n",
        "    IQR = q3-q1\n",
        "    lwr_bound = q1-(1.5*IQR)\n",
        "    upr_bound = q3+(1.5*IQR)\n",
        "\n",
        "    for i in df: \n",
        "        if (i<lwr_bound or i>upr_bound):\n",
        "            outliers.append(i)\n",
        "    return outliers\n",
        "score_outliers = detect_outliers_iqr(df['Sale Price'])\n",
        "print(\"Outliers from IQR method: \", score_outliers)\n",
        "print(\"Banyaknya outlier: \",len(score_outliers))"
      ],
      "metadata": {
        "colab": {
          "base_uri": "https://localhost:8080/"
        },
        "id": "DYfA2zRTJDdP",
        "outputId": "fc10261b-32e8-4434-9c4c-6907b361c564"
      },
      "execution_count": null,
      "outputs": [
        {
          "output_type": "stream",
          "name": "stdout",
          "text": [
            "Outliers from IQR method:  [12995, 12995, 12995, 12995, 12995, 12995, 12995, 12995, 12995, 12995, 12995, 12995, 12995, 12995, 12995, 12995, 12995, 12995, 12995, 12999, 12999, 12999, 12999, 12999, 12999, 12999, 12999, 12999, 12999, 12999, 12999, 12999, 12999, 12999, 12999, 12999, 12999, 12999, 12999, 12999, 12999, 12999, 12999, 12999, 12999, 12999, 12999, 12999, 12999, 12999, 13199, 13199, 13297, 13299, 13495, 13597, 13597, 13597, 13597, 13597, 13597, 13597, 13597, 13597, 13799, 13799, 13799, 13799, 13799, 13995, 13995, 13995, 13995, 13995, 13995, 13995, 13995, 13995, 13995, 13995, 13995, 13995, 13995, 13995, 13995, 13995, 13995, 13995, 13995, 13999, 13999, 13999, 13999, 13999, 13999, 13999, 13999, 13999, 13999, 14397, 14397, 14495, 14995, 14995, 14995, 14995, 14995, 14995, 14995, 14995, 14995, 14995, 14995, 14995, 14995, 14995, 14995, 14995, 14995, 14995, 14995, 14995, 14999, 14999, 14999, 14999, 14999, 14999, 14999, 14999, 14999, 14999, 14999, 15197, 15995, 15995, 15995, 15995, 15995, 15995, 15995, 15995, 15995, 15995, 15995, 15995, 15995, 15995, 15995, 15995, 15995, 15995, 15995, 15995, 15995, 15995, 15995, 15995, 15995, 15995, 15995, 15995, 15995, 15995, 15995, 15995, 15995, 15995, 15995, 15997, 15999, 15999, 15999, 16995, 16995, 16995, 16995, 16995, 16995, 16995, 16995, 16995, 16995, 16995, 16995, 16995, 16995, 16995, 16995, 16995, 16999, 16999, 16999, 16999, 16999, 16999, 16999, 16999, 16999, 17995, 17999, 17999, 17999, 17999, 17999, 17999, 17999, 17999, 17999, 17999, 17999, 17999, 17999, 17999, 17999, 17999, 17999, 17999, 18995, 18995, 18995, 18995, 18995, 18995, 18995, 18995, 18999, 18999, 19995, 19995, 19995, 19995, 19999, 19999, 19999, 19999, 19999, 19999, 19999, 20995, 20995, 21995, 21995, 21995, 21995, 21995, 21999, 21999, 21999, 21999, 22995, 22995, 22995, 22995, 22995, 22995, 22995, 22995, 22999, 23999, 23999, 23999, 23999, 23999, 24995, 24995, 24995, 24995, 27999, 27999, 27999, 27999, 29999, 29999, 36500]\n",
            "Banyaknya outlier:  275\n"
          ]
        }
      ]
    },
    {
      "cell_type": "code",
      "source": [
        "# Menghapus outlier\n",
        "tr = []\n",
        "for j in df['Sale Price']:\n",
        "    f = j in score_outliers\n",
        "    if f is False:\n",
        "        tr.append(j)\n",
        "print(tr)"
      ],
      "metadata": {
        "colab": {
          "base_uri": "https://localhost:8080/"
        },
        "id": "7qdOEl0rudDR",
        "outputId": "570d3c87-59f8-4547-fd64-cf0f128f8f27"
      },
      "execution_count": null,
      "outputs": [
        {
          "output_type": "stream",
          "name": "stdout",
          "text": [
            "[7499, 3799, 599, 3499, 3999, 1920, 2399, 599, 2799, 3959, 4559, 3959, 2999, 4559, 3999, 2999, 2299, 1999, 1649, 2149, 2799, 2149, 2279, 3299, 1899, 1979, 2279, 2149, 3359, 1979, 1979, 1979, 1979, 3359, 2399, 3359, 2759, 3359, 5159, 3959, 3959, 3959, 4559, 3359, 4199, 3359, 2999, 2999, 1979, 2999, 4199, 3959, 7199, 4799, 1349, 4799, 3359, 4799, 3359, 2000, 2149, 2999, 2999, 2399, 2299, 3599, 4799, 2399, 2299, 2999, 4559, 779, 1399, 2299, 7999, 3999, 2499, 779, 749, 2999, 3999, 2299, 2799, 2399, 3999, 9999, 7999, 2299, 2499, 2649, 999, 4999, 2999, 4499, 3299, 2299, 2499, 3599, 2299, 2399, 2799, 2499, 2159, 959, 2399, 779, 2499, 2399, 3299, 2799, 5399, 3359, 2159, 2149, 2799, 3999, 5399, 4799, 4799, 3959, 959, 4799, 4999, 6999, 2399, 4559, 7199, 4199, 4799, 3499, 4559, 2399, 2399, 1749, 5319, 3959, 5599, 4559, 5599, 6299, 2999, 1749, 7999, 4559, 3799, 4559, 4799, 499, 3959, 3959, 7199, 1749, 8499, 5319, 4800, 7199, 4799, 2999, 4799, 6599, 4799, 2159, 2399, 5399, 4999, 5599, 7199, 4799, 6499, 3999, 2159, 5399, 2499, 3999, 3999, 2799, 2649, 2499, 2999, 2499, 779, 3999, 2499, 2399, 6599, 2499, 2649, 2399, 2159, 2649, 1679, 5399, 2799, 2299, 3599, 3999, 2799, 4999, 2999, 2799, 2299, 4559, 2149, 1999, 2649, 4799, 2399, 2149, 1399, 3959, 2299, 6599, 4799, 7799, 4799, 749, 3959, 899, 2399, 2799, 2499, 2299, 3299, 2149, 2299, 2799, 3359, 2999, 2999, 2499, 2299, 3599, 2759, 2799, 779, 2999, 2999, 4199, 3999, 3799, 2499, 2999, 2499, 4799, 4999, 2159, 3999, 3959, 3999, 3799, 4799, 3999, 1899, 2159, 5999, 6999, 3999, 3799, 4559, 3299, 2279, 5999, 4559, 5999, 5399, 3999, 8999, 779, 5999, 779, 749, 2399, 2399, 3959, 5999, 649, 6999, 7999, 7199, 4000, 2999, 4799, 4559, 4799, 7999, 7199, 4999, 2579, 2999, 5999, 3999, 7199, 10799, 3499, 3359, 3959, 2799, 3999, 2149, 3299, 2499, 2649, 2799, 5999, 4999, 4499, 2299, 2499, 2299, 2299, 2499, 2499, 2999, 2649, 2299, 2799, 7799, 2649, 3359, 2799, 2499, 2499, 1799, 2999, 2799, 1999, 2299, 2499, 2649, 2999, 2499, 2999, 2499, 2799, 2649, 2149, 1999, 1999, 2799, 2799, 2649, 2499, 1999, 2799, 2299, 2299, 2299, 2799, 3599, 2499, 2799, 7199, 7199, 2799, 4799, 4559, 2649, 5399, 2299, 2499, 3359, 2149, 2999, 3959, 2499, 4559, 4799, 3499, 2640, 2799, 4559, 2149, 2649, 5599, 7799, 2299, 4999, 4799, 2299, 5599, 3599, 2399, 2999, 2499, 4799, 779, 4799, 4999, 4559, 4999, 599, 5599, 899, 4999, 599, 779, 779, 599, 599, 899, 5599, 4599, 4599, 599, 4999, 5599, 5599, 4999, 6599, 4999, 6599, 5599, 5599, 4999, 4999, 5599, 2999, 2999, 6599, 4999, 2499, 4999, 5599, 2799, 2499, 2799, 2649, 2299, 2299, 2999, 2499, 2499, 2499, 2499, 2149, 1999, 2149, 2649, 2279, 2799, 2299, 2759, 2759, 2799, 3599, 2759, 2299, 2279, 3599, 2149, 3359, 4199, 3359, 3359, 4199, 2499, 2999, 2149, 3359, 4199, 3959, 2399, 4199, 3999, 2399, 2499, 3179, 2879, 3359, 4599, 2499, 3799, 2999, 2499, 4799, 2759, 3359, 2999, 2499, 3599, 3359, 3599, 4999, 2499, 4199, 4199, 7999, 3359, 4999, 5599, 7599, 3999, 7599, 4999, 2999, 3999, 2499, 3299, 3799, 7999, 2999, 7999, 10999, 4599, 7599, 11999, 7599, 2499, 7999, 7999, 8999, 6599, 7999, 7999, 6599, 6599, 7999, 7999, 8999, 7999, 7599, 8599, 7599, 8599, 8999, 7599, 8999, 7599, 7599, 7999, 7999, 11999, 7999, 7999, 7999, 8999, 3179, 7999, 7999, 7999, 4199, 3179, 3359, 2159, 3359, 7999, 4199, 1979, 3359, 4799, 4199, 4199, 3359, 3359, 5399, 3599, 3959, 5399, 1499, 3599, 2499, 2299, 4199, 2159, 3999, 3359, 2499, 2799, 3359, 2999, 1999, 4199, 2799, 3599, 2159, 3359, 1499, 3999, 1999, 4799, 1999, 2999, 2299, 2149, 1679, 2499, 2799, 2799, 2149, 2299, 2299, 3999, 7499, 7999, 7999, 1899, 2299, 2499, 8999, 3919, 3919, 2499, 1889, 8999, 10999, 7599, 10999, 7599, 7999, 9999, 7999, 8999, 7999, 7599, 7599, 7999, 7999, 10999, 7599, 10999, 3959, 7999, 8999, 3359, 4999, 6999, 7999, 5999, 3959, 7199, 1249, 3779, 1679, 5999, 4559, 3299, 7199, 7799, 3599, 3599, 4499, 4559, 4999, 4999, 3999, 7999, 3799, 2999, 2400, 3499, 3999, 3599, 3499, 3499, 4799, 5999, 5999, 7199, 7199, 1749, 4999, 2000, 6599, 4799, 6599, 7799, 2999, 5399, 7600, 2999, 2299, 1889, 1920, 4559, 779, 1679, 779, 899, 899, 899, 779, 3999, 899, 1889, 899, 2299, 2299, 779, 2299, 2499, 2399, 1799, 2299, 2649, 2149, 1999, 3999, 959, 7699, 2999, 2499, 2999, 1979, 779, 1679, 1679, 4559, 1649, 2999, 1679, 3799, 1499, 3599, 3599, 5999, 3599, 959, 3599, 4559, 5319, 3959, 2399, 3599, 3599, 3599, 5999, 7499, 7999, 3959, 2999, 4400, 4559, 3359, 3599, 2999, 3999, 4999, 3599, 3200, 6999, 3599, 8999, 4499, 4999, 5399, 3599, 4999, 7599, 5999, 2759, 7799, 3499, 5999, 7799, 3999, 7799, 4799, 4999, 4799, 2499, 4799, 7499, 2149, 5999, 3959, 1499, 5499, 4800, 3799, 3799, 5499, 1889, 3959, 7799, 7199, 7799, 6800, 1749, 1799, 2999, 1799, 6499, 2299, 1889, 2999, 1889, 4199, 2399, 2399, 3599, 8999, 10999, 6999, 7999, 2299, 4199, 3799, 3599, 4799, 2299, 2149, 3959, 3599, 3359, 3959, 5599, 3679, 2399, 3679, 3679, 3839, 3199, 3679, 3199, 3679, 5319, 3199, 3679, 3199, 3679, 3679, 4479, 3999, 3839, 3999, 4239, 3199, 3199, 3439, 4479, 3839, 3839, 5999, 4799, 4479, 3999, 3499, 3499, 3199, 10999, 3999, 7499, 3499, 10999, 10999, 10999, 10999, 10999, 11999, 10999, 10999, 3999, 2399, 10999, 10999, 2799, 3499, 2799, 4999, 4999, 11999, 3299, 3999, 2999, 3299, 2399, 2799, 3299, 4499, 3999, 6499, 7199, 7199, 7799, 5200, 3600, 7799, 3600, 7199, 7199, 7199, 2759, 5399, 3599, 4499, 3799, 3799, 4559, 3999, 3999, 8499, 4499, 3839, 3839, 4479, 3999, 3499, 2499, 5999, 7199, 2499, 5999, 4799, 4799, 8399, 7199, 7199, 7199, 8399, 7199, 9599, 7199, 7199, 4799, 8999, 8399, 4799, 3839, 8399, 4799, 7999, 1840, 899, 4799, 3999, 2879, 4559, 1799, 1899, 6599, 7999, 5999, 3999, 7799, 2299, 5999, 4799, 2399, 4559, 2999, 1799, 2399, 4559, 3999, 2999, 2799, 2799, 3499, 2299, 2999, 2499, 2299, 3999, 3919, 3999, 3799, 3799, 4499, 3999, 4499, 3499, 5999, 3999, 3999, 3799, 4299, 3799, 3999, 3999, 5999, 4499, 5999, 3999, 3999, 6999, 3999, 3799, 2579, 3999, 3499, 5499, 3499, 3499, 3799, 5999, 3799, 6999, 4499, 2759, 2759, 7799, 2759, 2759, 3299, 2999, 5759, 3599, 4559, 3599, 1999, 3599, 1299, 1999, 3599, 4559, 7799, 1299, 7799, 3040, 4559, 2999, 2400, 1299, 2499, 2299, 7199, 2999, 7799, 4799, 3999, 3499, 4799, 2299, 3959, 4559, 5399, 8999, 4559, 6599, 3499, 2499, 4559, 4199, 5399, 4199, 2799, 3919, 2299, 1749, 3799, 1889, 1899, 2499, 4199, 2499, 3919, 2999, 3599, 4799, 2149, 2299, 3359, 2999, 3599, 3359, 3599, 1999, 2999, 3999, 3999, 1679, 3299, 1679, 2399, 1889, 4199, 2299, 2499, 2499, 1889, 1999, 4000, 5499, 2999, 2999, 3359, 11999, 2579, 3359, 2999, 3959, 3959, 3599, 2999, 7799, 5399, 7199, 7199, 7799, 4799, 3599, 6599, 4559, 10999, 4799, 6599, 5999, 10999, 10999, 5999, 7599, 11999, 5999, 4499, 7999, 4999, 5999, 7499, 5499, 3999, 5999, 5999, 4799, 4799, 4559, 4799, 3000, 7199, 3999, 3149, 7799, 5999, 4499, 3499, 3999, 3499, 2999, 2999, 4499, 2799, 2649, 4799, 2299, 3999, 4999, 2159, 9599, 7199, 1899, 7199, 4799, 4799, 5399, 8399, 1499, 9599, 1979, 7199, 9599, 3499, 2240, 1999, 3499, 2649, 2999, 1899, 1999, 2799, 2299, 3999, 2149, 1799, 5999, 1679, 2399, 4799, 5999, 5999, 5599, 2999, 2499, 2399, 2999, 6499, 5999, 3299, 1899, 3999, 3999, 5999, 6499, 3999, 3499, 6999, 5599, 6999, 7599, 3999, 4999, 3999, 1499, 600, 2999, 2149, 5599, 5599, 7999, 7199, 10999, 10999, 4559, 4799, 5599, 5599, 7199, 2999, 3799, 3999, 4559, 3799, 2999, 2649, 2799, 2649, 2799, 2299, 3299, 3999, 2299, 3299, 3999, 3999, 2799, 2999, 2999, 3999, 4599, 3999, 3499, 5999, 5999, 5599, 4599, 3999, 4599, 3599, 3999, 3999, 3999, 3599, 3999, 7799, 4799, 7799, 5599, 4799, 2999, 5599, 5599, 5599, 5599, 5599, 5599, 649, 749, 999, 7999, 5999, 649, 6999, 999, 7999, 4599, 5999, 3599, 4799, 3599, 3359, 2499, 4999, 4599, 4999, 4799, 2999, 7799, 4999, 2999, 3299, 3599, 7799, 5999, 4299, 4299, 4299, 5299, 6599, 6599, 4199, 4799, 5299, 5299, 4199, 4999, 2499, 8999, 3219, 2699, 5399, 5599, 4559, 5999, 5999, 4799, 6999, 4559, 7999, 7999, 4559, 2759, 2400, 7999, 4400, 5999, 4599, 10999, 2299, 7999, 10999, 7999, 7599, 4999, 2759, 4599, 12599, 7999, 4999, 7599, 5399, 7599, 7999, 2799, 12599, 4999, 4599, 1499, 12599, 11899, 7999, 7999, 7999, 7599, 11899, 3799, 9799, 11899, 5999, 2759, 3499, 11899, 4799, 9799, 11899, 2759, 1799, 11899, 3999, 2399, 11899, 7999, 5999, 7999, 3599, 4799, 11999, 8999, 2799, 2999, 3799, 999, 5319, 4000, 2399, 11999, 3400, 1979, 4000, 4000, 5999, 6999, 1799, 3299, 4799, 5999, 3599, 3499, 5999, 3599, 2759, 3599, 3599, 2299, 2399, 1999, 2649, 2799, 2399, 2649, 3799, 8999, 3599, 5499, 2799, 3999, 3999, 8399, 7599, 4199, 7999, 4499, 4499, 3999, 5499, 3999, 8999, 7999, 11999, 7599, 4499, 8999, 5499, 4499, 1499, 5999, 7599, 4499, 7599, 4499, 7999, 7599, 2499, 7599, 4999, 7599, 11999, 2799, 6599, 6599, 3599, 2399, 3999, 3359, 2999, 6599, 7599, 7599, 3499, 7599, 4599, 7599, 6599, 6599, 6599, 7999, 7599, 5299, 8999, 4999, 7999, 7599, 2999, 8999, 5999, 4999, 2499, 4199, 3999, 8999, 2999, 4499, 2299, 3999, 899, 7599, 4559, 7999, 2149, 6999, 7999, 2299, 1799, 3599, 1679, 7999, 2799, 3299, 2649, 2799, 2999, 4799, 4799, 3599, 4799, 7199, 2299, 5319, 4799, 5399, 4559, 7799, 10999, 3959, 4799, 7799, 4799, 3599, 2649, 7799, 5499, 2999, 3999, 6599, 3999, 3200, 7199, 7599, 6499, 3499, 2499, 3359, 1249, 1899, 2799, 11199, 3999, 2499, 2749, 6599, 11999, 11199, 2749, 11899, 4499, 2999, 2799, 11199, 7599, 7999, 2299, 3499, 4400, 4400, 7599, 4000, 1649, 11999, 1799, 3959, 1399, 3499, 10999, 4499, 2399, 2999, 3999, 1399, 2999, 2999, 3359, 1249, 3499, 3599, 5399, 11199, 7799, 6999, 4799, 1799, 4799, 2299, 4400, 4199, 9999, 10999, 7999, 9999, 7999, 4999, 5999, 11999, 9999, 10999, 7599, 7999, 8999, 12599, 6999, 11199, 11899, 3499, 1799, 1249, 3999, 5999, 11999, 8999, 11999, 1299, 1299, 1299, 1299, 1499, 9999, 1499, 1499, 10999, 1299, 7999, 7999, 2799, 2499, 2149, 4999, 8999, 2149, 2149, 10499, 2999, 2799, 2799, 3359, 3999, 1999, 2299, 7499, 2799, 2299, 2799, 2649, 7999, 3999, 11499, 2799, 2299, 2000, 1840, 2299, 3599, 3999, 5399, 4799, 3959, 4799, 7799, 7199, 2799, 2999, 9499, 5999, 1749, 7199, 2499, 7199, 2399, 7999, 10999, 4999, 3599, 4999, 2400, 2499, 3499, 2999, 4999, 2999, 8999, 2149, 1649, 1999, 5319, 2299, 2759, 749, 2240, 1840, 4799, 4559, 7999, 7599, 5599, 2149, 5999, 3999, 4599, 4599, 4599, 4999, 4999, 3959, 4999, 2999, 4599, 6599, 4799, 4799, 3599, 4559, 6599, 4559, 3599, 6599, 2999, 4799, 7999, 2799, 2799, 2799, 2799, 2999, 2799, 2999, 2999, 2799, 7999, 2499, 2799, 3179, 7799, 2159, 7999, 1679, 3199, 3999, 2499, 11999, 11999, 10999, 4559, 899, 7999, 2759, 3499, 2399, 2400, 2799, 6499, 3999, 2499, 2799, 999, 3999, 2799, 3999, 2799, 1999, 2499, 10999, 2999, 7999, 2799, 2299, 4559, 4559, 10999, 3999, 2299, 3999, 3999, 3499, 2999, 2499, 2299, 4999, 1799, 2799, 2759, 2799, 3299, 4559, 2999, 2799, 1999, 3799, 6499, 1799, 5999, 1679, 4799, 2399, 3999, 5499, 3999, 3499, 2499, 7999, 2999, 2999, 2149, 3999, 3499, 2649, 2999, 3499, 2499, 7599, 3799, 9999, 2149, 10999, 7999, 1899, 7999, 1399, 3999, 2149, 2149, 2499, 2999, 4999, 7999, 2499, 9599, 4799, 2499, 7799, 2999, 2499, 2499, 9599, 2999, 7799, 4619, 2799, 4999, 4999, 4999, 3999, 7999, 7999, 3999, 3999, 8399, 4599, 5999, 2999, 3499, 5999, 2799, 3999, 3799, 3600, 3499, 2299, 2999, 1499, 2499, 5399, 4800, 3299, 3999, 2649, 3999, 2649, 2649, 2799, 3999, 4559, 5200, 2299, 2499, 2649, 3499, 2499, 2499, 2149, 2499, 3999, 7199, 2799, 1799, 1899, 2299, 2149, 2299, 1999, 1999, 1679, 7199, 1799, 1840, 2000, 10999, 2000, 1840, 9499, 3799, 3999, 3999, 4499, 2000, 4499, 2999, 3179, 5399, 2799, 3359, 2299, 3599, 2799, 4799, 3359, 8999, 7199, 2759, 3959, 2759, 3959, 5999, 4799, 5399, 2999, 4559, 5399, 7199, 3959, 4199, 4799, 4559, 7199, 4559, 4559, 4799, 2999, 2999, 4400, 4999, 3599, 2149, 8399, 1499, 12599, 12599, 5999, 4599, 4799, 2799, 3599, 2149, 2999, 2399, 2149, 2759, 2879, 3959, 4599, 5999, 2879, 4599, 4599, 6599, 5999, 4599, 5999, 5999, 6599, 6599, 5999, 6999, 5999, 3999, 10999, 3999, 3999, 3999, 5499, 3999, 2999, 3999, 4299, 3999, 3499, 5499, 6999, 6499, 4999, 3999, 4299, 1999, 449, 2299, 499, 2149, 2799, 2799, 2499, 3499, 2799, 1679, 4499, 3999, 2999, 6499, 5999, 3999, 3999, 5999, 7499, 3999, 4499, 4999, 4499, 7499, 2999, 3999, 6499, 3999, 4499, 3799, 3999, 4999, 9499, 4299, 3959, 5499, 3999, 2799, 2999, 2999, 2999, 2799, 4999, 2999, 2999, 2499, 1999, 2399, 4559, 2999, 7799, 6599, 6599, 4559, 4559, 6599, 7799, 4799, 4559, 6599, 7199, 4499, 4559, 4799, 1499, 3999, 1889, 3499, 1799, 3799, 4499, 3999, 3999, 1799, 2649, 3999, 3959, 2799, 2299, 2999, 2799, 2799, 2799, 749, 5399, 5999, 2879, 9099, 10999, 3999, 2499, 3499, 2759, 2499, 2499, 4499, 8999, 1679, 1249, 2999, 1249, 2759, 7799, 10199, 2579, 2799, 2579, 3599, 6599, 6499, 4799, 5999, 8999, 5999, 5999, 4799, 3179, 899, 1979, 8999, 3359, 4199, 4799, 1889, 4559, 2499, 4559, 3599, 4799, 7199, 2299, 3959, 3599, 2999, 2759, 2759, 3959, 3959, 5599, 3599, 7699, 9999, 5599, 2499, 3839, 4799, 6499, 3299, 3439, 5600, 5600, 5600, 5600, 5600, 2299, 1679, 899, 2999, 599, 3299, 7499, 3599, 5999, 4999, 2759, 7999, 7999, 3200, 6599, 6599, 5999, 1499, 6999, 6599, 6999, 3999, 3999, 4999, 5599, 4999, 3999, 5599, 5999, 9999, 9999, 1499, 11899, 1679, 10999, 10999, 10999, 9999, 9999, 11999, 9999, 9999, 3499, 2499, 9999, 10999, 4799, 3299, 7199, 4199, 6599, 4199, 4199, 2999, 4199, 4799, 4599, 10999, 4799, 3959, 3959, 6599, 10499, 5999, 2249, 6499, 6499, 6499, 7499, 6499, 2299, 2299, 6499, 6499, 2999, 6499, 6999, 7499, 3299, 2299, 2299, 2299, 2159, 2999, 1999, 6499, 2499, 5999, 7499, 6499, 5999, 4999, 5499, 2499, 5999, 3599, 2759, 5599, 2799, 4499, 7999, 2999, 2999, 2499, 1679, 6499, 2999, 2499, 10999, 11499, 5999, 5999, 7799, 6999, 5599, 7999, 7999, 3299, 10999, 10999, 7599, 7999, 5299, 6999, 7999, 2149, 7999, 7999, 7999, 8999, 7999, 4599, 3959, 3599, 3959, 3599, 8999, 3359, 7999, 7999, 10999, 7599, 9999, 11999, 8999, 7999, 7499, 7999, 4499, 2759, 3299, 2759, 2999, 2759, 2999, 6999, 4199, 8399, 5999, 5999, 3959, 2759, 8999, 2399, 3839, 10999, 2699, 8999, 1649, 3959, 4799, 4499, 1999, 8999, 4799, 1499, 1889, 10499, 6599, 1499, 2399, 1799, 2999, 6599, 6999, 11199, 6499, 4999, 4619, 4559, 8999, 2799, 2799, 2799, 2799, 12599, 11999, 6400, 5399, 499, 4599, 2699, 3200, 4799, 5599, 2399, 3959, 2879, 7799, 4999, 4999, 5999, 12599, 3799, 3599, 11999, 11999, 11999, 1749, 8999, 11199, 4999, 6599, 3999, 6000, 5200, 2799, 1499, 3999, 7999, 2999, 3999, 3999, 3999, 3299, 3299, 3799, 3999, 3999, 3999, 3799, 3799, 2999, 2999, 3799, 3999, 3999, 2799, 5999, 2999, 3799, 2240, 3959, 2759, 3959, 4799, 12599, 7199, 4599, 4599, 5999, 5999, 6599, 5999, 10999, 4599, 3999, 2999, 6999, 499, 1899, 8999, 6999, 2499, 2499, 2499, 7799, 4559, 3959, 6599, 4559, 8999, 4799, 2499, 4199, 4799, 779, 4799, 7799, 2799, 3299, 3999, 8499, 2299, 2879, 8999, 5999, 2879, 2999, 7499, 1649, 5999, 3799, 3959, 9999, 11999, 9999, 6599, 2799, 2279, 4599, 8499, 5999, 4599, 7199, 2299, 6499, 2299, 2399, 2999, 5499, 10999, 1399, 2799, 899, 2999, 2999, 6999, 5999, 2399, 11899, 5999, 1899, 5999, 11199, 11899, 5499, 3439, 3439, 4999, 2999, 2399, 2999, 4199, 2799, 5999, 3999, 8999, 5399, 3999, 6599, 3999, 5999, 3999, 2499, 11999, 4799, 5999, 5599, 3999, 7999, 6999, 9999, 7999, 9999, 4999, 4799, 4799, 7499, 4000, 5599, 4999, 7199, 7799, 9999, 10999, 6999, 3999, 7999, 7495, 7495, 9995, 9995, 9995, 9995, 5995, 9995, 9995, 7495, 10495, 7995, 9995, 7995, 5495, 5597, 10995, 11995, 9995, 2495, 11995, 1995, 5995, 11997, 8995, 7595, 8995, 9995, 7995, 6495, 5495, 9995, 11995, 10995, 5495, 8995, 9995, 10995, 9995, 11995, 11197, 4995, 10995, 7995, 11995, 6995, 7995, 11995, 8397, 9995, 5995, 7995, 11995, 7797, 5997, 8795, 8995, 7995, 6995, 9995, 7995, 7495, 10995, 9995, 7697, 7495, 6997, 9597, 8495, 11197, 4797, 11197, 6995, 8797, 7995, 11995, 6597, 12797, 8495, 6597, 8397, 5995, 7595, 9995, 7995, 5947, 7995, 7995, 9597, 6997, 5995, 10497, 6995, 8797, 8397, 8995, 7995, 3997, 11995, 5495, 7995, 9995, 8995, 7697, 11995, 7995, 10995, 9995, 8995, 10995, 7995, 7197, 11197, 6995, 1595, 9637, 11997, 7995, 10995, 6495, 8995, 9995, 11995, 7197, 12797, 7197, 10995, 7995, 11995, 5247, 10995, 10995, 4497, 5295, 9995, 8495, 8995, 4797, 7995, 12797, 7997, 9995, 11197, 7995, 5247, 8997, 6397, 8995, 9995, 11995, 7797, 9995, 3995, 10197, 5997, 9995, 11995, 4495, 10995, 11197, 8995, 7797, 5597, 10995, 11197, 8397, 9995, 1995, 5495, 5495, 7995, 7995, 2495, 5397, 7995, 6397, 7197, 7997, 10995, 6397, 7995, 5495, 7995, 6495, 5495, 8995, 10495, 10995, 5995, 11995, 9495, 6495, 8495, 6995, 7295, 5995, 9597, 7995, 3497, 6997, 6397, 6597, 6297, 11197, 2795, 8797, 6495, 7495, 10995, 9995, 5495, 10995, 6997, 4897, 3497, 9995, 11995, 8997, 6297, 12797, 5597, 3497, 2097, 4995, 1595, 11897, 6397, 7595, 11995, 4995, 10995, 4797, 9097, 9097, 10995, 4495, 5247, 10397, 5495, 8995, 7995, 11897, 9995, 9995, 8995, 11197, 4495, 10995, 6995, 6995, 4495, 7697, 6595, 7197, 5247, 11995, 8397, 4495, 8495, 9597, 6397, 5947, 9995, 9797, 11995, 5947, 6495, 12597, 5397, 11197, 11995, 6597, 9995, 10995, 3147, 5495, 8397, 11995, 7995, 7697, 7697, 8797, 5995, 6995, 5597, 6495, 7997, 3497, 10995, 11995, 10995, 12797, 6495, 1595, 9995, 8495, 12797, 11997, 5997, 11197, 11995, 7997, 10995, 2495, 10397, 9995, 9597, 10995, 11197, 10995, 8995, 8397, 4495, 5247, 11197, 3597, 8995, 7995, 7495, 3997, 6317, 11995, 7697, 12797, 5995, 7495, 8995, 8995, 5947, 7797, 6995, 4197, 10995, 9797, 2397, 5995, 4495, 10397, 4497, 11897, 9995, 7197, 7197, 9797, 7797, 7995, 7995, 9995, 8995, 6597, 4547, 3357, 5495, 11197, 7995, 11197, 2995, 12597, 9597, 3695, 6995, 5495, 5997, 5247, 8995, 6495, 8397, 6797, 8995, 6495, 10995, 11197, 4797, 11995, 6597, 10497, 10495, 11197, 6995, 5995, 9995, 7495, 7995, 6995, 11995, 6995, 8995, 10995, 5247, 7997, 5247, 4495, 10995, 5397, 7995, 11995, 5397, 4797, 6995, 6495, 5597, 7197, 6397, 3497, 11197, 11197, 8397, 11197, 7197, 9995, 4495, 8397, 3147, 5997, 3147, 12797, 5995, 6797, 10497, 6495, 9597, 9995, 9597, 7197, 7197, 10397, 10995, 7495, 10995, 11995, 3197, 8495, 9995, 10197, 5995, 7995, 5597, 9597, 5997, 8995, 3997, 7597, 9597, 8795, 7995, 9597, 10197, 6297, 7995, 6397, 11995, 9097, 8995, 7197, 7697, 9597, 11197, 8495, 7997, 9995, 5597, 5995, 4495, 6495, 5597, 7495, 7495, 8495, 7995, 9995, 5247, 6797, 7197, 4995, 12797, 11995, 5247, 6495, 8797, 12797, 3497, 5947, 6297]\n"
          ]
        }
      ]
    },
    {
      "cell_type": "code",
      "source": [
        "# Menghitung nilai mean dan median data\n",
        "print(\"Mean data : \",statistics.mean(list(df['Sale Price'])))\n",
        "print(\"Median data : \",statistics.median(list(df['Sale Price'])))\n",
        "print(\"Mean data setelah deleting : \",statistics.mean(tr))\n",
        "print(\"Median data setelah deleting: \",statistics.median(tr))"
      ],
      "metadata": {
        "colab": {
          "base_uri": "https://localhost:8080/"
        },
        "id": "-ELRSqOFJOCM",
        "outputId": "8efedc03-af59-4f50-9110-4115634c3179"
      },
      "execution_count": null,
      "outputs": [
        {
          "output_type": "stream",
          "name": "stdout",
          "text": [
            "Mean data :  6134.265605875153\n",
            "Median data :  4799.0\n",
            "Mean data setelah deleting :  5179.673237554293\n",
            "Median data setelah deleting:  4499\n"
          ]
        }
      ]
    },
    {
      "cell_type": "code",
      "source": [
        "plt.boxplot(tr, vert=False)\n",
        "plt.title(\"After replacing outlier\")\n",
        "plt.xlabel('Sale Price')"
      ],
      "metadata": {
        "colab": {
          "base_uri": "https://localhost:8080/",
          "height": 489
        },
        "id": "IypCHEKbJV4l",
        "outputId": "d264dd35-6449-46bc-d2e2-8924537fd355"
      },
      "execution_count": null,
      "outputs": [
        {
          "output_type": "execute_result",
          "data": {
            "text/plain": [
              "Text(0.5, 0, 'Sale Price')"
            ]
          },
          "metadata": {},
          "execution_count": 222
        },
        {
          "output_type": "display_data",
          "data": {
            "text/plain": [
              "<Figure size 640x480 with 1 Axes>"
            ],
            "image/png": "[encoded data removed]"
          },
          "metadata": {}
        }
      ]
    },
    {
      "cell_type": "code",
      "source": [
        "# Menggolongkan review dan melihat persebarannya dalam data\n",
        "Sale_Price1 = df['Sale Price'][(df['Sale Price'] <= 2500) & (df['Sale Price'] >= 0)]\n",
        "Sale_Price2 = df['Sale Price'][(df['Sale Price']<= 4000) & (df['Sale Price'] >= 2501)]\n",
        "Sale_Price3 = df['Sale Price'][(df['Sale Price'] <= 5500) & (df['Sale Price'] >= 4001)]\n",
        "Sale_Price4 = df['Sale Price'][(df['Sale Price'] <= 7000) & (df['Sale Price'] >= 5501)]\n",
        "Sale_Price5 = df['Sale Price'][(df['Sale Price'] <= 8500) & (df['Sale Price'] >= 7001)]\n",
        "Sale_Price6 = df['Sale Price'][(df['Sale Price'] >= 8501)]\n",
        "\n",
        "x = [\"0-2500\",\"2501-4000\",\"4001-5500\",\"5501-7000\", \"7001-9500\", \"9500+\"]\n",
        "y = [len(Sale_Price1.values),len(Sale_Price2.values),len(Sale_Price3.values),len(Sale_Price4.values),len(Sale_Price5.values), len(Sale_Price6.values)]\n",
        "\n",
        "plt.figure(figsize=(15,6))\n",
        "sns.barplot(x=x, y=y, palette=\"rocket\")\n",
        "plt.title(\"Number of Product and Sale Price\")\n",
        "plt.xlabel(\"Sale Price\")\n",
        "plt.ylabel(\"Number of Product\")\n",
        "plt.show()"
      ],
      "metadata": {
        "colab": {
          "base_uri": "https://localhost:8080/",
          "height": 564
        },
        "id": "bGtlrw2oJZBp",
        "outputId": "2e119d05-ecc2-40e9-f5b3-5a5601766d66"
      },
      "execution_count": null,
      "outputs": [
        {
          "output_type": "display_data",
          "data": {
            "text/plain": [
              "<Figure size 1500x600 with 1 Axes>"
            ],
            "image/png": "[encoded data removed]"
          },
          "metadata": {}
        }
      ]
    },
    {
      "cell_type": "code",
      "source": [
        "# Melihat perbandingan data kategori disetiap kolom\n",
        "for col in categorical:\n",
        "    plt.figure(figsize=(8,6))\n",
        "    sns.countplot(x=col, data=df)\n",
        "    plt.tight_layout()"
      ],
      "metadata": {
        "colab": {
          "base_uri": "https://localhost:8080/",
          "height": 607
        },
        "id": "-PNyZXY3OvZj",
        "outputId": "a4ca394f-d60c-496a-bf34-f0e03fd9a717"
      },
      "execution_count": null,
      "outputs": [
        {
          "output_type": "display_data",
          "data": {
            "text/plain": [
              "<Figure size 800x600 with 1 Axes>"
            ],
            "image/png": "[encoded data removed]"
          },
          "metadata": {}
        }
      ]
    },
    {
      "cell_type": "markdown",
      "metadata": {
        "id": "ybN-zvjYkE8l"
      },
      "source": [
        "## Data Preprocessing"
      ]
    },
    {
      "cell_type": "code",
      "source": [
        "#Membuat dataframe baru setelah handling outlier\n",
        "new_df = df[[\"Product Name\", \"Product ID\", \"Listing Price\", \"Sale Price\", \"Discount\", \"Brand\", \"Description\", \"Rating\", \"Reviews\"]]\n",
        "new_df.head()"
      ],
      "metadata": {
        "colab": {
          "base_uri": "https://localhost:8080/",
          "height": 206
        },
        "id": "lxOAc_reWRs6",
        "outputId": "df1e59c5-edf0-4803-ce4e-9625b49aa20b"
      },
      "execution_count": null,
      "outputs": [
        {
          "output_type": "execute_result",
          "data": {
            "text/plain": [
              "                                        Product Name Product ID  \\\n",
              "0  Women's adidas Originals NMD_Racer Primeknit S...     AH2430   \n",
              "1               Women's adidas Originals Sleek Shoes     G27341   \n",
              "2                  Women's adidas Swim Puka Slippers     CM0081   \n",
              "3   Women's adidas Sport Inspired Questar Ride Shoes     B44832   \n",
              "4           Women's adidas Originals Taekwondo Shoes     D98205   \n",
              "\n",
              "   Listing Price  Sale Price  Discount              Brand  \\\n",
              "0          14999        7499        50   Adidas ORIGINALS   \n",
              "1           7599        3799        50   Adidas ORIGINALS   \n",
              "2            999         599        40  Adidas CORE / NEO   \n",
              "3           6999        3499        50  Adidas CORE / NEO   \n",
              "4           7999        3999        50   Adidas ORIGINALS   \n",
              "\n",
              "                                         Description  Rating  Reviews  \n",
              "0  Channeling the streamlined look of an '80s rac...     4.8       41  \n",
              "1  A modern take on adidas sport heritage, tailor...     3.3       24  \n",
              "2  These adidas Puka slippers for women's come wi...     2.6       37  \n",
              "3  Inspired by modern tech runners, these women's...     4.1       35  \n",
              "4  This design is inspired by vintage Taekwondo s...     3.5       72  "
            ],
            "text/html": [
              "\n",
              "  <div id=\"df-95e82cac-7aa5-4362-a68b-56da685b42cc\">\n",
              "    <div class=\"colab-df-container\">\n",
              "      <div>\n",
              "<style scoped>\n",
              "    .dataframe tbody tr th:only-of-type {\n",
              "        vertical-align: middle;\n",
              "    }\n",
              "\n",
              "    .dataframe tbody tr th {\n",
              "        vertical-align: top;\n",
              "    }\n",
              "\n",
              "    .dataframe thead th {\n",
              "        text-align: right;\n",
              "    }\n",
              "</style>\n",
              "<table border=\"1\" class=\"dataframe\">\n",
              "  <thead>\n",
              "    <tr style=\"text-align: right;\">\n",
              "      <th></th>\n",
              "      <th>Product Name</th>\n",
              "      <th>Product ID</th>\n",
              "      <th>Listing Price</th>\n",
              "      <th>Sale Price</th>\n",
              "      <th>Discount</th>\n",
              "      <th>Brand</th>\n",
              "      <th>Description</th>\n",
              "      <th>Rating</th>\n",
              "      <th>Reviews</th>\n",
              "    </tr>\n",
              "  </thead>\n",
              "  <tbody>\n",
              "    <tr>\n",
              "      <th>0</th>\n",
              "      <td>Women's adidas Originals NMD_Racer Primeknit S...</td>\n",
              "      <td>AH2430</td>\n",
              "      <td>14999</td>\n",
              "      <td>7499</td>\n",
              "      <td>50</td>\n",
              "      <td>Adidas ORIGINALS</td>\n",
              "      <td>Channeling the streamlined look of an '80s rac...</td>\n",
              "      <td>4.8</td>\n",
              "      <td>41</td>\n",
              "    </tr>\n",
              "    <tr>\n",
              "      <th>1</th>\n",
              "      <td>Women's adidas Originals Sleek Shoes</td>\n",
              "      <td>G27341</td>\n",
              "      <td>7599</td>\n",
              "      <td>3799</td>\n",
              "      <td>50</td>\n",
              "      <td>Adidas ORIGINALS</td>\n",
              "      <td>A modern take on adidas sport heritage, tailor...</td>\n",
              "      <td>3.3</td>\n",
              "      <td>24</td>\n",
              "    </tr>\n",
              "    <tr>\n",
              "      <th>2</th>\n",
              "      <td>Women's adidas Swim Puka Slippers</td>\n",
              "      <td>CM0081</td>\n",
              "      <td>999</td>\n",
              "      <td>599</td>\n",
              "      <td>40</td>\n",
              "      <td>Adidas CORE / NEO</td>\n",
              "      <td>These adidas Puka slippers for women's come wi...</td>\n",
              "      <td>2.6</td>\n",
              "      <td>37</td>\n",
              "    </tr>\n",
              "    <tr>\n",
              "      <th>3</th>\n",
              "      <td>Women's adidas Sport Inspired Questar Ride Shoes</td>\n",
              "      <td>B44832</td>\n",
              "      <td>6999</td>\n",
              "      <td>3499</td>\n",
              "      <td>50</td>\n",
              "      <td>Adidas CORE / NEO</td>\n",
              "      <td>Inspired by modern tech runners, these women's...</td>\n",
              "      <td>4.1</td>\n",
              "      <td>35</td>\n",
              "    </tr>\n",
              "    <tr>\n",
              "      <th>4</th>\n",
              "      <td>Women's adidas Originals Taekwondo Shoes</td>\n",
              "      <td>D98205</td>\n",
              "      <td>7999</td>\n",
              "      <td>3999</td>\n",
              "      <td>50</td>\n",
              "      <td>Adidas ORIGINALS</td>\n",
              "      <td>This design is inspired by vintage Taekwondo s...</td>\n",
              "      <td>3.5</td>\n",
              "      <td>72</td>\n",
              "    </tr>\n",
              "  </tbody>\n",
              "</table>\n",
              "</div>\n",
              "      <button class=\"colab-df-convert\" onclick=\"convertToInteractive('df-95e82cac-7aa5-4362-a68b-56da685b42cc')\"\n",
              "              title=\"Convert this dataframe to an interactive table.\"\n",
              "              style=\"display:none;\">\n",
              "        \n",
              "  <svg xmlns=\"http://www.w3.org/2000/svg\" height=\"24px\"viewBox=\"0 0 24 24\"\n",
              "       width=\"24px\">\n",
              "    <path d=\"M0 0h24v24H0V0z\" fill=\"none\"/>\n",
              "    <path d=\"M18.56 5.44l.94 2.06.94-2.06 2.06-.94-2.06-.94-.94-2.06-.94 2.06-2.06.94zm-11 1L8.5 8.5l.94-2.06 2.06-.94-2.06-.94L8.5 2.5l-.94 2.06-2.06.94zm10 10l.94 2.06.94-2.06 2.06-.94-2.06-.94-.94-2.06-.94 2.06-2.06.94z\"/><path d=\"M17.41 7.96l-1.37-1.37c-.4-.4-.92-.59-1.43-.59-.52 0-1.04.2-1.43.59L10.3 9.45l-7.72 7.72c-.78.78-.78 2.05 0 2.83L4 21.41c.39.39.9.59 1.41.59.51 0 1.02-.2 1.41-.59l7.78-7.78 2.81-2.81c.8-.78.8-2.07 0-2.86zM5.41 20L4 18.59l7.72-7.72 1.47 1.35L5.41 20z\"/>\n",
              "  </svg>\n",
              "      </button>\n",
              "      \n",
              "  <style>\n",
              "    .colab-df-container {\n",
              "      display:flex;\n",
              "      flex-wrap:wrap;\n",
              "      gap: 12px;\n",
              "    }\n",
              "\n",
              "    .colab-df-convert {\n",
              "      background-color: #E8F0FE;\n",
              "      border: none;\n",
              "      border-radius: 50%;\n",
              "      cursor: pointer;\n",
              "      display: none;\n",
              "      fill: #1967D2;\n",
              "      height: 32px;\n",
              "      padding: 0 0 0 0;\n",
              "      width: 32px;\n",
              "    }\n",
              "\n",
              "    .colab-df-convert:hover {\n",
              "      background-color: #E2EBFA;\n",
              "      box-shadow: 0px 1px 2px rgba(60, 64, 67, 0.3), 0px 1px 3px 1px rgba(60, 64, 67, 0.15);\n",
              "      fill: #174EA6;\n",
              "    }\n",
              "\n",
              "    [theme=dark] .colab-df-convert {\n",
              "      background-color: #3B4455;\n",
              "      fill: #D2E3FC;\n",
              "    }\n",
              "\n",
              "    [theme=dark] .colab-df-convert:hover {\n",
              "      background-color: #434B5C;\n",
              "      box-shadow: 0px 1px 3px 1px rgba(0, 0, 0, 0.15);\n",
              "      filter: drop-shadow(0px 1px 2px rgba(0, 0, 0, 0.3));\n",
              "      fill: #FFFFFF;\n",
              "    }\n",
              "  </style>\n",
              "\n",
              "      <script>\n",
              "        const buttonEl =\n",
              "          document.querySelector('#df-95e82cac-7aa5-4362-a68b-56da685b42cc button.colab-df-convert');\n",
              "        buttonEl.style.display =\n",
              "          google.colab.kernel.accessAllowed ? 'block' : 'none';\n",
              "\n",
              "        async function convertToInteractive(key) {\n",
              "          const element = document.querySelector('#df-95e82cac-7aa5-4362-a68b-56da685b42cc');\n",
              "          const dataTable =\n",
              "            await google.colab.kernel.invokeFunction('convertToInteractive',\n",
              "                                                     [key], {});\n",
              "          if (!dataTable) return;\n",
              "\n",
              "          const docLinkHtml = 'Like what you see? Visit the ' +\n",
              "            '<a target=\"_blank\" href=https://colab.research.google.com/notebooks/data_table.ipynb>data table notebook</a>'\n",
              "            + ' to learn more about interactive tables.';\n",
              "          element.innerHTML = '';\n",
              "          dataTable['output_type'] = 'display_data';\n",
              "          await google.colab.output.renderOutput(dataTable, element);\n",
              "          const docLink = document.createElement('div');\n",
              "          docLink.innerHTML = docLinkHtml;\n",
              "          element.appendChild(docLink);\n",
              "        }\n",
              "      </script>\n",
              "    </div>\n",
              "  </div>\n",
              "  "
            ]
          },
          "metadata": {},
          "execution_count": 225
        }
      ]
    },
    {
      "cell_type": "code",
      "source": [
        "new_df.rename(columns={\"Listing Price\": \"Listing_Price\", \"Sale Price\": \"Sale_Price\"}, inplace=True)\n",
        "\n",
        "new_df.head()"
      ],
      "metadata": {
        "colab": {
          "base_uri": "https://localhost:8080/",
          "height": 293
        },
        "id": "biMR0wyO5D4E",
        "outputId": "09acfa7c-c78d-4e5e-f4e3-c285147e2267"
      },
      "execution_count": null,
      "outputs": [
        {
          "output_type": "stream",
          "name": "stderr",
          "text": [
            "<ipython-input-226-07f53c3c036b>:1: SettingWithCopyWarning: \n",
            "A value is trying to be set on a copy of a slice from a DataFrame\n",
            "\n",
            "See the caveats in the documentation: https://pandas.pydata.org/pandas-docs/stable/user_guide/indexing.html#returning-a-view-versus-a-copy\n",
            "  new_df.rename(columns={\"Listing Price\": \"Listing_Price\", \"Sale Price\": \"Sale_Price\"}, inplace=True)\n"
          ]
        },
        {
          "output_type": "execute_result",
          "data": {
            "text/plain": [
              "                                        Product Name Product ID  \\\n",
              "0  Women's adidas Originals NMD_Racer Primeknit S...     AH2430   \n",
              "1               Women's adidas Originals Sleek Shoes     G27341   \n",
              "2                  Women's adidas Swim Puka Slippers     CM0081   \n",
              "3   Women's adidas Sport Inspired Questar Ride Shoes     B44832   \n",
              "4           Women's adidas Originals Taekwondo Shoes     D98205   \n",
              "\n",
              "   Listing_Price  Sale_Price  Discount              Brand  \\\n",
              "0          14999        7499        50   Adidas ORIGINALS   \n",
              "1           7599        3799        50   Adidas ORIGINALS   \n",
              "2            999         599        40  Adidas CORE / NEO   \n",
              "3           6999        3499        50  Adidas CORE / NEO   \n",
              "4           7999        3999        50   Adidas ORIGINALS   \n",
              "\n",
              "                                         Description  Rating  Reviews  \n",
              "0  Channeling the streamlined look of an '80s rac...     4.8       41  \n",
              "1  A modern take on adidas sport heritage, tailor...     3.3       24  \n",
              "2  These adidas Puka slippers for women's come wi...     2.6       37  \n",
              "3  Inspired by modern tech runners, these women's...     4.1       35  \n",
              "4  This design is inspired by vintage Taekwondo s...     3.5       72  "
            ],
            "text/html": [
              "\n",
              "  <div id=\"df-ffc72321-8552-4ce3-8dec-b850fce07122\">\n",
              "    <div class=\"colab-df-container\">\n",
              "      <div>\n",
              "<style scoped>\n",
              "    .dataframe tbody tr th:only-of-type {\n",
              "        vertical-align: middle;\n",
              "    }\n",
              "\n",
              "    .dataframe tbody tr th {\n",
              "        vertical-align: top;\n",
              "    }\n",
              "\n",
              "    .dataframe thead th {\n",
              "        text-align: right;\n",
              "    }\n",
              "</style>\n",
              "<table border=\"1\" class=\"dataframe\">\n",
              "  <thead>\n",
              "    <tr style=\"text-align: right;\">\n",
              "      <th></th>\n",
              "      <th>Product Name</th>\n",
              "      <th>Product ID</th>\n",
              "      <th>Listing_Price</th>\n",
              "      <th>Sale_Price</th>\n",
              "      <th>Discount</th>\n",
              "      <th>Brand</th>\n",
              "      <th>Description</th>\n",
              "      <th>Rating</th>\n",
              "      <th>Reviews</th>\n",
              "    </tr>\n",
              "  </thead>\n",
              "  <tbody>\n",
              "    <tr>\n",
              "      <th>0</th>\n",
              "      <td>Women's adidas Originals NMD_Racer Primeknit S...</td>\n",
              "      <td>AH2430</td>\n",
              "      <td>14999</td>\n",
              "      <td>7499</td>\n",
              "      <td>50</td>\n",
              "      <td>Adidas ORIGINALS</td>\n",
              "      <td>Channeling the streamlined look of an '80s rac...</td>\n",
              "      <td>4.8</td>\n",
              "      <td>41</td>\n",
              "    </tr>\n",
              "    <tr>\n",
              "      <th>1</th>\n",
              "      <td>Women's adidas Originals Sleek Shoes</td>\n",
              "      <td>G27341</td>\n",
              "      <td>7599</td>\n",
              "      <td>3799</td>\n",
              "      <td>50</td>\n",
              "      <td>Adidas ORIGINALS</td>\n",
              "      <td>A modern take on adidas sport heritage, tailor...</td>\n",
              "      <td>3.3</td>\n",
              "      <td>24</td>\n",
              "    </tr>\n",
              "    <tr>\n",
              "      <th>2</th>\n",
              "      <td>Women's adidas Swim Puka Slippers</td>\n",
              "      <td>CM0081</td>\n",
              "      <td>999</td>\n",
              "      <td>599</td>\n",
              "      <td>40</td>\n",
              "      <td>Adidas CORE / NEO</td>\n",
              "      <td>These adidas Puka slippers for women's come wi...</td>\n",
              "      <td>2.6</td>\n",
              "      <td>37</td>\n",
              "    </tr>\n",
              "    <tr>\n",
              "      <th>3</th>\n",
              "      <td>Women's adidas Sport Inspired Questar Ride Shoes</td>\n",
              "      <td>B44832</td>\n",
              "      <td>6999</td>\n",
              "      <td>3499</td>\n",
              "      <td>50</td>\n",
              "      <td>Adidas CORE / NEO</td>\n",
              "      <td>Inspired by modern tech runners, these women's...</td>\n",
              "      <td>4.1</td>\n",
              "      <td>35</td>\n",
              "    </tr>\n",
              "    <tr>\n",
              "      <th>4</th>\n",
              "      <td>Women's adidas Originals Taekwondo Shoes</td>\n",
              "      <td>D98205</td>\n",
              "      <td>7999</td>\n",
              "      <td>3999</td>\n",
              "      <td>50</td>\n",
              "      <td>Adidas ORIGINALS</td>\n",
              "      <td>This design is inspired by vintage Taekwondo s...</td>\n",
              "      <td>3.5</td>\n",
              "      <td>72</td>\n",
              "    </tr>\n",
              "  </tbody>\n",
              "</table>\n",
              "</div>\n",
              "      <button class=\"colab-df-convert\" onclick=\"convertToInteractive('df-ffc72321-8552-4ce3-8dec-b850fce07122')\"\n",
              "              title=\"Convert this dataframe to an interactive table.\"\n",
              "              style=\"display:none;\">\n",
              "        \n",
              "  <svg xmlns=\"http://www.w3.org/2000/svg\" height=\"24px\"viewBox=\"0 0 24 24\"\n",
              "       width=\"24px\">\n",
              "    <path d=\"M0 0h24v24H0V0z\" fill=\"none\"/>\n",
              "    <path d=\"M18.56 5.44l.94 2.06.94-2.06 2.06-.94-2.06-.94-.94-2.06-.94 2.06-2.06.94zm-11 1L8.5 8.5l.94-2.06 2.06-.94-2.06-.94L8.5 2.5l-.94 2.06-2.06.94zm10 10l.94 2.06.94-2.06 2.06-.94-2.06-.94-.94-2.06-.94 2.06-2.06.94z\"/><path d=\"M17.41 7.96l-1.37-1.37c-.4-.4-.92-.59-1.43-.59-.52 0-1.04.2-1.43.59L10.3 9.45l-7.72 7.72c-.78.78-.78 2.05 0 2.83L4 21.41c.39.39.9.59 1.41.59.51 0 1.02-.2 1.41-.59l7.78-7.78 2.81-2.81c.8-.78.8-2.07 0-2.86zM5.41 20L4 18.59l7.72-7.72 1.47 1.35L5.41 20z\"/>\n",
              "  </svg>\n",
              "      </button>\n",
              "      \n",
              "  <style>\n",
              "    .colab-df-container {\n",
              "      display:flex;\n",
              "      flex-wrap:wrap;\n",
              "      gap: 12px;\n",
              "    }\n",
              "\n",
              "    .colab-df-convert {\n",
              "      background-color: #E8F0FE;\n",
              "      border: none;\n",
              "      border-radius: 50%;\n",
              "      cursor: pointer;\n",
              "      display: none;\n",
              "      fill: #1967D2;\n",
              "      height: 32px;\n",
              "      padding: 0 0 0 0;\n",
              "      width: 32px;\n",
              "    }\n",
              "\n",
              "    .colab-df-convert:hover {\n",
              "      background-color: #E2EBFA;\n",
              "      box-shadow: 0px 1px 2px rgba(60, 64, 67, 0.3), 0px 1px 3px 1px rgba(60, 64, 67, 0.15);\n",
              "      fill: #174EA6;\n",
              "    }\n",
              "\n",
              "    [theme=dark] .colab-df-convert {\n",
              "      background-color: #3B4455;\n",
              "      fill: #D2E3FC;\n",
              "    }\n",
              "\n",
              "    [theme=dark] .colab-df-convert:hover {\n",
              "      background-color: #434B5C;\n",
              "      box-shadow: 0px 1px 3px 1px rgba(0, 0, 0, 0.15);\n",
              "      filter: drop-shadow(0px 1px 2px rgba(0, 0, 0, 0.3));\n",
              "      fill: #FFFFFF;\n",
              "    }\n",
              "  </style>\n",
              "\n",
              "      <script>\n",
              "        const buttonEl =\n",
              "          document.querySelector('#df-ffc72321-8552-4ce3-8dec-b850fce07122 button.colab-df-convert');\n",
              "        buttonEl.style.display =\n",
              "          google.colab.kernel.accessAllowed ? 'block' : 'none';\n",
              "\n",
              "        async function convertToInteractive(key) {\n",
              "          const element = document.querySelector('#df-ffc72321-8552-4ce3-8dec-b850fce07122');\n",
              "          const dataTable =\n",
              "            await google.colab.kernel.invokeFunction('convertToInteractive',\n",
              "                                                     [key], {});\n",
              "          if (!dataTable) return;\n",
              "\n",
              "          const docLinkHtml = 'Like what you see? Visit the ' +\n",
              "            '<a target=\"_blank\" href=https://colab.research.google.com/notebooks/data_table.ipynb>data table notebook</a>'\n",
              "            + ' to learn more about interactive tables.';\n",
              "          element.innerHTML = '';\n",
              "          dataTable['output_type'] = 'display_data';\n",
              "          await google.colab.output.renderOutput(dataTable, element);\n",
              "          const docLink = document.createElement('div');\n",
              "          docLink.innerHTML = docLinkHtml;\n",
              "          element.appendChild(docLink);\n",
              "        }\n",
              "      </script>\n",
              "    </div>\n",
              "  </div>\n",
              "  "
            ]
          },
          "metadata": {},
          "execution_count": 226
        }
      ]
    },
    {
      "cell_type": "code",
      "source": [
        "new_df.info()"
      ],
      "metadata": {
        "colab": {
          "base_uri": "https://localhost:8080/"
        },
        "id": "l3JCF69eXCnw",
        "outputId": "24f0def2-6f29-4126-a52e-d29fce0e24a9"
      },
      "execution_count": null,
      "outputs": [
        {
          "output_type": "stream",
          "name": "stdout",
          "text": [
            "<class 'pandas.core.frame.DataFrame'>\n",
            "RangeIndex: 3268 entries, 0 to 3267\n",
            "Data columns (total 9 columns):\n",
            " #   Column         Non-Null Count  Dtype  \n",
            "---  ------         --------------  -----  \n",
            " 0   Product Name   3268 non-null   object \n",
            " 1   Product ID     3268 non-null   object \n",
            " 2   Listing_Price  3268 non-null   int64  \n",
            " 3   Sale_Price     3268 non-null   int64  \n",
            " 4   Discount       3268 non-null   int64  \n",
            " 5   Brand          3268 non-null   object \n",
            " 6   Description    3265 non-null   object \n",
            " 7   Rating         3268 non-null   float64\n",
            " 8   Reviews        3268 non-null   int64  \n",
            "dtypes: float64(1), int64(4), object(4)\n",
            "memory usage: 229.9+ KB\n"
          ]
        }
      ]
    },
    {
      "cell_type": "markdown",
      "metadata": {
        "id": "6xBG2GAySAFw"
      },
      "source": [
        "### Encode Categorical"
      ]
    },
    {
      "cell_type": "code",
      "metadata": {
        "id": "yDTruWDvq6MB",
        "colab": {
          "base_uri": "https://localhost:8080/",
          "height": 206
        },
        "outputId": "bc4b2cbd-f397-4466-dba2-2ea5ca8c1bd5"
      },
      "source": [
        "# Merubah data kategori menjadi numerik\n",
        "label_encoder = LabelEncoder()\n",
        "encoded_data = df[categorical].apply(label_encoder.fit_transform)\n",
        "\n",
        "# Menggabungkan kolom\n",
        "cluster_data = pd.concat([encoded_data, new_df[[\"Listing_Price\", \"Sale_Price\", \"Discount\", \"Rating\", \"Reviews\"]]], axis=1)\n",
        "\n",
        "cluster_data.head()"
      ],
      "execution_count": null,
      "outputs": [
        {
          "output_type": "execute_result",
          "data": {
            "text/plain": [
              "   Brand  Listing_Price  Sale_Price  Discount  Rating  Reviews\n",
              "0      1          14999        7499        50     4.8       41\n",
              "1      1           7599        3799        50     3.3       24\n",
              "2      0            999         599        40     2.6       37\n",
              "3      0           6999        3499        50     4.1       35\n",
              "4      1           7999        3999        50     3.5       72"
            ],
            "text/html": [
              "\n",
              "  <div id=\"df-249fc578-7ee9-4ab7-b358-59ebd39bfc00\">\n",
              "    <div class=\"colab-df-container\">\n",
              "      <div>\n",
              "<style scoped>\n",
              "    .dataframe tbody tr th:only-of-type {\n",
              "        vertical-align: middle;\n",
              "    }\n",
              "\n",
              "    .dataframe tbody tr th {\n",
              "        vertical-align: top;\n",
              "    }\n",
              "\n",
              "    .dataframe thead th {\n",
              "        text-align: right;\n",
              "    }\n",
              "</style>\n",
              "<table border=\"1\" class=\"dataframe\">\n",
              "  <thead>\n",
              "    <tr style=\"text-align: right;\">\n",
              "      <th></th>\n",
              "      <th>Brand</th>\n",
              "      <th>Listing_Price</th>\n",
              "      <th>Sale_Price</th>\n",
              "      <th>Discount</th>\n",
              "      <th>Rating</th>\n",
              "      <th>Reviews</th>\n",
              "    </tr>\n",
              "  </thead>\n",
              "  <tbody>\n",
              "    <tr>\n",
              "      <th>0</th>\n",
              "      <td>1</td>\n",
              "      <td>14999</td>\n",
              "      <td>7499</td>\n",
              "      <td>50</td>\n",
              "      <td>4.8</td>\n",
              "      <td>41</td>\n",
              "    </tr>\n",
              "    <tr>\n",
              "      <th>1</th>\n",
              "      <td>1</td>\n",
              "      <td>7599</td>\n",
              "      <td>3799</td>\n",
              "      <td>50</td>\n",
              "      <td>3.3</td>\n",
              "      <td>24</td>\n",
              "    </tr>\n",
              "    <tr>\n",
              "      <th>2</th>\n",
              "      <td>0</td>\n",
              "      <td>999</td>\n",
              "      <td>599</td>\n",
              "      <td>40</td>\n",
              "      <td>2.6</td>\n",
              "      <td>37</td>\n",
              "    </tr>\n",
              "    <tr>\n",
              "      <th>3</th>\n",
              "      <td>0</td>\n",
              "      <td>6999</td>\n",
              "      <td>3499</td>\n",
              "      <td>50</td>\n",
              "      <td>4.1</td>\n",
              "      <td>35</td>\n",
              "    </tr>\n",
              "    <tr>\n",
              "      <th>4</th>\n",
              "      <td>1</td>\n",
              "      <td>7999</td>\n",
              "      <td>3999</td>\n",
              "      <td>50</td>\n",
              "      <td>3.5</td>\n",
              "      <td>72</td>\n",
              "    </tr>\n",
              "  </tbody>\n",
              "</table>\n",
              "</div>\n",
              "      <button class=\"colab-df-convert\" onclick=\"convertToInteractive('df-249fc578-7ee9-4ab7-b358-59ebd39bfc00')\"\n",
              "              title=\"Convert this dataframe to an interactive table.\"\n",
              "              style=\"display:none;\">\n",
              "        \n",
              "  <svg xmlns=\"http://www.w3.org/2000/svg\" height=\"24px\"viewBox=\"0 0 24 24\"\n",
              "       width=\"24px\">\n",
              "    <path d=\"M0 0h24v24H0V0z\" fill=\"none\"/>\n",
              "    <path d=\"M18.56 5.44l.94 2.06.94-2.06 2.06-.94-2.06-.94-.94-2.06-.94 2.06-2.06.94zm-11 1L8.5 8.5l.94-2.06 2.06-.94-2.06-.94L8.5 2.5l-.94 2.06-2.06.94zm10 10l.94 2.06.94-2.06 2.06-.94-2.06-.94-.94-2.06-.94 2.06-2.06.94z\"/><path d=\"M17.41 7.96l-1.37-1.37c-.4-.4-.92-.59-1.43-.59-.52 0-1.04.2-1.43.59L10.3 9.45l-7.72 7.72c-.78.78-.78 2.05 0 2.83L4 21.41c.39.39.9.59 1.41.59.51 0 1.02-.2 1.41-.59l7.78-7.78 2.81-2.81c.8-.78.8-2.07 0-2.86zM5.41 20L4 18.59l7.72-7.72 1.47 1.35L5.41 20z\"/>\n",
              "  </svg>\n",
              "      </button>\n",
              "      \n",
              "  <style>\n",
              "    .colab-df-container {\n",
              "      display:flex;\n",
              "      flex-wrap:wrap;\n",
              "      gap: 12px;\n",
              "    }\n",
              "\n",
              "    .colab-df-convert {\n",
              "      background-color: #E8F0FE;\n",
              "      border: none;\n",
              "      border-radius: 50%;\n",
              "      cursor: pointer;\n",
              "      display: none;\n",
              "      fill: #1967D2;\n",
              "      height: 32px;\n",
              "      padding: 0 0 0 0;\n",
              "      width: 32px;\n",
              "    }\n",
              "\n",
              "    .colab-df-convert:hover {\n",
              "      background-color: #E2EBFA;\n",
              "      box-shadow: 0px 1px 2px rgba(60, 64, 67, 0.3), 0px 1px 3px 1px rgba(60, 64, 67, 0.15);\n",
              "      fill: #174EA6;\n",
              "    }\n",
              "\n",
              "    [theme=dark] .colab-df-convert {\n",
              "      background-color: #3B4455;\n",
              "      fill: #D2E3FC;\n",
              "    }\n",
              "\n",
              "    [theme=dark] .colab-df-convert:hover {\n",
              "      background-color: #434B5C;\n",
              "      box-shadow: 0px 1px 3px 1px rgba(0, 0, 0, 0.15);\n",
              "      filter: drop-shadow(0px 1px 2px rgba(0, 0, 0, 0.3));\n",
              "      fill: #FFFFFF;\n",
              "    }\n",
              "  </style>\n",
              "\n",
              "      <script>\n",
              "        const buttonEl =\n",
              "          document.querySelector('#df-249fc578-7ee9-4ab7-b358-59ebd39bfc00 button.colab-df-convert');\n",
              "        buttonEl.style.display =\n",
              "          google.colab.kernel.accessAllowed ? 'block' : 'none';\n",
              "\n",
              "        async function convertToInteractive(key) {\n",
              "          const element = document.querySelector('#df-249fc578-7ee9-4ab7-b358-59ebd39bfc00');\n",
              "          const dataTable =\n",
              "            await google.colab.kernel.invokeFunction('convertToInteractive',\n",
              "                                                     [key], {});\n",
              "          if (!dataTable) return;\n",
              "\n",
              "          const docLinkHtml = 'Like what you see? Visit the ' +\n",
              "            '<a target=\"_blank\" href=https://colab.research.google.com/notebooks/data_table.ipynb>data table notebook</a>'\n",
              "            + ' to learn more about interactive tables.';\n",
              "          element.innerHTML = '';\n",
              "          dataTable['output_type'] = 'display_data';\n",
              "          await google.colab.output.renderOutput(dataTable, element);\n",
              "          const docLink = document.createElement('div');\n",
              "          docLink.innerHTML = docLinkHtml;\n",
              "          element.appendChild(docLink);\n",
              "        }\n",
              "      </script>\n",
              "    </div>\n",
              "  </div>\n",
              "  "
            ]
          },
          "metadata": {},
          "execution_count": 228
        }
      ]
    },
    {
      "cell_type": "markdown",
      "metadata": {
        "id": "X2WIXGEsS3Z7"
      },
      "source": [
        "### Features Selection\n",
        "Dalam proses ini akan dipilih variabel yang memiliki pengaruh besar dalam penentuan cluster data."
      ]
    },
    {
      "cell_type": "code",
      "metadata": {
        "id": "Z2moUSNpq7YW",
        "colab": {
          "base_uri": "https://localhost:8080/",
          "height": 553
        },
        "outputId": "2205cc1b-af6d-4d3d-b167-5d2a75a487cb"
      },
      "source": [
        "# Features Selection\n",
        "plt.figure(figsize=(8,6))\n",
        "sns.heatmap(cluster_data.corr(), cmap = 'Wistia', annot = True)\n",
        "plt.title('Heatmap Data', fontsize = 20)\n",
        "plt.show()"
      ],
      "execution_count": null,
      "outputs": [
        {
          "output_type": "display_data",
          "data": {
            "text/plain": [
              "<Figure size 800x600 with 2 Axes>"
            ],
            "image/png": "[encoded data removed]"
          },
          "metadata": {}
        }
      ]
    },
    {
      "cell_type": "code",
      "source": [
        "# Cek Urutan korelasi terendah ke tertinggi\n",
        "korelasi = new_df.corr()[\"Sale_Price\"].sort_values()\n",
        "korelasi"
      ],
      "metadata": {
        "colab": {
          "base_uri": "https://localhost:8080/"
        },
        "id": "SQtmr_zLwJDw",
        "outputId": "56f5d422-8fd0-44bf-be72-1d7e5aafe59a"
      },
      "execution_count": null,
      "outputs": [
        {
          "output_type": "stream",
          "name": "stderr",
          "text": [
            "<ipython-input-230-f09e12dcd235>:2: FutureWarning: The default value of numeric_only in DataFrame.corr is deprecated. In a future version, it will default to False. Select only valid columns or specify the value of numeric_only to silence this warning.\n",
            "  korelasi = new_df.corr()[\"Sale_Price\"].sort_values()\n"
          ]
        },
        {
          "output_type": "execute_result",
          "data": {
            "text/plain": [
              "Discount        -0.594659\n",
              "Reviews         -0.240728\n",
              "Rating          -0.042172\n",
              "Listing_Price    0.312255\n",
              "Sale_Price       1.000000\n",
              "Name: Sale_Price, dtype: float64"
            ]
          },
          "metadata": {},
          "execution_count": 230
        }
      ]
    },
    {
      "cell_type": "code",
      "source": [
        "# Cek Urutan korelasi terendah ke tertinggi\n",
        "korelasi = new_df.corr()[\"Reviews\"].sort_values()\n",
        "korelasi"
      ],
      "metadata": {
        "colab": {
          "base_uri": "https://localhost:8080/"
        },
        "id": "w17FKchsxJ3j",
        "outputId": "b989903d-46c7-4e2d-89da-5adbe2fe885a"
      },
      "execution_count": null,
      "outputs": [
        {
          "output_type": "stream",
          "name": "stderr",
          "text": [
            "<ipython-input-231-dc77bbdbd772>:2: FutureWarning: The default value of numeric_only in DataFrame.corr is deprecated. In a future version, it will default to False. Select only valid columns or specify the value of numeric_only to silence this warning.\n",
            "  korelasi = new_df.corr()[\"Reviews\"].sort_values()\n"
          ]
        },
        {
          "output_type": "execute_result",
          "data": {
            "text/plain": [
              "Sale_Price      -0.240728\n",
              "Rating           0.140577\n",
              "Listing_Price    0.161296\n",
              "Discount         0.313591\n",
              "Reviews          1.000000\n",
              "Name: Reviews, dtype: float64"
            ]
          },
          "metadata": {},
          "execution_count": 231
        }
      ]
    },
    {
      "cell_type": "code",
      "source": [
        "# Drop variabel yang tidak dibutuhkan\n",
        "cluster_data = cluster_data.drop([\"Rating\", \"Listing_Price\", \"Discount\", \"Reviews\"], axis = 1)\n",
        "cluster_data.head()"
      ],
      "metadata": {
        "colab": {
          "base_uri": "https://localhost:8080/",
          "height": 206
        },
        "id": "wJFYkhRTgqIK",
        "outputId": "44fa1af1-9fc5-46b3-834a-782b9d1ca6af"
      },
      "execution_count": null,
      "outputs": [
        {
          "output_type": "execute_result",
          "data": {
            "text/plain": [
              "   Brand  Sale_Price\n",
              "0      1        7499\n",
              "1      1        3799\n",
              "2      0         599\n",
              "3      0        3499\n",
              "4      1        3999"
            ],
            "text/html": [
              "\n",
              "  <div id=\"df-9e30f5d4-8498-4f29-843b-fad5ceb864f6\">\n",
              "    <div class=\"colab-df-container\">\n",
              "      <div>\n",
              "<style scoped>\n",
              "    .dataframe tbody tr th:only-of-type {\n",
              "        vertical-align: middle;\n",
              "    }\n",
              "\n",
              "    .dataframe tbody tr th {\n",
              "        vertical-align: top;\n",
              "    }\n",
              "\n",
              "    .dataframe thead th {\n",
              "        text-align: right;\n",
              "    }\n",
              "</style>\n",
              "<table border=\"1\" class=\"dataframe\">\n",
              "  <thead>\n",
              "    <tr style=\"text-align: right;\">\n",
              "      <th></th>\n",
              "      <th>Brand</th>\n",
              "      <th>Sale_Price</th>\n",
              "    </tr>\n",
              "  </thead>\n",
              "  <tbody>\n",
              "    <tr>\n",
              "      <th>0</th>\n",
              "      <td>1</td>\n",
              "      <td>7499</td>\n",
              "    </tr>\n",
              "    <tr>\n",
              "      <th>1</th>\n",
              "      <td>1</td>\n",
              "      <td>3799</td>\n",
              "    </tr>\n",
              "    <tr>\n",
              "      <th>2</th>\n",
              "      <td>0</td>\n",
              "      <td>599</td>\n",
              "    </tr>\n",
              "    <tr>\n",
              "      <th>3</th>\n",
              "      <td>0</td>\n",
              "      <td>3499</td>\n",
              "    </tr>\n",
              "    <tr>\n",
              "      <th>4</th>\n",
              "      <td>1</td>\n",
              "      <td>3999</td>\n",
              "    </tr>\n",
              "  </tbody>\n",
              "</table>\n",
              "</div>\n",
              "      <button class=\"colab-df-convert\" onclick=\"convertToInteractive('df-9e30f5d4-8498-4f29-843b-fad5ceb864f6')\"\n",
              "              title=\"Convert this dataframe to an interactive table.\"\n",
              "              style=\"display:none;\">\n",
              "        \n",
              "  <svg xmlns=\"http://www.w3.org/2000/svg\" height=\"24px\"viewBox=\"0 0 24 24\"\n",
              "       width=\"24px\">\n",
              "    <path d=\"M0 0h24v24H0V0z\" fill=\"none\"/>\n",
              "    <path d=\"M18.56 5.44l.94 2.06.94-2.06 2.06-.94-2.06-.94-.94-2.06-.94 2.06-2.06.94zm-11 1L8.5 8.5l.94-2.06 2.06-.94-2.06-.94L8.5 2.5l-.94 2.06-2.06.94zm10 10l.94 2.06.94-2.06 2.06-.94-2.06-.94-.94-2.06-.94 2.06-2.06.94z\"/><path d=\"M17.41 7.96l-1.37-1.37c-.4-.4-.92-.59-1.43-.59-.52 0-1.04.2-1.43.59L10.3 9.45l-7.72 7.72c-.78.78-.78 2.05 0 2.83L4 21.41c.39.39.9.59 1.41.59.51 0 1.02-.2 1.41-.59l7.78-7.78 2.81-2.81c.8-.78.8-2.07 0-2.86zM5.41 20L4 18.59l7.72-7.72 1.47 1.35L5.41 20z\"/>\n",
              "  </svg>\n",
              "      </button>\n",
              "      \n",
              "  <style>\n",
              "    .colab-df-container {\n",
              "      display:flex;\n",
              "      flex-wrap:wrap;\n",
              "      gap: 12px;\n",
              "    }\n",
              "\n",
              "    .colab-df-convert {\n",
              "      background-color: #E8F0FE;\n",
              "      border: none;\n",
              "      border-radius: 50%;\n",
              "      cursor: pointer;\n",
              "      display: none;\n",
              "      fill: #1967D2;\n",
              "      height: 32px;\n",
              "      padding: 0 0 0 0;\n",
              "      width: 32px;\n",
              "    }\n",
              "\n",
              "    .colab-df-convert:hover {\n",
              "      background-color: #E2EBFA;\n",
              "      box-shadow: 0px 1px 2px rgba(60, 64, 67, 0.3), 0px 1px 3px 1px rgba(60, 64, 67, 0.15);\n",
              "      fill: #174EA6;\n",
              "    }\n",
              "\n",
              "    [theme=dark] .colab-df-convert {\n",
              "      background-color: #3B4455;\n",
              "      fill: #D2E3FC;\n",
              "    }\n",
              "\n",
              "    [theme=dark] .colab-df-convert:hover {\n",
              "      background-color: #434B5C;\n",
              "      box-shadow: 0px 1px 3px 1px rgba(0, 0, 0, 0.15);\n",
              "      filter: drop-shadow(0px 1px 2px rgba(0, 0, 0, 0.3));\n",
              "      fill: #FFFFFF;\n",
              "    }\n",
              "  </style>\n",
              "\n",
              "      <script>\n",
              "        const buttonEl =\n",
              "          document.querySelector('#df-9e30f5d4-8498-4f29-843b-fad5ceb864f6 button.colab-df-convert');\n",
              "        buttonEl.style.display =\n",
              "          google.colab.kernel.accessAllowed ? 'block' : 'none';\n",
              "\n",
              "        async function convertToInteractive(key) {\n",
              "          const element = document.querySelector('#df-9e30f5d4-8498-4f29-843b-fad5ceb864f6');\n",
              "          const dataTable =\n",
              "            await google.colab.kernel.invokeFunction('convertToInteractive',\n",
              "                                                     [key], {});\n",
              "          if (!dataTable) return;\n",
              "\n",
              "          const docLinkHtml = 'Like what you see? Visit the ' +\n",
              "            '<a target=\"_blank\" href=https://colab.research.google.com/notebooks/data_table.ipynb>data table notebook</a>'\n",
              "            + ' to learn more about interactive tables.';\n",
              "          element.innerHTML = '';\n",
              "          dataTable['output_type'] = 'display_data';\n",
              "          await google.colab.output.renderOutput(dataTable, element);\n",
              "          const docLink = document.createElement('div');\n",
              "          docLink.innerHTML = docLinkHtml;\n",
              "          element.appendChild(docLink);\n",
              "        }\n",
              "      </script>\n",
              "    </div>\n",
              "  </div>\n",
              "  "
            ]
          },
          "metadata": {},
          "execution_count": 232
        }
      ]
    },
    {
      "cell_type": "markdown",
      "metadata": {
        "id": "VlB-wxEwUto7"
      },
      "source": [
        "### Scaling Data\n",
        "Dalam clustering penggunaan scaling data juga diperlukan, hal ini akan membantu mengatasi permasalahan gap pada tiap kolom."
      ]
    },
    {
      "cell_type": "code",
      "metadata": {
        "id": "ISmsxR-hq-Nw",
        "colab": {
          "base_uri": "https://localhost:8080/",
          "height": 206
        },
        "outputId": "96f1a66f-b89d-4011-a6a6-3c630567f3d4"
      },
      "source": [
        "# Data Scaling\n",
        "scaler = StandardScaler()\n",
        "cluster_data[[\"Brand\", \"Sale_Price\"]] = scaler.fit_transform(cluster_data[[\"Brand\", \"Sale_Price\"]])\n",
        "cluster_data.head()"
      ],
      "execution_count": null,
      "outputs": [
        {
          "output_type": "execute_result",
          "data": {
            "text/plain": [
              "      Brand  Sale_Price\n",
              "0 -0.213301    0.317928\n",
              "1 -0.213301   -0.544022\n",
              "2 -1.105835   -1.289493\n",
              "3 -1.105835   -0.613910\n",
              "4 -0.213301   -0.497431"
            ],
            "text/html": [
              "\n",
              "  <div id=\"df-f7b7e419-5be5-4f35-a8e8-3540e231e357\">\n",
              "    <div class=\"colab-df-container\">\n",
              "      <div>\n",
              "<style scoped>\n",
              "    .dataframe tbody tr th:only-of-type {\n",
              "        vertical-align: middle;\n",
              "    }\n",
              "\n",
              "    .dataframe tbody tr th {\n",
              "        vertical-align: top;\n",
              "    }\n",
              "\n",
              "    .dataframe thead th {\n",
              "        text-align: right;\n",
              "    }\n",
              "</style>\n",
              "<table border=\"1\" class=\"dataframe\">\n",
              "  <thead>\n",
              "    <tr style=\"text-align: right;\">\n",
              "      <th></th>\n",
              "      <th>Brand</th>\n",
              "      <th>Sale_Price</th>\n",
              "    </tr>\n",
              "  </thead>\n",
              "  <tbody>\n",
              "    <tr>\n",
              "      <th>0</th>\n",
              "      <td>-0.213301</td>\n",
              "      <td>0.317928</td>\n",
              "    </tr>\n",
              "    <tr>\n",
              "      <th>1</th>\n",
              "      <td>-0.213301</td>\n",
              "      <td>-0.544022</td>\n",
              "    </tr>\n",
              "    <tr>\n",
              "      <th>2</th>\n",
              "      <td>-1.105835</td>\n",
              "      <td>-1.289493</td>\n",
              "    </tr>\n",
              "    <tr>\n",
              "      <th>3</th>\n",
              "      <td>-1.105835</td>\n",
              "      <td>-0.613910</td>\n",
              "    </tr>\n",
              "    <tr>\n",
              "      <th>4</th>\n",
              "      <td>-0.213301</td>\n",
              "      <td>-0.497431</td>\n",
              "    </tr>\n",
              "  </tbody>\n",
              "</table>\n",
              "</div>\n",
              "      <button class=\"colab-df-convert\" onclick=\"convertToInteractive('df-f7b7e419-5be5-4f35-a8e8-3540e231e357')\"\n",
              "              title=\"Convert this dataframe to an interactive table.\"\n",
              "              style=\"display:none;\">\n",
              "        \n",
              "  <svg xmlns=\"http://www.w3.org/2000/svg\" height=\"24px\"viewBox=\"0 0 24 24\"\n",
              "       width=\"24px\">\n",
              "    <path d=\"M0 0h24v24H0V0z\" fill=\"none\"/>\n",
              "    <path d=\"M18.56 5.44l.94 2.06.94-2.06 2.06-.94-2.06-.94-.94-2.06-.94 2.06-2.06.94zm-11 1L8.5 8.5l.94-2.06 2.06-.94-2.06-.94L8.5 2.5l-.94 2.06-2.06.94zm10 10l.94 2.06.94-2.06 2.06-.94-2.06-.94-.94-2.06-.94 2.06-2.06.94z\"/><path d=\"M17.41 7.96l-1.37-1.37c-.4-.4-.92-.59-1.43-.59-.52 0-1.04.2-1.43.59L10.3 9.45l-7.72 7.72c-.78.78-.78 2.05 0 2.83L4 21.41c.39.39.9.59 1.41.59.51 0 1.02-.2 1.41-.59l7.78-7.78 2.81-2.81c.8-.78.8-2.07 0-2.86zM5.41 20L4 18.59l7.72-7.72 1.47 1.35L5.41 20z\"/>\n",
              "  </svg>\n",
              "      </button>\n",
              "      \n",
              "  <style>\n",
              "    .colab-df-container {\n",
              "      display:flex;\n",
              "      flex-wrap:wrap;\n",
              "      gap: 12px;\n",
              "    }\n",
              "\n",
              "    .colab-df-convert {\n",
              "      background-color: #E8F0FE;\n",
              "      border: none;\n",
              "      border-radius: 50%;\n",
              "      cursor: pointer;\n",
              "      display: none;\n",
              "      fill: #1967D2;\n",
              "      height: 32px;\n",
              "      padding: 0 0 0 0;\n",
              "      width: 32px;\n",
              "    }\n",
              "\n",
              "    .colab-df-convert:hover {\n",
              "      background-color: #E2EBFA;\n",
              "      box-shadow: 0px 1px 2px rgba(60, 64, 67, 0.3), 0px 1px 3px 1px rgba(60, 64, 67, 0.15);\n",
              "      fill: #174EA6;\n",
              "    }\n",
              "\n",
              "    [theme=dark] .colab-df-convert {\n",
              "      background-color: #3B4455;\n",
              "      fill: #D2E3FC;\n",
              "    }\n",
              "\n",
              "    [theme=dark] .colab-df-convert:hover {\n",
              "      background-color: #434B5C;\n",
              "      box-shadow: 0px 1px 3px 1px rgba(0, 0, 0, 0.15);\n",
              "      filter: drop-shadow(0px 1px 2px rgba(0, 0, 0, 0.3));\n",
              "      fill: #FFFFFF;\n",
              "    }\n",
              "  </style>\n",
              "\n",
              "      <script>\n",
              "        const buttonEl =\n",
              "          document.querySelector('#df-f7b7e419-5be5-4f35-a8e8-3540e231e357 button.colab-df-convert');\n",
              "        buttonEl.style.display =\n",
              "          google.colab.kernel.accessAllowed ? 'block' : 'none';\n",
              "\n",
              "        async function convertToInteractive(key) {\n",
              "          const element = document.querySelector('#df-f7b7e419-5be5-4f35-a8e8-3540e231e357');\n",
              "          const dataTable =\n",
              "            await google.colab.kernel.invokeFunction('convertToInteractive',\n",
              "                                                     [key], {});\n",
              "          if (!dataTable) return;\n",
              "\n",
              "          const docLinkHtml = 'Like what you see? Visit the ' +\n",
              "            '<a target=\"_blank\" href=https://colab.research.google.com/notebooks/data_table.ipynb>data table notebook</a>'\n",
              "            + ' to learn more about interactive tables.';\n",
              "          element.innerHTML = '';\n",
              "          dataTable['output_type'] = 'display_data';\n",
              "          await google.colab.output.renderOutput(dataTable, element);\n",
              "          const docLink = document.createElement('div');\n",
              "          docLink.innerHTML = docLinkHtml;\n",
              "          element.appendChild(docLink);\n",
              "        }\n",
              "      </script>\n",
              "    </div>\n",
              "  </div>\n",
              "  "
            ]
          },
          "metadata": {},
          "execution_count": 233
        }
      ]
    },
    {
      "cell_type": "markdown",
      "metadata": {
        "id": "Tug83Iq_kE8m"
      },
      "source": [
        "## KMeans Cluster"
      ]
    },
    {
      "cell_type": "markdown",
      "metadata": {
        "id": "7FKuFeKokE8m"
      },
      "source": [
        "### Menentukan Nilai Optimal K (kelompok)"
      ]
    },
    {
      "cell_type": "markdown",
      "metadata": {
        "id": "MzEt-iwgkE8n"
      },
      "source": [
        "Akan digunakan metode Elbow untuk menentukan jumlah k optimal."
      ]
    },
    {
      "cell_type": "code",
      "metadata": {
        "id": "P0WDy-x0rAFQ",
        "colab": {
          "base_uri": "https://localhost:8080/",
          "height": 109
        },
        "outputId": "457abef7-77c2-4878-96d6-35de05ffe487"
      },
      "source": [
        "# Memodelkan data dengan cluster yang sudah ditentukan yaitu 2\n",
        "cluster = KMeans(n_clusters=2)\n",
        "cluster.fit(cluster_data)"
      ],
      "execution_count": null,
      "outputs": [
        {
          "output_type": "stream",
          "name": "stderr",
          "text": [
            "/usr/local/lib/python3.9/dist-packages/sklearn/cluster/_kmeans.py:870: FutureWarning: The default value of `n_init` will change from 10 to 'auto' in 1.4. Set the value of `n_init` explicitly to suppress the warning\n",
            "  warnings.warn(\n"
          ]
        },
        {
          "output_type": "execute_result",
          "data": {
            "text/plain": [
              "KMeans(n_clusters=2)"
            ],
            "text/html": [
              "<style>#sk-container-id-5 {color: black;background-color: white;}#sk-container-id-5 pre{padding: 0;}#sk-container-id-5 div.sk-toggleable {background-color: white;}#sk-container-id-5 label.sk-toggleable__label {cursor: pointer;display: block;width: 100%;margin-bottom: 0;padding: 0.3em;box-sizing: border-box;text-align: center;}#sk-container-id-5 label.sk-toggleable__label-arrow:before {content: \"▸\";float: left;margin-right: 0.25em;color: #696969;}#sk-container-id-5 label.sk-toggleable__label-arrow:hover:before {color: black;}#sk-container-id-5 div.sk-estimator:hover label.sk-toggleable__label-arrow:before {color: black;}#sk-container-id-5 div.sk-toggleable__content {max-height: 0;max-width: 0;overflow: hidden;text-align: left;background-color: #f0f8ff;}#sk-container-id-5 div.sk-toggleable__content pre {margin: 0.2em;color: black;border-radius: 0.25em;background-color: #f0f8ff;}#sk-container-id-5 input.sk-toggleable__control:checked~div.sk-toggleable__content {max-height: 200px;max-width: 100%;overflow: auto;}#sk-container-id-5 input.sk-toggleable__control:checked~label.sk-toggleable__label-arrow:before {content: \"▾\";}#sk-container-id-5 div.sk-estimator input.sk-toggleable__control:checked~label.sk-toggleable__label {background-color: #d4ebff;}#sk-container-id-5 div.sk-label input.sk-toggleable__control:checked~label.sk-toggleable__label {background-color: #d4ebff;}#sk-container-id-5 input.sk-hidden--visually {border: 0;clip: rect(1px 1px 1px 1px);clip: rect(1px, 1px, 1px, 1px);height: 1px;margin: -1px;overflow: hidden;padding: 0;position: absolute;width: 1px;}#sk-container-id-5 div.sk-estimator {font-family: monospace;background-color: #f0f8ff;border: 1px dotted black;border-radius: 0.25em;box-sizing: border-box;margin-bottom: 0.5em;}#sk-container-id-5 div.sk-estimator:hover {background-color: #d4ebff;}#sk-container-id-5 div.sk-parallel-item::after {content: \"\";width: 100%;border-bottom: 1px solid gray;flex-grow: 1;}#sk-container-id-5 div.sk-label:hover label.sk-toggleable__label {background-color: #d4ebff;}#sk-container-id-5 div.sk-serial::before {content: \"\";position: absolute;border-left: 1px solid gray;box-sizing: border-box;top: 0;bottom: 0;left: 50%;z-index: 0;}#sk-container-id-5 div.sk-serial {display: flex;flex-direction: column;align-items: center;background-color: white;padding-right: 0.2em;padding-left: 0.2em;position: relative;}#sk-container-id-5 div.sk-item {position: relative;z-index: 1;}#sk-container-id-5 div.sk-parallel {display: flex;align-items: stretch;justify-content: center;background-color: white;position: relative;}#sk-container-id-5 div.sk-item::before, #sk-container-id-5 div.sk-parallel-item::before {content: \"\";position: absolute;border-left: 1px solid gray;box-sizing: border-box;top: 0;bottom: 0;left: 50%;z-index: -1;}#sk-container-id-5 div.sk-parallel-item {display: flex;flex-direction: column;z-index: 1;position: relative;background-color: white;}#sk-container-id-5 div.sk-parallel-item:first-child::after {align-self: flex-end;width: 50%;}#sk-container-id-5 div.sk-parallel-item:last-child::after {align-self: flex-start;width: 50%;}#sk-container-id-5 div.sk-parallel-item:only-child::after {width: 0;}#sk-container-id-5 div.sk-dashed-wrapped {border: 1px dashed gray;margin: 0 0.4em 0.5em 0.4em;box-sizing: border-box;padding-bottom: 0.4em;background-color: white;}#sk-container-id-5 div.sk-label label {font-family: monospace;font-weight: bold;display: inline-block;line-height: 1.2em;}#sk-container-id-5 div.sk-label-container {text-align: center;}#sk-container-id-5 div.sk-container {/* jupyter's `normalize.less` sets `[hidden] { display: none; }` but bootstrap.min.css set `[hidden] { display: none !important; }` so we also need the `!important` here to be able to override the default hidden behavior on the sphinx rendered scikit-learn.org. See: https://github.com/scikit-learn/scikit-learn/issues/21755 */display: inline-block !important;position: relative;}#sk-container-id-5 div.sk-text-repr-fallback {display: none;}</style><div id=\"sk-container-id-5\" class=\"sk-top-container\"><div class=\"sk-text-repr-fallback\"><pre>KMeans(n_clusters=2)</pre><b>In a Jupyter environment, please rerun this cell to show the HTML representation or trust the notebook. <br />On GitHub, the HTML representation is unable to render, please try loading this page with nbviewer.org.</b></div><div class=\"sk-container\" hidden><div class=\"sk-item\"><div class=\"sk-estimator sk-toggleable\"><input class=\"sk-toggleable__control sk-hidden--visually\" id=\"sk-estimator-id-5\" type=\"checkbox\" checked><label for=\"sk-estimator-id-5\" class=\"sk-toggleable__label sk-toggleable__label-arrow\">KMeans</label><div class=\"sk-toggleable__content\"><pre>KMeans(n_clusters=2)</pre></div></div></div></div></div>"
            ]
          },
          "metadata": {},
          "execution_count": 234
        }
      ]
    },
    {
      "cell_type": "code",
      "source": [
        "# Menambahkan kolom baru berupa hasil segmentasi pelanggan\n",
        "segment = pd.Series(cluster.labels_, name=\"segment\")"
      ],
      "metadata": {
        "id": "6zH4XXs7hVIn"
      },
      "execution_count": null,
      "outputs": []
    },
    {
      "cell_type": "code",
      "source": [
        "# Menggabungkan data awal dengan data hasil segmentasi pelanggan\n",
        "pd.concat([new_df, segment], axis=1)"
      ],
      "metadata": {
        "colab": {
          "base_uri": "https://localhost:8080/",
          "height": 424
        },
        "id": "m3egmla5hZxz",
        "outputId": "224acc19-e150-4e89-c105-dd7f49ade791"
      },
      "execution_count": null,
      "outputs": [
        {
          "output_type": "execute_result",
          "data": {
            "text/plain": [
              "                                           Product Name  Product ID  \\\n",
              "0     Women's adidas Originals NMD_Racer Primeknit S...      AH2430   \n",
              "1                  Women's adidas Originals Sleek Shoes      G27341   \n",
              "2                     Women's adidas Swim Puka Slippers      CM0081   \n",
              "3      Women's adidas Sport Inspired Questar Ride Shoes      B44832   \n",
              "4              Women's adidas Originals Taekwondo Shoes      D98205   \n",
              "...                                                 ...         ...   \n",
              "3263                                 Air Jordan 8 Retro  CI1236-100   \n",
              "3264                         Nike Phantom Venom Club IC  AO0578-717   \n",
              "3265               Nike Mercurial Superfly 7 Academy TF  AT7978-414   \n",
              "3266                                    Nike Air Max 98  AH6799-300   \n",
              "3267                                     Nike P-6000 SE  CJ9585-600   \n",
              "\n",
              "      Listing_Price  Sale_Price  Discount              Brand  \\\n",
              "0             14999        7499        50   Adidas ORIGINALS   \n",
              "1              7599        3799        50   Adidas ORIGINALS   \n",
              "2               999         599        40  Adidas CORE / NEO   \n",
              "3              6999        3499        50  Adidas CORE / NEO   \n",
              "4              7999        3999        50   Adidas ORIGINALS   \n",
              "...             ...         ...       ...                ...   \n",
              "3263          15995       12797         0               Nike   \n",
              "3264           4995        3497         0               Nike   \n",
              "3265           8495        5947         0               Nike   \n",
              "3266              0       16995         0               Nike   \n",
              "3267           8995        6297         0               Nike   \n",
              "\n",
              "                                            Description  Rating  Reviews  \\\n",
              "0     Channeling the streamlined look of an '80s rac...     4.8       41   \n",
              "1     A modern take on adidas sport heritage, tailor...     3.3       24   \n",
              "2     These adidas Puka slippers for women's come wi...     2.6       37   \n",
              "3     Inspired by modern tech runners, these women's...     4.1       35   \n",
              "4     This design is inspired by vintage Taekwondo s...     3.5       72   \n",
              "...                                                 ...     ...      ...   \n",
              "3263  The Air Jordan 8 Retro recaptures the memorabl...     5.0        1   \n",
              "3264  The Nike Phantom Venom Club IC is engineered f...     0.0        0   \n",
              "3265  The soft upper of the Nike Mercurial Superfly ...     5.0        1   \n",
              "3266  The Nike Air Max 98 features the OG design lin...     4.0        4   \n",
              "3267  A mash-up of Pegasus' past, the Nike P-6000 SE...     0.0        0   \n",
              "\n",
              "      segment  \n",
              "0           1  \n",
              "1           1  \n",
              "2           1  \n",
              "3           1  \n",
              "4           1  \n",
              "...       ...  \n",
              "3263        0  \n",
              "3264        0  \n",
              "3265        0  \n",
              "3266        0  \n",
              "3267        0  \n",
              "\n",
              "[3268 rows x 10 columns]"
            ],
            "text/html": [
              "\n",
              "  <div id=\"df-1fe13ef0-8cd9-4ea2-85ff-59ef3e01eb59\">\n",
              "    <div class=\"colab-df-container\">\n",
              "      <div>\n",
              "<style scoped>\n",
              "    .dataframe tbody tr th:only-of-type {\n",
              "        vertical-align: middle;\n",
              "    }\n",
              "\n",
              "    .dataframe tbody tr th {\n",
              "        vertical-align: top;\n",
              "    }\n",
              "\n",
              "    .dataframe thead th {\n",
              "        text-align: right;\n",
              "    }\n",
              "</style>\n",
              "<table border=\"1\" class=\"dataframe\">\n",
              "  <thead>\n",
              "    <tr style=\"text-align: right;\">\n",
              "      <th></th>\n",
              "      <th>Product Name</th>\n",
              "      <th>Product ID</th>\n",
              "      <th>Listing_Price</th>\n",
              "      <th>Sale_Price</th>\n",
              "      <th>Discount</th>\n",
              "      <th>Brand</th>\n",
              "      <th>Description</th>\n",
              "      <th>Rating</th>\n",
              "      <th>Reviews</th>\n",
              "      <th>segment</th>\n",
              "    </tr>\n",
              "  </thead>\n",
              "  <tbody>\n",
              "    <tr>\n",
              "      <th>0</th>\n",
              "      <td>Women's adidas Originals NMD_Racer Primeknit S...</td>\n",
              "      <td>AH2430</td>\n",
              "      <td>14999</td>\n",
              "      <td>7499</td>\n",
              "      <td>50</td>\n",
              "      <td>Adidas ORIGINALS</td>\n",
              "      <td>Channeling the streamlined look of an '80s rac...</td>\n",
              "      <td>4.8</td>\n",
              "      <td>41</td>\n",
              "      <td>1</td>\n",
              "    </tr>\n",
              "    <tr>\n",
              "      <th>1</th>\n",
              "      <td>Women's adidas Originals Sleek Shoes</td>\n",
              "      <td>G27341</td>\n",
              "      <td>7599</td>\n",
              "      <td>3799</td>\n",
              "      <td>50</td>\n",
              "      <td>Adidas ORIGINALS</td>\n",
              "      <td>A modern take on adidas sport heritage, tailor...</td>\n",
              "      <td>3.3</td>\n",
              "      <td>24</td>\n",
              "      <td>1</td>\n",
              "    </tr>\n",
              "    <tr>\n",
              "      <th>2</th>\n",
              "      <td>Women's adidas Swim Puka Slippers</td>\n",
              "      <td>CM0081</td>\n",
              "      <td>999</td>\n",
              "      <td>599</td>\n",
              "      <td>40</td>\n",
              "      <td>Adidas CORE / NEO</td>\n",
              "      <td>These adidas Puka slippers for women's come wi...</td>\n",
              "      <td>2.6</td>\n",
              "      <td>37</td>\n",
              "      <td>1</td>\n",
              "    </tr>\n",
              "    <tr>\n",
              "      <th>3</th>\n",
              "      <td>Women's adidas Sport Inspired Questar Ride Shoes</td>\n",
              "      <td>B44832</td>\n",
              "      <td>6999</td>\n",
              "      <td>3499</td>\n",
              "      <td>50</td>\n",
              "      <td>Adidas CORE / NEO</td>\n",
              "      <td>Inspired by modern tech runners, these women's...</td>\n",
              "      <td>4.1</td>\n",
              "      <td>35</td>\n",
              "      <td>1</td>\n",
              "    </tr>\n",
              "    <tr>\n",
              "      <th>4</th>\n",
              "      <td>Women's adidas Originals Taekwondo Shoes</td>\n",
              "      <td>D98205</td>\n",
              "      <td>7999</td>\n",
              "      <td>3999</td>\n",
              "      <td>50</td>\n",
              "      <td>Adidas ORIGINALS</td>\n",
              "      <td>This design is inspired by vintage Taekwondo s...</td>\n",
              "      <td>3.5</td>\n",
              "      <td>72</td>\n",
              "      <td>1</td>\n",
              "    </tr>\n",
              "    <tr>\n",
              "      <th>...</th>\n",
              "      <td>...</td>\n",
              "      <td>...</td>\n",
              "      <td>...</td>\n",
              "      <td>...</td>\n",
              "      <td>...</td>\n",
              "      <td>...</td>\n",
              "      <td>...</td>\n",
              "      <td>...</td>\n",
              "      <td>...</td>\n",
              "      <td>...</td>\n",
              "    </tr>\n",
              "    <tr>\n",
              "      <th>3263</th>\n",
              "      <td>Air Jordan 8 Retro</td>\n",
              "      <td>CI1236-100</td>\n",
              "      <td>15995</td>\n",
              "      <td>12797</td>\n",
              "      <td>0</td>\n",
              "      <td>Nike</td>\n",
              "      <td>The Air Jordan 8 Retro recaptures the memorabl...</td>\n",
              "      <td>5.0</td>\n",
              "      <td>1</td>\n",
              "      <td>0</td>\n",
              "    </tr>\n",
              "    <tr>\n",
              "      <th>3264</th>\n",
              "      <td>Nike Phantom Venom Club IC</td>\n",
              "      <td>AO0578-717</td>\n",
              "      <td>4995</td>\n",
              "      <td>3497</td>\n",
              "      <td>0</td>\n",
              "      <td>Nike</td>\n",
              "      <td>The Nike Phantom Venom Club IC is engineered f...</td>\n",
              "      <td>0.0</td>\n",
              "      <td>0</td>\n",
              "      <td>0</td>\n",
              "    </tr>\n",
              "    <tr>\n",
              "      <th>3265</th>\n",
              "      <td>Nike Mercurial Superfly 7 Academy TF</td>\n",
              "      <td>AT7978-414</td>\n",
              "      <td>8495</td>\n",
              "      <td>5947</td>\n",
              "      <td>0</td>\n",
              "      <td>Nike</td>\n",
              "      <td>The soft upper of the Nike Mercurial Superfly ...</td>\n",
              "      <td>5.0</td>\n",
              "      <td>1</td>\n",
              "      <td>0</td>\n",
              "    </tr>\n",
              "    <tr>\n",
              "      <th>3266</th>\n",
              "      <td>Nike Air Max 98</td>\n",
              "      <td>AH6799-300</td>\n",
              "      <td>0</td>\n",
              "      <td>16995</td>\n",
              "      <td>0</td>\n",
              "      <td>Nike</td>\n",
              "      <td>The Nike Air Max 98 features the OG design lin...</td>\n",
              "      <td>4.0</td>\n",
              "      <td>4</td>\n",
              "      <td>0</td>\n",
              "    </tr>\n",
              "    <tr>\n",
              "      <th>3267</th>\n",
              "      <td>Nike P-6000 SE</td>\n",
              "      <td>CJ9585-600</td>\n",
              "      <td>8995</td>\n",
              "      <td>6297</td>\n",
              "      <td>0</td>\n",
              "      <td>Nike</td>\n",
              "      <td>A mash-up of Pegasus' past, the Nike P-6000 SE...</td>\n",
              "      <td>0.0</td>\n",
              "      <td>0</td>\n",
              "      <td>0</td>\n",
              "    </tr>\n",
              "  </tbody>\n",
              "</table>\n",
              "<p>3268 rows × 10 columns</p>\n",
              "</div>\n",
              "      <button class=\"colab-df-convert\" onclick=\"convertToInteractive('df-1fe13ef0-8cd9-4ea2-85ff-59ef3e01eb59')\"\n",
              "              title=\"Convert this dataframe to an interactive table.\"\n",
              "              style=\"display:none;\">\n",
              "        \n",
              "  <svg xmlns=\"http://www.w3.org/2000/svg\" height=\"24px\"viewBox=\"0 0 24 24\"\n",
              "       width=\"24px\">\n",
              "    <path d=\"M0 0h24v24H0V0z\" fill=\"none\"/>\n",
              "    <path d=\"M18.56 5.44l.94 2.06.94-2.06 2.06-.94-2.06-.94-.94-2.06-.94 2.06-2.06.94zm-11 1L8.5 8.5l.94-2.06 2.06-.94-2.06-.94L8.5 2.5l-.94 2.06-2.06.94zm10 10l.94 2.06.94-2.06 2.06-.94-2.06-.94-.94-2.06-.94 2.06-2.06.94z\"/><path d=\"M17.41 7.96l-1.37-1.37c-.4-.4-.92-.59-1.43-.59-.52 0-1.04.2-1.43.59L10.3 9.45l-7.72 7.72c-.78.78-.78 2.05 0 2.83L4 21.41c.39.39.9.59 1.41.59.51 0 1.02-.2 1.41-.59l7.78-7.78 2.81-2.81c.8-.78.8-2.07 0-2.86zM5.41 20L4 18.59l7.72-7.72 1.47 1.35L5.41 20z\"/>\n",
              "  </svg>\n",
              "      </button>\n",
              "      \n",
              "  <style>\n",
              "    .colab-df-container {\n",
              "      display:flex;\n",
              "      flex-wrap:wrap;\n",
              "      gap: 12px;\n",
              "    }\n",
              "\n",
              "    .colab-df-convert {\n",
              "      background-color: #E8F0FE;\n",
              "      border: none;\n",
              "      border-radius: 50%;\n",
              "      cursor: pointer;\n",
              "      display: none;\n",
              "      fill: #1967D2;\n",
              "      height: 32px;\n",
              "      padding: 0 0 0 0;\n",
              "      width: 32px;\n",
              "    }\n",
              "\n",
              "    .colab-df-convert:hover {\n",
              "      background-color: #E2EBFA;\n",
              "      box-shadow: 0px 1px 2px rgba(60, 64, 67, 0.3), 0px 1px 3px 1px rgba(60, 64, 67, 0.15);\n",
              "      fill: #174EA6;\n",
              "    }\n",
              "\n",
              "    [theme=dark] .colab-df-convert {\n",
              "      background-color: #3B4455;\n",
              "      fill: #D2E3FC;\n",
              "    }\n",
              "\n",
              "    [theme=dark] .colab-df-convert:hover {\n",
              "      background-color: #434B5C;\n",
              "      box-shadow: 0px 1px 3px 1px rgba(0, 0, 0, 0.15);\n",
              "      filter: drop-shadow(0px 1px 2px rgba(0, 0, 0, 0.3));\n",
              "      fill: #FFFFFF;\n",
              "    }\n",
              "  </style>\n",
              "\n",
              "      <script>\n",
              "        const buttonEl =\n",
              "          document.querySelector('#df-1fe13ef0-8cd9-4ea2-85ff-59ef3e01eb59 button.colab-df-convert');\n",
              "        buttonEl.style.display =\n",
              "          google.colab.kernel.accessAllowed ? 'block' : 'none';\n",
              "\n",
              "        async function convertToInteractive(key) {\n",
              "          const element = document.querySelector('#df-1fe13ef0-8cd9-4ea2-85ff-59ef3e01eb59');\n",
              "          const dataTable =\n",
              "            await google.colab.kernel.invokeFunction('convertToInteractive',\n",
              "                                                     [key], {});\n",
              "          if (!dataTable) return;\n",
              "\n",
              "          const docLinkHtml = 'Like what you see? Visit the ' +\n",
              "            '<a target=\"_blank\" href=https://colab.research.google.com/notebooks/data_table.ipynb>data table notebook</a>'\n",
              "            + ' to learn more about interactive tables.';\n",
              "          element.innerHTML = '';\n",
              "          dataTable['output_type'] = 'display_data';\n",
              "          await google.colab.output.renderOutput(dataTable, element);\n",
              "          const docLink = document.createElement('div');\n",
              "          docLink.innerHTML = docLinkHtml;\n",
              "          element.appendChild(docLink);\n",
              "        }\n",
              "      </script>\n",
              "    </div>\n",
              "  </div>\n",
              "  "
            ]
          },
          "metadata": {},
          "execution_count": 236
        }
      ]
    },
    {
      "cell_type": "code",
      "source": [
        "# Perulangan ini digunakan untuk mengeksekusi nilai k dengan data \n",
        "# Selanjutkan akan dicari SSE\n",
        "\n",
        "Sum_of_squared_error = []\n",
        "K = range(2,10)\n",
        "for k in K:\n",
        "    km = KMeans(n_clusters=k)\n",
        "    km = km.fit(cluster_data)\n",
        "    Sum_of_squared_error.append(km.inertia_)"
      ],
      "metadata": {
        "colab": {
          "base_uri": "https://localhost:8080/"
        },
        "id": "ZVPtc77UhoGz",
        "outputId": "43051dcb-d42e-4f8c-bd6f-64dcd5f3ecac"
      },
      "execution_count": null,
      "outputs": [
        {
          "output_type": "stream",
          "name": "stderr",
          "text": [
            "/usr/local/lib/python3.9/dist-packages/sklearn/cluster/_kmeans.py:870: FutureWarning: The default value of `n_init` will change from 10 to 'auto' in 1.4. Set the value of `n_init` explicitly to suppress the warning\n",
            "  warnings.warn(\n",
            "/usr/local/lib/python3.9/dist-packages/sklearn/cluster/_kmeans.py:870: FutureWarning: The default value of `n_init` will change from 10 to 'auto' in 1.4. Set the value of `n_init` explicitly to suppress the warning\n",
            "  warnings.warn(\n",
            "/usr/local/lib/python3.9/dist-packages/sklearn/cluster/_kmeans.py:870: FutureWarning: The default value of `n_init` will change from 10 to 'auto' in 1.4. Set the value of `n_init` explicitly to suppress the warning\n",
            "  warnings.warn(\n",
            "/usr/local/lib/python3.9/dist-packages/sklearn/cluster/_kmeans.py:870: FutureWarning: The default value of `n_init` will change from 10 to 'auto' in 1.4. Set the value of `n_init` explicitly to suppress the warning\n",
            "  warnings.warn(\n",
            "/usr/local/lib/python3.9/dist-packages/sklearn/cluster/_kmeans.py:870: FutureWarning: The default value of `n_init` will change from 10 to 'auto' in 1.4. Set the value of `n_init` explicitly to suppress the warning\n",
            "  warnings.warn(\n",
            "/usr/local/lib/python3.9/dist-packages/sklearn/cluster/_kmeans.py:870: FutureWarning: The default value of `n_init` will change from 10 to 'auto' in 1.4. Set the value of `n_init` explicitly to suppress the warning\n",
            "  warnings.warn(\n",
            "/usr/local/lib/python3.9/dist-packages/sklearn/cluster/_kmeans.py:870: FutureWarning: The default value of `n_init` will change from 10 to 'auto' in 1.4. Set the value of `n_init` explicitly to suppress the warning\n",
            "  warnings.warn(\n",
            "/usr/local/lib/python3.9/dist-packages/sklearn/cluster/_kmeans.py:870: FutureWarning: The default value of `n_init` will change from 10 to 'auto' in 1.4. Set the value of `n_init` explicitly to suppress the warning\n",
            "  warnings.warn(\n"
          ]
        }
      ]
    },
    {
      "cell_type": "code",
      "source": [
        "plt.plot(K, Sum_of_squared_error, 'bx-')\n",
        "plt.xlabel('k')\n",
        "plt.ylabel('SSE')\n",
        "plt.title('Elbow Method For Optimal k')\n",
        "plt.show()"
      ],
      "metadata": {
        "colab": {
          "base_uri": "https://localhost:8080/",
          "height": 472
        },
        "id": "-FlCfiKMhvfg",
        "outputId": "349cc2f1-d959-4eb5-f37a-836a6dcee13f"
      },
      "execution_count": null,
      "outputs": [
        {
          "output_type": "display_data",
          "data": {
            "text/plain": [
              "<Figure size 640x480 with 1 Axes>"
            ],
            "image/png": "[encoded data removed]"
          },
          "metadata": {}
        }
      ]
    },
    {
      "cell_type": "markdown",
      "metadata": {
        "id": "djLPH69aGc5N"
      },
      "source": [
        "### Evaluation Model"
      ]
    },
    {
      "cell_type": "markdown",
      "metadata": {
        "id": "73QAXqgFGjxx"
      },
      "source": [
        "Menggunakan silhouette score untuk konfirmasi k-kluster"
      ]
    },
    {
      "cell_type": "code",
      "metadata": {
        "id": "59_1pggcrDGF",
        "colab": {
          "base_uri": "https://localhost:8080/"
        },
        "outputId": "89e3a159-3575-4ec0-f6a2-5886e0fecae1"
      },
      "source": [
        "range_n_clusters = range(2,10)\n",
        "for n_clusters in range_n_clusters:\n",
        "    clusterer = KMeans(n_clusters)\n",
        "    preds = clusterer.fit_predict(cluster_data)\n",
        "    centers = clusterer.cluster_centers_\n",
        "\n",
        "    score = silhouette_score(cluster_data, preds)\n",
        "    print(\"For n_clusters = {}, silhouette score is {}\".format(n_clusters, score))"
      ],
      "execution_count": null,
      "outputs": [
        {
          "output_type": "stream",
          "name": "stderr",
          "text": [
            "/usr/local/lib/python3.9/dist-packages/sklearn/cluster/_kmeans.py:870: FutureWarning: The default value of `n_init` will change from 10 to 'auto' in 1.4. Set the value of `n_init` explicitly to suppress the warning\n",
            "  warnings.warn(\n"
          ]
        },
        {
          "output_type": "stream",
          "name": "stdout",
          "text": [
            "For n_clusters = 2, silhouette score is 0.52311466263303\n"
          ]
        },
        {
          "output_type": "stream",
          "name": "stderr",
          "text": [
            "/usr/local/lib/python3.9/dist-packages/sklearn/cluster/_kmeans.py:870: FutureWarning: The default value of `n_init` will change from 10 to 'auto' in 1.4. Set the value of `n_init` explicitly to suppress the warning\n",
            "  warnings.warn(\n"
          ]
        },
        {
          "output_type": "stream",
          "name": "stdout",
          "text": [
            "For n_clusters = 3, silhouette score is 0.5069809199346808\n"
          ]
        },
        {
          "output_type": "stream",
          "name": "stderr",
          "text": [
            "/usr/local/lib/python3.9/dist-packages/sklearn/cluster/_kmeans.py:870: FutureWarning: The default value of `n_init` will change from 10 to 'auto' in 1.4. Set the value of `n_init` explicitly to suppress the warning\n",
            "  warnings.warn(\n"
          ]
        },
        {
          "output_type": "stream",
          "name": "stdout",
          "text": [
            "For n_clusters = 4, silhouette score is 0.5078796959670545\n"
          ]
        },
        {
          "output_type": "stream",
          "name": "stderr",
          "text": [
            "/usr/local/lib/python3.9/dist-packages/sklearn/cluster/_kmeans.py:870: FutureWarning: The default value of `n_init` will change from 10 to 'auto' in 1.4. Set the value of `n_init` explicitly to suppress the warning\n",
            "  warnings.warn(\n"
          ]
        },
        {
          "output_type": "stream",
          "name": "stdout",
          "text": [
            "For n_clusters = 5, silhouette score is 0.5379208868338747\n"
          ]
        },
        {
          "output_type": "stream",
          "name": "stderr",
          "text": [
            "/usr/local/lib/python3.9/dist-packages/sklearn/cluster/_kmeans.py:870: FutureWarning: The default value of `n_init` will change from 10 to 'auto' in 1.4. Set the value of `n_init` explicitly to suppress the warning\n",
            "  warnings.warn(\n"
          ]
        },
        {
          "output_type": "stream",
          "name": "stdout",
          "text": [
            "For n_clusters = 6, silhouette score is 0.5487480914250895\n"
          ]
        },
        {
          "output_type": "stream",
          "name": "stderr",
          "text": [
            "/usr/local/lib/python3.9/dist-packages/sklearn/cluster/_kmeans.py:870: FutureWarning: The default value of `n_init` will change from 10 to 'auto' in 1.4. Set the value of `n_init` explicitly to suppress the warning\n",
            "  warnings.warn(\n"
          ]
        },
        {
          "output_type": "stream",
          "name": "stdout",
          "text": [
            "For n_clusters = 7, silhouette score is 0.5665605604519035\n"
          ]
        },
        {
          "output_type": "stream",
          "name": "stderr",
          "text": [
            "/usr/local/lib/python3.9/dist-packages/sklearn/cluster/_kmeans.py:870: FutureWarning: The default value of `n_init` will change from 10 to 'auto' in 1.4. Set the value of `n_init` explicitly to suppress the warning\n",
            "  warnings.warn(\n"
          ]
        },
        {
          "output_type": "stream",
          "name": "stdout",
          "text": [
            "For n_clusters = 8, silhouette score is 0.5823725289248206\n"
          ]
        },
        {
          "output_type": "stream",
          "name": "stderr",
          "text": [
            "/usr/local/lib/python3.9/dist-packages/sklearn/cluster/_kmeans.py:870: FutureWarning: The default value of `n_init` will change from 10 to 'auto' in 1.4. Set the value of `n_init` explicitly to suppress the warning\n",
            "  warnings.warn(\n"
          ]
        },
        {
          "output_type": "stream",
          "name": "stdout",
          "text": [
            "For n_clusters = 9, silhouette score is 0.5979444766630239\n"
          ]
        }
      ]
    },
    {
      "cell_type": "code",
      "source": [
        "# Memodelkan data dengan k-means\n",
        "cluster = KMeans(n_clusters=5)\n",
        "cluster.fit(cluster_data)"
      ],
      "metadata": {
        "id": "uJyNlgDiic_2",
        "colab": {
          "base_uri": "https://localhost:8080/",
          "height": 109
        },
        "outputId": "5f2061ea-9c5d-4130-a74f-3f673945cf2c"
      },
      "execution_count": null,
      "outputs": [
        {
          "output_type": "stream",
          "name": "stderr",
          "text": [
            "/usr/local/lib/python3.9/dist-packages/sklearn/cluster/_kmeans.py:870: FutureWarning: The default value of `n_init` will change from 10 to 'auto' in 1.4. Set the value of `n_init` explicitly to suppress the warning\n",
            "  warnings.warn(\n"
          ]
        },
        {
          "output_type": "execute_result",
          "data": {
            "text/plain": [
              "KMeans(n_clusters=5)"
            ],
            "text/html": [
              "<style>#sk-container-id-6 {color: black;background-color: white;}#sk-container-id-6 pre{padding: 0;}#sk-container-id-6 div.sk-toggleable {background-color: white;}#sk-container-id-6 label.sk-toggleable__label {cursor: pointer;display: block;width: 100%;margin-bottom: 0;padding: 0.3em;box-sizing: border-box;text-align: center;}#sk-container-id-6 label.sk-toggleable__label-arrow:before {content: \"▸\";float: left;margin-right: 0.25em;color: #696969;}#sk-container-id-6 label.sk-toggleable__label-arrow:hover:before {color: black;}#sk-container-id-6 div.sk-estimator:hover label.sk-toggleable__label-arrow:before {color: black;}#sk-container-id-6 div.sk-toggleable__content {max-height: 0;max-width: 0;overflow: hidden;text-align: left;background-color: #f0f8ff;}#sk-container-id-6 div.sk-toggleable__content pre {margin: 0.2em;color: black;border-radius: 0.25em;background-color: #f0f8ff;}#sk-container-id-6 input.sk-toggleable__control:checked~div.sk-toggleable__content {max-height: 200px;max-width: 100%;overflow: auto;}#sk-container-id-6 input.sk-toggleable__control:checked~label.sk-toggleable__label-arrow:before {content: \"▾\";}#sk-container-id-6 div.sk-estimator input.sk-toggleable__control:checked~label.sk-toggleable__label {background-color: #d4ebff;}#sk-container-id-6 div.sk-label input.sk-toggleable__control:checked~label.sk-toggleable__label {background-color: #d4ebff;}#sk-container-id-6 input.sk-hidden--visually {border: 0;clip: rect(1px 1px 1px 1px);clip: rect(1px, 1px, 1px, 1px);height: 1px;margin: -1px;overflow: hidden;padding: 0;position: absolute;width: 1px;}#sk-container-id-6 div.sk-estimator {font-family: monospace;background-color: #f0f8ff;border: 1px dotted black;border-radius: 0.25em;box-sizing: border-box;margin-bottom: 0.5em;}#sk-container-id-6 div.sk-estimator:hover {background-color: #d4ebff;}#sk-container-id-6 div.sk-parallel-item::after {content: \"\";width: 100%;border-bottom: 1px solid gray;flex-grow: 1;}#sk-container-id-6 div.sk-label:hover label.sk-toggleable__label {background-color: #d4ebff;}#sk-container-id-6 div.sk-serial::before {content: \"\";position: absolute;border-left: 1px solid gray;box-sizing: border-box;top: 0;bottom: 0;left: 50%;z-index: 0;}#sk-container-id-6 div.sk-serial {display: flex;flex-direction: column;align-items: center;background-color: white;padding-right: 0.2em;padding-left: 0.2em;position: relative;}#sk-container-id-6 div.sk-item {position: relative;z-index: 1;}#sk-container-id-6 div.sk-parallel {display: flex;align-items: stretch;justify-content: center;background-color: white;position: relative;}#sk-container-id-6 div.sk-item::before, #sk-container-id-6 div.sk-parallel-item::before {content: \"\";position: absolute;border-left: 1px solid gray;box-sizing: border-box;top: 0;bottom: 0;left: 50%;z-index: -1;}#sk-container-id-6 div.sk-parallel-item {display: flex;flex-direction: column;z-index: 1;position: relative;background-color: white;}#sk-container-id-6 div.sk-parallel-item:first-child::after {align-self: flex-end;width: 50%;}#sk-container-id-6 div.sk-parallel-item:last-child::after {align-self: flex-start;width: 50%;}#sk-container-id-6 div.sk-parallel-item:only-child::after {width: 0;}#sk-container-id-6 div.sk-dashed-wrapped {border: 1px dashed gray;margin: 0 0.4em 0.5em 0.4em;box-sizing: border-box;padding-bottom: 0.4em;background-color: white;}#sk-container-id-6 div.sk-label label {font-family: monospace;font-weight: bold;display: inline-block;line-height: 1.2em;}#sk-container-id-6 div.sk-label-container {text-align: center;}#sk-container-id-6 div.sk-container {/* jupyter's `normalize.less` sets `[hidden] { display: none; }` but bootstrap.min.css set `[hidden] { display: none !important; }` so we also need the `!important` here to be able to override the default hidden behavior on the sphinx rendered scikit-learn.org. See: https://github.com/scikit-learn/scikit-learn/issues/21755 */display: inline-block !important;position: relative;}#sk-container-id-6 div.sk-text-repr-fallback {display: none;}</style><div id=\"sk-container-id-6\" class=\"sk-top-container\"><div class=\"sk-text-repr-fallback\"><pre>KMeans(n_clusters=5)</pre><b>In a Jupyter environment, please rerun this cell to show the HTML representation or trust the notebook. <br />On GitHub, the HTML representation is unable to render, please try loading this page with nbviewer.org.</b></div><div class=\"sk-container\" hidden><div class=\"sk-item\"><div class=\"sk-estimator sk-toggleable\"><input class=\"sk-toggleable__control sk-hidden--visually\" id=\"sk-estimator-id-6\" type=\"checkbox\" checked><label for=\"sk-estimator-id-6\" class=\"sk-toggleable__label sk-toggleable__label-arrow\">KMeans</label><div class=\"sk-toggleable__content\"><pre>KMeans(n_clusters=5)</pre></div></div></div></div></div>"
            ]
          },
          "metadata": {},
          "execution_count": 240
        }
      ]
    },
    {
      "cell_type": "code",
      "source": [
        "# Membuat kolom baru berdasarkan hasil clustering\n",
        "segment = pd.Series(cluster.labels_, name=\"segment\")"
      ],
      "metadata": {
        "id": "l8u04b11igLn"
      },
      "execution_count": null,
      "outputs": []
    },
    {
      "cell_type": "code",
      "source": [
        "# Menggabungkan data dengan hasil cluster\n",
        "results = pd.concat([new_df, segment], axis=1)\n",
        "results.head()"
      ],
      "metadata": {
        "id": "Tv8CiTSlijqk",
        "colab": {
          "base_uri": "https://localhost:8080/",
          "height": 206
        },
        "outputId": "f4919d7a-e721-437e-97ef-6f9277d12090"
      },
      "execution_count": null,
      "outputs": [
        {
          "output_type": "execute_result",
          "data": {
            "text/plain": [
              "                                        Product Name Product ID  \\\n",
              "0  Women's adidas Originals NMD_Racer Primeknit S...     AH2430   \n",
              "1               Women's adidas Originals Sleek Shoes     G27341   \n",
              "2                  Women's adidas Swim Puka Slippers     CM0081   \n",
              "3   Women's adidas Sport Inspired Questar Ride Shoes     B44832   \n",
              "4           Women's adidas Originals Taekwondo Shoes     D98205   \n",
              "\n",
              "   Listing_Price  Sale_Price  Discount              Brand  \\\n",
              "0          14999        7499        50   Adidas ORIGINALS   \n",
              "1           7599        3799        50   Adidas ORIGINALS   \n",
              "2            999         599        40  Adidas CORE / NEO   \n",
              "3           6999        3499        50  Adidas CORE / NEO   \n",
              "4           7999        3999        50   Adidas ORIGINALS   \n",
              "\n",
              "                                         Description  Rating  Reviews  segment  \n",
              "0  Channeling the streamlined look of an '80s rac...     4.8       41        2  \n",
              "1  A modern take on adidas sport heritage, tailor...     3.3       24        4  \n",
              "2  These adidas Puka slippers for women's come wi...     2.6       37        1  \n",
              "3  Inspired by modern tech runners, these women's...     4.1       35        1  \n",
              "4  This design is inspired by vintage Taekwondo s...     3.5       72        4  "
            ],
            "text/html": [
              "\n",
              "  <div id=\"df-461dedc0-459b-4bbc-89e1-12824c6d8e39\">\n",
              "    <div class=\"colab-df-container\">\n",
              "      <div>\n",
              "<style scoped>\n",
              "    .dataframe tbody tr th:only-of-type {\n",
              "        vertical-align: middle;\n",
              "    }\n",
              "\n",
              "    .dataframe tbody tr th {\n",
              "        vertical-align: top;\n",
              "    }\n",
              "\n",
              "    .dataframe thead th {\n",
              "        text-align: right;\n",
              "    }\n",
              "</style>\n",
              "<table border=\"1\" class=\"dataframe\">\n",
              "  <thead>\n",
              "    <tr style=\"text-align: right;\">\n",
              "      <th></th>\n",
              "      <th>Product Name</th>\n",
              "      <th>Product ID</th>\n",
              "      <th>Listing_Price</th>\n",
              "      <th>Sale_Price</th>\n",
              "      <th>Discount</th>\n",
              "      <th>Brand</th>\n",
              "      <th>Description</th>\n",
              "      <th>Rating</th>\n",
              "      <th>Reviews</th>\n",
              "      <th>segment</th>\n",
              "    </tr>\n",
              "  </thead>\n",
              "  <tbody>\n",
              "    <tr>\n",
              "      <th>0</th>\n",
              "      <td>Women's adidas Originals NMD_Racer Primeknit S...</td>\n",
              "      <td>AH2430</td>\n",
              "      <td>14999</td>\n",
              "      <td>7499</td>\n",
              "      <td>50</td>\n",
              "      <td>Adidas ORIGINALS</td>\n",
              "      <td>Channeling the streamlined look of an '80s rac...</td>\n",
              "      <td>4.8</td>\n",
              "      <td>41</td>\n",
              "      <td>2</td>\n",
              "    </tr>\n",
              "    <tr>\n",
              "      <th>1</th>\n",
              "      <td>Women's adidas Originals Sleek Shoes</td>\n",
              "      <td>G27341</td>\n",
              "      <td>7599</td>\n",
              "      <td>3799</td>\n",
              "      <td>50</td>\n",
              "      <td>Adidas ORIGINALS</td>\n",
              "      <td>A modern take on adidas sport heritage, tailor...</td>\n",
              "      <td>3.3</td>\n",
              "      <td>24</td>\n",
              "      <td>4</td>\n",
              "    </tr>\n",
              "    <tr>\n",
              "      <th>2</th>\n",
              "      <td>Women's adidas Swim Puka Slippers</td>\n",
              "      <td>CM0081</td>\n",
              "      <td>999</td>\n",
              "      <td>599</td>\n",
              "      <td>40</td>\n",
              "      <td>Adidas CORE / NEO</td>\n",
              "      <td>These adidas Puka slippers for women's come wi...</td>\n",
              "      <td>2.6</td>\n",
              "      <td>37</td>\n",
              "      <td>1</td>\n",
              "    </tr>\n",
              "    <tr>\n",
              "      <th>3</th>\n",
              "      <td>Women's adidas Sport Inspired Questar Ride Shoes</td>\n",
              "      <td>B44832</td>\n",
              "      <td>6999</td>\n",
              "      <td>3499</td>\n",
              "      <td>50</td>\n",
              "      <td>Adidas CORE / NEO</td>\n",
              "      <td>Inspired by modern tech runners, these women's...</td>\n",
              "      <td>4.1</td>\n",
              "      <td>35</td>\n",
              "      <td>1</td>\n",
              "    </tr>\n",
              "    <tr>\n",
              "      <th>4</th>\n",
              "      <td>Women's adidas Originals Taekwondo Shoes</td>\n",
              "      <td>D98205</td>\n",
              "      <td>7999</td>\n",
              "      <td>3999</td>\n",
              "      <td>50</td>\n",
              "      <td>Adidas ORIGINALS</td>\n",
              "      <td>This design is inspired by vintage Taekwondo s...</td>\n",
              "      <td>3.5</td>\n",
              "      <td>72</td>\n",
              "      <td>4</td>\n",
              "    </tr>\n",
              "  </tbody>\n",
              "</table>\n",
              "</div>\n",
              "      <button class=\"colab-df-convert\" onclick=\"convertToInteractive('df-461dedc0-459b-4bbc-89e1-12824c6d8e39')\"\n",
              "              title=\"Convert this dataframe to an interactive table.\"\n",
              "              style=\"display:none;\">\n",
              "        \n",
              "  <svg xmlns=\"http://www.w3.org/2000/svg\" height=\"24px\"viewBox=\"0 0 24 24\"\n",
              "       width=\"24px\">\n",
              "    <path d=\"M0 0h24v24H0V0z\" fill=\"none\"/>\n",
              "    <path d=\"M18.56 5.44l.94 2.06.94-2.06 2.06-.94-2.06-.94-.94-2.06-.94 2.06-2.06.94zm-11 1L8.5 8.5l.94-2.06 2.06-.94-2.06-.94L8.5 2.5l-.94 2.06-2.06.94zm10 10l.94 2.06.94-2.06 2.06-.94-2.06-.94-.94-2.06-.94 2.06-2.06.94z\"/><path d=\"M17.41 7.96l-1.37-1.37c-.4-.4-.92-.59-1.43-.59-.52 0-1.04.2-1.43.59L10.3 9.45l-7.72 7.72c-.78.78-.78 2.05 0 2.83L4 21.41c.39.39.9.59 1.41.59.51 0 1.02-.2 1.41-.59l7.78-7.78 2.81-2.81c.8-.78.8-2.07 0-2.86zM5.41 20L4 18.59l7.72-7.72 1.47 1.35L5.41 20z\"/>\n",
              "  </svg>\n",
              "      </button>\n",
              "      \n",
              "  <style>\n",
              "    .colab-df-container {\n",
              "      display:flex;\n",
              "      flex-wrap:wrap;\n",
              "      gap: 12px;\n",
              "    }\n",
              "\n",
              "    .colab-df-convert {\n",
              "      background-color: #E8F0FE;\n",
              "      border: none;\n",
              "      border-radius: 50%;\n",
              "      cursor: pointer;\n",
              "      display: none;\n",
              "      fill: #1967D2;\n",
              "      height: 32px;\n",
              "      padding: 0 0 0 0;\n",
              "      width: 32px;\n",
              "    }\n",
              "\n",
              "    .colab-df-convert:hover {\n",
              "      background-color: #E2EBFA;\n",
              "      box-shadow: 0px 1px 2px rgba(60, 64, 67, 0.3), 0px 1px 3px 1px rgba(60, 64, 67, 0.15);\n",
              "      fill: #174EA6;\n",
              "    }\n",
              "\n",
              "    [theme=dark] .colab-df-convert {\n",
              "      background-color: #3B4455;\n",
              "      fill: #D2E3FC;\n",
              "    }\n",
              "\n",
              "    [theme=dark] .colab-df-convert:hover {\n",
              "      background-color: #434B5C;\n",
              "      box-shadow: 0px 1px 3px 1px rgba(0, 0, 0, 0.15);\n",
              "      filter: drop-shadow(0px 1px 2px rgba(0, 0, 0, 0.3));\n",
              "      fill: #FFFFFF;\n",
              "    }\n",
              "  </style>\n",
              "\n",
              "      <script>\n",
              "        const buttonEl =\n",
              "          document.querySelector('#df-461dedc0-459b-4bbc-89e1-12824c6d8e39 button.colab-df-convert');\n",
              "        buttonEl.style.display =\n",
              "          google.colab.kernel.accessAllowed ? 'block' : 'none';\n",
              "\n",
              "        async function convertToInteractive(key) {\n",
              "          const element = document.querySelector('#df-461dedc0-459b-4bbc-89e1-12824c6d8e39');\n",
              "          const dataTable =\n",
              "            await google.colab.kernel.invokeFunction('convertToInteractive',\n",
              "                                                     [key], {});\n",
              "          if (!dataTable) return;\n",
              "\n",
              "          const docLinkHtml = 'Like what you see? Visit the ' +\n",
              "            '<a target=\"_blank\" href=https://colab.research.google.com/notebooks/data_table.ipynb>data table notebook</a>'\n",
              "            + ' to learn more about interactive tables.';\n",
              "          element.innerHTML = '';\n",
              "          dataTable['output_type'] = 'display_data';\n",
              "          await google.colab.output.renderOutput(dataTable, element);\n",
              "          const docLink = document.createElement('div');\n",
              "          docLink.innerHTML = docLinkHtml;\n",
              "          element.appendChild(docLink);\n",
              "        }\n",
              "      </script>\n",
              "    </div>\n",
              "  </div>\n",
              "  "
            ]
          },
          "metadata": {},
          "execution_count": 242
        }
      ]
    },
    {
      "cell_type": "code",
      "source": [
        "# Menampilkan 5 data teratas dari cluster 0\n",
        "results[results[\"segment\"]==0][:5]"
      ],
      "metadata": {
        "id": "hpeWnafxivcE",
        "colab": {
          "base_uri": "https://localhost:8080/",
          "height": 206
        },
        "outputId": "da97e6ee-a7d8-4912-b14d-8e0236d655b5"
      },
      "execution_count": null,
      "outputs": [
        {
          "output_type": "execute_result",
          "data": {
            "text/plain": [
              "                        Product Name  Product ID  Listing_Price  Sale_Price  \\\n",
              "2625  Nike Air Force 1 '07 Essential  CJ1646-600              0        7495   \n",
              "2626            Nike Air Force 1 '07  CT4328-101              0        7495   \n",
              "2627    Nike Air Force 1 Sage Low LX  CI3482-200              0        9995   \n",
              "2628             Nike Air Max Dia SE  CD0479-200              0        9995   \n",
              "2629             Nike Air Max Verona  CZ6156-101              0        9995   \n",
              "\n",
              "      Discount Brand                                        Description  \\\n",
              "2625         0  Nike  Let your shoe game shimmer in the Nike Air For...   \n",
              "2626         0  Nike  The legend lives on in the Nike Air Force 1 '0...   \n",
              "2627         0  Nike  Taking both height and craft to new levels, th...   \n",
              "2628         0  Nike  Designed for a woman's foot, the Nike Air Max ...   \n",
              "2629         0  Nike  Pass on the good vibes in the Nike Air Max Ver...   \n",
              "\n",
              "      Rating  Reviews  segment  \n",
              "2625     0.0        0        0  \n",
              "2626     0.0        0        0  \n",
              "2627     0.0        0        0  \n",
              "2628     0.0        0        0  \n",
              "2629     0.0        0        0  "
            ],
            "text/html": [
              "\n",
              "  <div id=\"df-fdbdf270-5a4f-41c8-8065-22060567d88d\">\n",
              "    <div class=\"colab-df-container\">\n",
              "      <div>\n",
              "<style scoped>\n",
              "    .dataframe tbody tr th:only-of-type {\n",
              "        vertical-align: middle;\n",
              "    }\n",
              "\n",
              "    .dataframe tbody tr th {\n",
              "        vertical-align: top;\n",
              "    }\n",
              "\n",
              "    .dataframe thead th {\n",
              "        text-align: right;\n",
              "    }\n",
              "</style>\n",
              "<table border=\"1\" class=\"dataframe\">\n",
              "  <thead>\n",
              "    <tr style=\"text-align: right;\">\n",
              "      <th></th>\n",
              "      <th>Product Name</th>\n",
              "      <th>Product ID</th>\n",
              "      <th>Listing_Price</th>\n",
              "      <th>Sale_Price</th>\n",
              "      <th>Discount</th>\n",
              "      <th>Brand</th>\n",
              "      <th>Description</th>\n",
              "      <th>Rating</th>\n",
              "      <th>Reviews</th>\n",
              "      <th>segment</th>\n",
              "    </tr>\n",
              "  </thead>\n",
              "  <tbody>\n",
              "    <tr>\n",
              "      <th>2625</th>\n",
              "      <td>Nike Air Force 1 '07 Essential</td>\n",
              "      <td>CJ1646-600</td>\n",
              "      <td>0</td>\n",
              "      <td>7495</td>\n",
              "      <td>0</td>\n",
              "      <td>Nike</td>\n",
              "      <td>Let your shoe game shimmer in the Nike Air For...</td>\n",
              "      <td>0.0</td>\n",
              "      <td>0</td>\n",
              "      <td>0</td>\n",
              "    </tr>\n",
              "    <tr>\n",
              "      <th>2626</th>\n",
              "      <td>Nike Air Force 1 '07</td>\n",
              "      <td>CT4328-101</td>\n",
              "      <td>0</td>\n",
              "      <td>7495</td>\n",
              "      <td>0</td>\n",
              "      <td>Nike</td>\n",
              "      <td>The legend lives on in the Nike Air Force 1 '0...</td>\n",
              "      <td>0.0</td>\n",
              "      <td>0</td>\n",
              "      <td>0</td>\n",
              "    </tr>\n",
              "    <tr>\n",
              "      <th>2627</th>\n",
              "      <td>Nike Air Force 1 Sage Low LX</td>\n",
              "      <td>CI3482-200</td>\n",
              "      <td>0</td>\n",
              "      <td>9995</td>\n",
              "      <td>0</td>\n",
              "      <td>Nike</td>\n",
              "      <td>Taking both height and craft to new levels, th...</td>\n",
              "      <td>0.0</td>\n",
              "      <td>0</td>\n",
              "      <td>0</td>\n",
              "    </tr>\n",
              "    <tr>\n",
              "      <th>2628</th>\n",
              "      <td>Nike Air Max Dia SE</td>\n",
              "      <td>CD0479-200</td>\n",
              "      <td>0</td>\n",
              "      <td>9995</td>\n",
              "      <td>0</td>\n",
              "      <td>Nike</td>\n",
              "      <td>Designed for a woman's foot, the Nike Air Max ...</td>\n",
              "      <td>0.0</td>\n",
              "      <td>0</td>\n",
              "      <td>0</td>\n",
              "    </tr>\n",
              "    <tr>\n",
              "      <th>2629</th>\n",
              "      <td>Nike Air Max Verona</td>\n",
              "      <td>CZ6156-101</td>\n",
              "      <td>0</td>\n",
              "      <td>9995</td>\n",
              "      <td>0</td>\n",
              "      <td>Nike</td>\n",
              "      <td>Pass on the good vibes in the Nike Air Max Ver...</td>\n",
              "      <td>0.0</td>\n",
              "      <td>0</td>\n",
              "      <td>0</td>\n",
              "    </tr>\n",
              "  </tbody>\n",
              "</table>\n",
              "</div>\n",
              "      <button class=\"colab-df-convert\" onclick=\"convertToInteractive('df-fdbdf270-5a4f-41c8-8065-22060567d88d')\"\n",
              "              title=\"Convert this dataframe to an interactive table.\"\n",
              "              style=\"display:none;\">\n",
              "        \n",
              "  <svg xmlns=\"http://www.w3.org/2000/svg\" height=\"24px\"viewBox=\"0 0 24 24\"\n",
              "       width=\"24px\">\n",
              "    <path d=\"M0 0h24v24H0V0z\" fill=\"none\"/>\n",
              "    <path d=\"M18.56 5.44l.94 2.06.94-2.06 2.06-.94-2.06-.94-.94-2.06-.94 2.06-2.06.94zm-11 1L8.5 8.5l.94-2.06 2.06-.94-2.06-.94L8.5 2.5l-.94 2.06-2.06.94zm10 10l.94 2.06.94-2.06 2.06-.94-2.06-.94-.94-2.06-.94 2.06-2.06.94z\"/><path d=\"M17.41 7.96l-1.37-1.37c-.4-.4-.92-.59-1.43-.59-.52 0-1.04.2-1.43.59L10.3 9.45l-7.72 7.72c-.78.78-.78 2.05 0 2.83L4 21.41c.39.39.9.59 1.41.59.51 0 1.02-.2 1.41-.59l7.78-7.78 2.81-2.81c.8-.78.8-2.07 0-2.86zM5.41 20L4 18.59l7.72-7.72 1.47 1.35L5.41 20z\"/>\n",
              "  </svg>\n",
              "      </button>\n",
              "      \n",
              "  <style>\n",
              "    .colab-df-container {\n",
              "      display:flex;\n",
              "      flex-wrap:wrap;\n",
              "      gap: 12px;\n",
              "    }\n",
              "\n",
              "    .colab-df-convert {\n",
              "      background-color: #E8F0FE;\n",
              "      border: none;\n",
              "      border-radius: 50%;\n",
              "      cursor: pointer;\n",
              "      display: none;\n",
              "      fill: #1967D2;\n",
              "      height: 32px;\n",
              "      padding: 0 0 0 0;\n",
              "      width: 32px;\n",
              "    }\n",
              "\n",
              "    .colab-df-convert:hover {\n",
              "      background-color: #E2EBFA;\n",
              "      box-shadow: 0px 1px 2px rgba(60, 64, 67, 0.3), 0px 1px 3px 1px rgba(60, 64, 67, 0.15);\n",
              "      fill: #174EA6;\n",
              "    }\n",
              "\n",
              "    [theme=dark] .colab-df-convert {\n",
              "      background-color: #3B4455;\n",
              "      fill: #D2E3FC;\n",
              "    }\n",
              "\n",
              "    [theme=dark] .colab-df-convert:hover {\n",
              "      background-color: #434B5C;\n",
              "      box-shadow: 0px 1px 3px 1px rgba(0, 0, 0, 0.15);\n",
              "      filter: drop-shadow(0px 1px 2px rgba(0, 0, 0, 0.3));\n",
              "      fill: #FFFFFF;\n",
              "    }\n",
              "  </style>\n",
              "\n",
              "      <script>\n",
              "        const buttonEl =\n",
              "          document.querySelector('#df-fdbdf270-5a4f-41c8-8065-22060567d88d button.colab-df-convert');\n",
              "        buttonEl.style.display =\n",
              "          google.colab.kernel.accessAllowed ? 'block' : 'none';\n",
              "\n",
              "        async function convertToInteractive(key) {\n",
              "          const element = document.querySelector('#df-fdbdf270-5a4f-41c8-8065-22060567d88d');\n",
              "          const dataTable =\n",
              "            await google.colab.kernel.invokeFunction('convertToInteractive',\n",
              "                                                     [key], {});\n",
              "          if (!dataTable) return;\n",
              "\n",
              "          const docLinkHtml = 'Like what you see? Visit the ' +\n",
              "            '<a target=\"_blank\" href=https://colab.research.google.com/notebooks/data_table.ipynb>data table notebook</a>'\n",
              "            + ' to learn more about interactive tables.';\n",
              "          element.innerHTML = '';\n",
              "          dataTable['output_type'] = 'display_data';\n",
              "          await google.colab.output.renderOutput(dataTable, element);\n",
              "          const docLink = document.createElement('div');\n",
              "          docLink.innerHTML = docLinkHtml;\n",
              "          element.appendChild(docLink);\n",
              "        }\n",
              "      </script>\n",
              "    </div>\n",
              "  </div>\n",
              "  "
            ]
          },
          "metadata": {},
          "execution_count": 243
        }
      ]
    },
    {
      "cell_type": "code",
      "metadata": {
        "id": "VQa9oQ8wrIAZ",
        "colab": {
          "base_uri": "https://localhost:8080/",
          "height": 206
        },
        "outputId": "19d7abb7-1460-4897-f111-2644c36a9da7"
      },
      "source": [
        "# Menampilkan 5 data teratas dari cluster 1\n",
        "results[results[\"segment\"]==1][:5]"
      ],
      "execution_count": null,
      "outputs": [
        {
          "output_type": "execute_result",
          "data": {
            "text/plain": [
              "                                        Product Name Product ID  \\\n",
              "2                  Women's adidas Swim Puka Slippers     CM0081   \n",
              "3   Women's adidas Sport Inspired Questar Ride Shoes     B44832   \n",
              "5  Women's adidas Sport Inspired Duramo Lite 2.0 ...     B75586   \n",
              "6  Women's adidas Sport Inspired Duramo Lite 2.0 ...     CG4051   \n",
              "7                  Women's adidas Swim Puka Slippers     CM0080   \n",
              "\n",
              "   Listing_Price  Sale_Price  Discount              Brand  \\\n",
              "2            999         599        40  Adidas CORE / NEO   \n",
              "3           6999        3499        50  Adidas CORE / NEO   \n",
              "5           4799        1920        60  Adidas CORE / NEO   \n",
              "6           4799        2399        50  Adidas CORE / NEO   \n",
              "7            999         599        40  Adidas CORE / NEO   \n",
              "\n",
              "                                         Description  Rating  Reviews  segment  \n",
              "2  These adidas Puka slippers for women's come wi...     2.6       37        1  \n",
              "3  Inspired by modern tech runners, these women's...     4.1       35        1  \n",
              "5  Refine your interval training in these women's...     1.0       45        1  \n",
              "6  Refine your interval training in these women's...     4.4        2        1  \n",
              "7  These adidas Puka slippers for women's come wi...     2.8        7        1  "
            ],
            "text/html": [
              "\n",
              "  <div id=\"df-16e50713-0ec4-4396-a338-eaa7ba5086d9\">\n",
              "    <div class=\"colab-df-container\">\n",
              "      <div>\n",
              "<style scoped>\n",
              "    .dataframe tbody tr th:only-of-type {\n",
              "        vertical-align: middle;\n",
              "    }\n",
              "\n",
              "    .dataframe tbody tr th {\n",
              "        vertical-align: top;\n",
              "    }\n",
              "\n",
              "    .dataframe thead th {\n",
              "        text-align: right;\n",
              "    }\n",
              "</style>\n",
              "<table border=\"1\" class=\"dataframe\">\n",
              "  <thead>\n",
              "    <tr style=\"text-align: right;\">\n",
              "      <th></th>\n",
              "      <th>Product Name</th>\n",
              "      <th>Product ID</th>\n",
              "      <th>Listing_Price</th>\n",
              "      <th>Sale_Price</th>\n",
              "      <th>Discount</th>\n",
              "      <th>Brand</th>\n",
              "      <th>Description</th>\n",
              "      <th>Rating</th>\n",
              "      <th>Reviews</th>\n",
              "      <th>segment</th>\n",
              "    </tr>\n",
              "  </thead>\n",
              "  <tbody>\n",
              "    <tr>\n",
              "      <th>2</th>\n",
              "      <td>Women's adidas Swim Puka Slippers</td>\n",
              "      <td>CM0081</td>\n",
              "      <td>999</td>\n",
              "      <td>599</td>\n",
              "      <td>40</td>\n",
              "      <td>Adidas CORE / NEO</td>\n",
              "      <td>These adidas Puka slippers for women's come wi...</td>\n",
              "      <td>2.6</td>\n",
              "      <td>37</td>\n",
              "      <td>1</td>\n",
              "    </tr>\n",
              "    <tr>\n",
              "      <th>3</th>\n",
              "      <td>Women's adidas Sport Inspired Questar Ride Shoes</td>\n",
              "      <td>B44832</td>\n",
              "      <td>6999</td>\n",
              "      <td>3499</td>\n",
              "      <td>50</td>\n",
              "      <td>Adidas CORE / NEO</td>\n",
              "      <td>Inspired by modern tech runners, these women's...</td>\n",
              "      <td>4.1</td>\n",
              "      <td>35</td>\n",
              "      <td>1</td>\n",
              "    </tr>\n",
              "    <tr>\n",
              "      <th>5</th>\n",
              "      <td>Women's adidas Sport Inspired Duramo Lite 2.0 ...</td>\n",
              "      <td>B75586</td>\n",
              "      <td>4799</td>\n",
              "      <td>1920</td>\n",
              "      <td>60</td>\n",
              "      <td>Adidas CORE / NEO</td>\n",
              "      <td>Refine your interval training in these women's...</td>\n",
              "      <td>1.0</td>\n",
              "      <td>45</td>\n",
              "      <td>1</td>\n",
              "    </tr>\n",
              "    <tr>\n",
              "      <th>6</th>\n",
              "      <td>Women's adidas Sport Inspired Duramo Lite 2.0 ...</td>\n",
              "      <td>CG4051</td>\n",
              "      <td>4799</td>\n",
              "      <td>2399</td>\n",
              "      <td>50</td>\n",
              "      <td>Adidas CORE / NEO</td>\n",
              "      <td>Refine your interval training in these women's...</td>\n",
              "      <td>4.4</td>\n",
              "      <td>2</td>\n",
              "      <td>1</td>\n",
              "    </tr>\n",
              "    <tr>\n",
              "      <th>7</th>\n",
              "      <td>Women's adidas Swim Puka Slippers</td>\n",
              "      <td>CM0080</td>\n",
              "      <td>999</td>\n",
              "      <td>599</td>\n",
              "      <td>40</td>\n",
              "      <td>Adidas CORE / NEO</td>\n",
              "      <td>These adidas Puka slippers for women's come wi...</td>\n",
              "      <td>2.8</td>\n",
              "      <td>7</td>\n",
              "      <td>1</td>\n",
              "    </tr>\n",
              "  </tbody>\n",
              "</table>\n",
              "</div>\n",
              "      <button class=\"colab-df-convert\" onclick=\"convertToInteractive('df-16e50713-0ec4-4396-a338-eaa7ba5086d9')\"\n",
              "              title=\"Convert this dataframe to an interactive table.\"\n",
              "              style=\"display:none;\">\n",
              "        \n",
              "  <svg xmlns=\"http://www.w3.org/2000/svg\" height=\"24px\"viewBox=\"0 0 24 24\"\n",
              "       width=\"24px\">\n",
              "    <path d=\"M0 0h24v24H0V0z\" fill=\"none\"/>\n",
              "    <path d=\"M18.56 5.44l.94 2.06.94-2.06 2.06-.94-2.06-.94-.94-2.06-.94 2.06-2.06.94zm-11 1L8.5 8.5l.94-2.06 2.06-.94-2.06-.94L8.5 2.5l-.94 2.06-2.06.94zm10 10l.94 2.06.94-2.06 2.06-.94-2.06-.94-.94-2.06-.94 2.06-2.06.94z\"/><path d=\"M17.41 7.96l-1.37-1.37c-.4-.4-.92-.59-1.43-.59-.52 0-1.04.2-1.43.59L10.3 9.45l-7.72 7.72c-.78.78-.78 2.05 0 2.83L4 21.41c.39.39.9.59 1.41.59.51 0 1.02-.2 1.41-.59l7.78-7.78 2.81-2.81c.8-.78.8-2.07 0-2.86zM5.41 20L4 18.59l7.72-7.72 1.47 1.35L5.41 20z\"/>\n",
              "  </svg>\n",
              "      </button>\n",
              "      \n",
              "  <style>\n",
              "    .colab-df-container {\n",
              "      display:flex;\n",
              "      flex-wrap:wrap;\n",
              "      gap: 12px;\n",
              "    }\n",
              "\n",
              "    .colab-df-convert {\n",
              "      background-color: #E8F0FE;\n",
              "      border: none;\n",
              "      border-radius: 50%;\n",
              "      cursor: pointer;\n",
              "      display: none;\n",
              "      fill: #1967D2;\n",
              "      height: 32px;\n",
              "      padding: 0 0 0 0;\n",
              "      width: 32px;\n",
              "    }\n",
              "\n",
              "    .colab-df-convert:hover {\n",
              "      background-color: #E2EBFA;\n",
              "      box-shadow: 0px 1px 2px rgba(60, 64, 67, 0.3), 0px 1px 3px 1px rgba(60, 64, 67, 0.15);\n",
              "      fill: #174EA6;\n",
              "    }\n",
              "\n",
              "    [theme=dark] .colab-df-convert {\n",
              "      background-color: #3B4455;\n",
              "      fill: #D2E3FC;\n",
              "    }\n",
              "\n",
              "    [theme=dark] .colab-df-convert:hover {\n",
              "      background-color: #434B5C;\n",
              "      box-shadow: 0px 1px 3px 1px rgba(0, 0, 0, 0.15);\n",
              "      filter: drop-shadow(0px 1px 2px rgba(0, 0, 0, 0.3));\n",
              "      fill: #FFFFFF;\n",
              "    }\n",
              "  </style>\n",
              "\n",
              "      <script>\n",
              "        const buttonEl =\n",
              "          document.querySelector('#df-16e50713-0ec4-4396-a338-eaa7ba5086d9 button.colab-df-convert');\n",
              "        buttonEl.style.display =\n",
              "          google.colab.kernel.accessAllowed ? 'block' : 'none';\n",
              "\n",
              "        async function convertToInteractive(key) {\n",
              "          const element = document.querySelector('#df-16e50713-0ec4-4396-a338-eaa7ba5086d9');\n",
              "          const dataTable =\n",
              "            await google.colab.kernel.invokeFunction('convertToInteractive',\n",
              "                                                     [key], {});\n",
              "          if (!dataTable) return;\n",
              "\n",
              "          const docLinkHtml = 'Like what you see? Visit the ' +\n",
              "            '<a target=\"_blank\" href=https://colab.research.google.com/notebooks/data_table.ipynb>data table notebook</a>'\n",
              "            + ' to learn more about interactive tables.';\n",
              "          element.innerHTML = '';\n",
              "          dataTable['output_type'] = 'display_data';\n",
              "          await google.colab.output.renderOutput(dataTable, element);\n",
              "          const docLink = document.createElement('div');\n",
              "          docLink.innerHTML = docLinkHtml;\n",
              "          element.appendChild(docLink);\n",
              "        }\n",
              "      </script>\n",
              "    </div>\n",
              "  </div>\n",
              "  "
            ]
          },
          "metadata": {},
          "execution_count": 244
        }
      ]
    },
    {
      "cell_type": "code",
      "source": [
        "# Menampilkan 5 data teratas dari cluster 2\n",
        "results[results[\"segment\"]==2][:5]"
      ],
      "metadata": {
        "id": "m1cb2w4Ji8XO",
        "colab": {
          "base_uri": "https://localhost:8080/",
          "height": 206
        },
        "outputId": "eea137e1-800a-49ab-b950-31828b940cc4"
      },
      "execution_count": null,
      "outputs": [
        {
          "output_type": "execute_result",
          "data": {
            "text/plain": [
              "                                         Product Name Product ID  \\\n",
              "0   Women's adidas Originals NMD_Racer Primeknit S...     AH2430   \n",
              "52       Women's adidas Originals Marathon Tech Shoes     EE4954   \n",
              "74             Men's adidas Originals Superstar Shoes     EG4957   \n",
              "85           Men's adidas Originals FuturePacer Shoes     CM8453   \n",
              "86       MEN'S ADIDAS ORIGINALS MICROPACER X R1 SHOES     EE3625   \n",
              "\n",
              "    Listing_Price  Sale_Price  Discount             Brand  \\\n",
              "0           14999        7499        50  Adidas ORIGINALS   \n",
              "52          11999        7199        40  Adidas ORIGINALS   \n",
              "74           7999        7999         0  Adidas ORIGINALS   \n",
              "85          19999        9999        50  Adidas ORIGINALS   \n",
              "86          15999        7999        50  Adidas ORIGINALS   \n",
              "\n",
              "                                          Description  Rating  Reviews  \\\n",
              "0   Channeling the streamlined look of an '80s rac...     4.8       41   \n",
              "52  These shoes draft off the Marathon TR, a trail...     4.4       35   \n",
              "74  These trainers born in the '70s keep the look ...     4.9       38   \n",
              "85  The Futurepacer reworks the revolutionary desi...     3.5        1   \n",
              "86  These shoes are a hybrid of retro and modern a...     0.0       94   \n",
              "\n",
              "    segment  \n",
              "0         2  \n",
              "52        2  \n",
              "74        2  \n",
              "85        2  \n",
              "86        2  "
            ],
            "text/html": [
              "\n",
              "  <div id=\"df-9d596b84-e459-444d-a357-17b7d710a2b4\">\n",
              "    <div class=\"colab-df-container\">\n",
              "      <div>\n",
              "<style scoped>\n",
              "    .dataframe tbody tr th:only-of-type {\n",
              "        vertical-align: middle;\n",
              "    }\n",
              "\n",
              "    .dataframe tbody tr th {\n",
              "        vertical-align: top;\n",
              "    }\n",
              "\n",
              "    .dataframe thead th {\n",
              "        text-align: right;\n",
              "    }\n",
              "</style>\n",
              "<table border=\"1\" class=\"dataframe\">\n",
              "  <thead>\n",
              "    <tr style=\"text-align: right;\">\n",
              "      <th></th>\n",
              "      <th>Product Name</th>\n",
              "      <th>Product ID</th>\n",
              "      <th>Listing_Price</th>\n",
              "      <th>Sale_Price</th>\n",
              "      <th>Discount</th>\n",
              "      <th>Brand</th>\n",
              "      <th>Description</th>\n",
              "      <th>Rating</th>\n",
              "      <th>Reviews</th>\n",
              "      <th>segment</th>\n",
              "    </tr>\n",
              "  </thead>\n",
              "  <tbody>\n",
              "    <tr>\n",
              "      <th>0</th>\n",
              "      <td>Women's adidas Originals NMD_Racer Primeknit S...</td>\n",
              "      <td>AH2430</td>\n",
              "      <td>14999</td>\n",
              "      <td>7499</td>\n",
              "      <td>50</td>\n",
              "      <td>Adidas ORIGINALS</td>\n",
              "      <td>Channeling the streamlined look of an '80s rac...</td>\n",
              "      <td>4.8</td>\n",
              "      <td>41</td>\n",
              "      <td>2</td>\n",
              "    </tr>\n",
              "    <tr>\n",
              "      <th>52</th>\n",
              "      <td>Women's adidas Originals Marathon Tech Shoes</td>\n",
              "      <td>EE4954</td>\n",
              "      <td>11999</td>\n",
              "      <td>7199</td>\n",
              "      <td>40</td>\n",
              "      <td>Adidas ORIGINALS</td>\n",
              "      <td>These shoes draft off the Marathon TR, a trail...</td>\n",
              "      <td>4.4</td>\n",
              "      <td>35</td>\n",
              "      <td>2</td>\n",
              "    </tr>\n",
              "    <tr>\n",
              "      <th>74</th>\n",
              "      <td>Men's adidas Originals Superstar Shoes</td>\n",
              "      <td>EG4957</td>\n",
              "      <td>7999</td>\n",
              "      <td>7999</td>\n",
              "      <td>0</td>\n",
              "      <td>Adidas ORIGINALS</td>\n",
              "      <td>These trainers born in the '70s keep the look ...</td>\n",
              "      <td>4.9</td>\n",
              "      <td>38</td>\n",
              "      <td>2</td>\n",
              "    </tr>\n",
              "    <tr>\n",
              "      <th>85</th>\n",
              "      <td>Men's adidas Originals FuturePacer Shoes</td>\n",
              "      <td>CM8453</td>\n",
              "      <td>19999</td>\n",
              "      <td>9999</td>\n",
              "      <td>50</td>\n",
              "      <td>Adidas ORIGINALS</td>\n",
              "      <td>The Futurepacer reworks the revolutionary desi...</td>\n",
              "      <td>3.5</td>\n",
              "      <td>1</td>\n",
              "      <td>2</td>\n",
              "    </tr>\n",
              "    <tr>\n",
              "      <th>86</th>\n",
              "      <td>MEN'S ADIDAS ORIGINALS MICROPACER X R1 SHOES</td>\n",
              "      <td>EE3625</td>\n",
              "      <td>15999</td>\n",
              "      <td>7999</td>\n",
              "      <td>50</td>\n",
              "      <td>Adidas ORIGINALS</td>\n",
              "      <td>These shoes are a hybrid of retro and modern a...</td>\n",
              "      <td>0.0</td>\n",
              "      <td>94</td>\n",
              "      <td>2</td>\n",
              "    </tr>\n",
              "  </tbody>\n",
              "</table>\n",
              "</div>\n",
              "      <button class=\"colab-df-convert\" onclick=\"convertToInteractive('df-9d596b84-e459-444d-a357-17b7d710a2b4')\"\n",
              "              title=\"Convert this dataframe to an interactive table.\"\n",
              "              style=\"display:none;\">\n",
              "        \n",
              "  <svg xmlns=\"http://www.w3.org/2000/svg\" height=\"24px\"viewBox=\"0 0 24 24\"\n",
              "       width=\"24px\">\n",
              "    <path d=\"M0 0h24v24H0V0z\" fill=\"none\"/>\n",
              "    <path d=\"M18.56 5.44l.94 2.06.94-2.06 2.06-.94-2.06-.94-.94-2.06-.94 2.06-2.06.94zm-11 1L8.5 8.5l.94-2.06 2.06-.94-2.06-.94L8.5 2.5l-.94 2.06-2.06.94zm10 10l.94 2.06.94-2.06 2.06-.94-2.06-.94-.94-2.06-.94 2.06-2.06.94z\"/><path d=\"M17.41 7.96l-1.37-1.37c-.4-.4-.92-.59-1.43-.59-.52 0-1.04.2-1.43.59L10.3 9.45l-7.72 7.72c-.78.78-.78 2.05 0 2.83L4 21.41c.39.39.9.59 1.41.59.51 0 1.02-.2 1.41-.59l7.78-7.78 2.81-2.81c.8-.78.8-2.07 0-2.86zM5.41 20L4 18.59l7.72-7.72 1.47 1.35L5.41 20z\"/>\n",
              "  </svg>\n",
              "      </button>\n",
              "      \n",
              "  <style>\n",
              "    .colab-df-container {\n",
              "      display:flex;\n",
              "      flex-wrap:wrap;\n",
              "      gap: 12px;\n",
              "    }\n",
              "\n",
              "    .colab-df-convert {\n",
              "      background-color: #E8F0FE;\n",
              "      border: none;\n",
              "      border-radius: 50%;\n",
              "      cursor: pointer;\n",
              "      display: none;\n",
              "      fill: #1967D2;\n",
              "      height: 32px;\n",
              "      padding: 0 0 0 0;\n",
              "      width: 32px;\n",
              "    }\n",
              "\n",
              "    .colab-df-convert:hover {\n",
              "      background-color: #E2EBFA;\n",
              "      box-shadow: 0px 1px 2px rgba(60, 64, 67, 0.3), 0px 1px 3px 1px rgba(60, 64, 67, 0.15);\n",
              "      fill: #174EA6;\n",
              "    }\n",
              "\n",
              "    [theme=dark] .colab-df-convert {\n",
              "      background-color: #3B4455;\n",
              "      fill: #D2E3FC;\n",
              "    }\n",
              "\n",
              "    [theme=dark] .colab-df-convert:hover {\n",
              "      background-color: #434B5C;\n",
              "      box-shadow: 0px 1px 3px 1px rgba(0, 0, 0, 0.15);\n",
              "      filter: drop-shadow(0px 1px 2px rgba(0, 0, 0, 0.3));\n",
              "      fill: #FFFFFF;\n",
              "    }\n",
              "  </style>\n",
              "\n",
              "      <script>\n",
              "        const buttonEl =\n",
              "          document.querySelector('#df-9d596b84-e459-444d-a357-17b7d710a2b4 button.colab-df-convert');\n",
              "        buttonEl.style.display =\n",
              "          google.colab.kernel.accessAllowed ? 'block' : 'none';\n",
              "\n",
              "        async function convertToInteractive(key) {\n",
              "          const element = document.querySelector('#df-9d596b84-e459-444d-a357-17b7d710a2b4');\n",
              "          const dataTable =\n",
              "            await google.colab.kernel.invokeFunction('convertToInteractive',\n",
              "                                                     [key], {});\n",
              "          if (!dataTable) return;\n",
              "\n",
              "          const docLinkHtml = 'Like what you see? Visit the ' +\n",
              "            '<a target=\"_blank\" href=https://colab.research.google.com/notebooks/data_table.ipynb>data table notebook</a>'\n",
              "            + ' to learn more about interactive tables.';\n",
              "          element.innerHTML = '';\n",
              "          dataTable['output_type'] = 'display_data';\n",
              "          await google.colab.output.renderOutput(dataTable, element);\n",
              "          const docLink = document.createElement('div');\n",
              "          docLink.innerHTML = docLinkHtml;\n",
              "          element.appendChild(docLink);\n",
              "        }\n",
              "      </script>\n",
              "    </div>\n",
              "  </div>\n",
              "  "
            ]
          },
          "metadata": {},
          "execution_count": 245
        }
      ]
    },
    {
      "cell_type": "code",
      "source": [
        "# Menampilkan 5 data teratas dari cluster 3\n",
        "results[results[\"segment\"]==3][:5]"
      ],
      "metadata": {
        "id": "z0nE98dWjLBN",
        "colab": {
          "base_uri": "https://localhost:8080/",
          "height": 206
        },
        "outputId": "ced0e524-7493-4a33-fa1d-6ca2a131e2db"
      },
      "execution_count": null,
      "outputs": [
        {
          "output_type": "execute_result",
          "data": {
            "text/plain": [
              "                                           Product Name Product ID  \\\n",
              "1062  Men's adidas Football Copa 19+ Firm Ground Cleats     F35515   \n",
              "1164  Men's adidas Football Predator 19+ Firm Ground...     F35613   \n",
              "1326      Unisex Originals CRAIG GREEN KONTUUR II SHOES     FV7826   \n",
              "1328      Unisex Originals CRAIG GREEN KONTUUR II SHOES     FV7825   \n",
              "1334       Unisex Originals CRAIG GREEN KONTUUR I SHOES     FV4419   \n",
              "\n",
              "      Listing_Price  Sale_Price  Discount                     Brand  \\\n",
              "1062          22999       13799        40  Adidas SPORT PERFORMANCE   \n",
              "1164          22999       13799        40  Adidas SPORT PERFORMANCE   \n",
              "1326          23999       23999         0          Adidas ORIGINALS   \n",
              "1328          23999       23999         0          Adidas ORIGINALS   \n",
              "1334          23999       23999         0          Adidas ORIGINALS   \n",
              "\n",
              "                                            Description  Rating  Reviews  \\\n",
              "1062  Copa isn't just a cleat. It's an agreement tha...     3.1       34   \n",
              "1164  Predator isn't just a cleat. It's a statement ...     4.6       44   \n",
              "1326  Go for the unexpected. British designer Craig ...     2.4       86   \n",
              "1328  Go for the unexpected. British designer Craig ...     0.0        7   \n",
              "1334  Live for the unpredictable. London-born design...     3.1       37   \n",
              "\n",
              "      segment  \n",
              "1062        3  \n",
              "1164        3  \n",
              "1326        3  \n",
              "1328        3  \n",
              "1334        3  "
            ],
            "text/html": [
              "\n",
              "  <div id=\"df-54e956d1-83c6-4612-8b05-3ae23b2004e8\">\n",
              "    <div class=\"colab-df-container\">\n",
              "      <div>\n",
              "<style scoped>\n",
              "    .dataframe tbody tr th:only-of-type {\n",
              "        vertical-align: middle;\n",
              "    }\n",
              "\n",
              "    .dataframe tbody tr th {\n",
              "        vertical-align: top;\n",
              "    }\n",
              "\n",
              "    .dataframe thead th {\n",
              "        text-align: right;\n",
              "    }\n",
              "</style>\n",
              "<table border=\"1\" class=\"dataframe\">\n",
              "  <thead>\n",
              "    <tr style=\"text-align: right;\">\n",
              "      <th></th>\n",
              "      <th>Product Name</th>\n",
              "      <th>Product ID</th>\n",
              "      <th>Listing_Price</th>\n",
              "      <th>Sale_Price</th>\n",
              "      <th>Discount</th>\n",
              "      <th>Brand</th>\n",
              "      <th>Description</th>\n",
              "      <th>Rating</th>\n",
              "      <th>Reviews</th>\n",
              "      <th>segment</th>\n",
              "    </tr>\n",
              "  </thead>\n",
              "  <tbody>\n",
              "    <tr>\n",
              "      <th>1062</th>\n",
              "      <td>Men's adidas Football Copa 19+ Firm Ground Cleats</td>\n",
              "      <td>F35515</td>\n",
              "      <td>22999</td>\n",
              "      <td>13799</td>\n",
              "      <td>40</td>\n",
              "      <td>Adidas SPORT PERFORMANCE</td>\n",
              "      <td>Copa isn't just a cleat. It's an agreement tha...</td>\n",
              "      <td>3.1</td>\n",
              "      <td>34</td>\n",
              "      <td>3</td>\n",
              "    </tr>\n",
              "    <tr>\n",
              "      <th>1164</th>\n",
              "      <td>Men's adidas Football Predator 19+ Firm Ground...</td>\n",
              "      <td>F35613</td>\n",
              "      <td>22999</td>\n",
              "      <td>13799</td>\n",
              "      <td>40</td>\n",
              "      <td>Adidas SPORT PERFORMANCE</td>\n",
              "      <td>Predator isn't just a cleat. It's a statement ...</td>\n",
              "      <td>4.6</td>\n",
              "      <td>44</td>\n",
              "      <td>3</td>\n",
              "    </tr>\n",
              "    <tr>\n",
              "      <th>1326</th>\n",
              "      <td>Unisex Originals CRAIG GREEN KONTUUR II SHOES</td>\n",
              "      <td>FV7826</td>\n",
              "      <td>23999</td>\n",
              "      <td>23999</td>\n",
              "      <td>0</td>\n",
              "      <td>Adidas ORIGINALS</td>\n",
              "      <td>Go for the unexpected. British designer Craig ...</td>\n",
              "      <td>2.4</td>\n",
              "      <td>86</td>\n",
              "      <td>3</td>\n",
              "    </tr>\n",
              "    <tr>\n",
              "      <th>1328</th>\n",
              "      <td>Unisex Originals CRAIG GREEN KONTUUR II SHOES</td>\n",
              "      <td>FV7825</td>\n",
              "      <td>23999</td>\n",
              "      <td>23999</td>\n",
              "      <td>0</td>\n",
              "      <td>Adidas ORIGINALS</td>\n",
              "      <td>Go for the unexpected. British designer Craig ...</td>\n",
              "      <td>0.0</td>\n",
              "      <td>7</td>\n",
              "      <td>3</td>\n",
              "    </tr>\n",
              "    <tr>\n",
              "      <th>1334</th>\n",
              "      <td>Unisex Originals CRAIG GREEN KONTUUR I SHOES</td>\n",
              "      <td>FV4419</td>\n",
              "      <td>23999</td>\n",
              "      <td>23999</td>\n",
              "      <td>0</td>\n",
              "      <td>Adidas ORIGINALS</td>\n",
              "      <td>Live for the unpredictable. London-born design...</td>\n",
              "      <td>3.1</td>\n",
              "      <td>37</td>\n",
              "      <td>3</td>\n",
              "    </tr>\n",
              "  </tbody>\n",
              "</table>\n",
              "</div>\n",
              "      <button class=\"colab-df-convert\" onclick=\"convertToInteractive('df-54e956d1-83c6-4612-8b05-3ae23b2004e8')\"\n",
              "              title=\"Convert this dataframe to an interactive table.\"\n",
              "              style=\"display:none;\">\n",
              "        \n",
              "  <svg xmlns=\"http://www.w3.org/2000/svg\" height=\"24px\"viewBox=\"0 0 24 24\"\n",
              "       width=\"24px\">\n",
              "    <path d=\"M0 0h24v24H0V0z\" fill=\"none\"/>\n",
              "    <path d=\"M18.56 5.44l.94 2.06.94-2.06 2.06-.94-2.06-.94-.94-2.06-.94 2.06-2.06.94zm-11 1L8.5 8.5l.94-2.06 2.06-.94-2.06-.94L8.5 2.5l-.94 2.06-2.06.94zm10 10l.94 2.06.94-2.06 2.06-.94-2.06-.94-.94-2.06-.94 2.06-2.06.94z\"/><path d=\"M17.41 7.96l-1.37-1.37c-.4-.4-.92-.59-1.43-.59-.52 0-1.04.2-1.43.59L10.3 9.45l-7.72 7.72c-.78.78-.78 2.05 0 2.83L4 21.41c.39.39.9.59 1.41.59.51 0 1.02-.2 1.41-.59l7.78-7.78 2.81-2.81c.8-.78.8-2.07 0-2.86zM5.41 20L4 18.59l7.72-7.72 1.47 1.35L5.41 20z\"/>\n",
              "  </svg>\n",
              "      </button>\n",
              "      \n",
              "  <style>\n",
              "    .colab-df-container {\n",
              "      display:flex;\n",
              "      flex-wrap:wrap;\n",
              "      gap: 12px;\n",
              "    }\n",
              "\n",
              "    .colab-df-convert {\n",
              "      background-color: #E8F0FE;\n",
              "      border: none;\n",
              "      border-radius: 50%;\n",
              "      cursor: pointer;\n",
              "      display: none;\n",
              "      fill: #1967D2;\n",
              "      height: 32px;\n",
              "      padding: 0 0 0 0;\n",
              "      width: 32px;\n",
              "    }\n",
              "\n",
              "    .colab-df-convert:hover {\n",
              "      background-color: #E2EBFA;\n",
              "      box-shadow: 0px 1px 2px rgba(60, 64, 67, 0.3), 0px 1px 3px 1px rgba(60, 64, 67, 0.15);\n",
              "      fill: #174EA6;\n",
              "    }\n",
              "\n",
              "    [theme=dark] .colab-df-convert {\n",
              "      background-color: #3B4455;\n",
              "      fill: #D2E3FC;\n",
              "    }\n",
              "\n",
              "    [theme=dark] .colab-df-convert:hover {\n",
              "      background-color: #434B5C;\n",
              "      box-shadow: 0px 1px 3px 1px rgba(0, 0, 0, 0.15);\n",
              "      filter: drop-shadow(0px 1px 2px rgba(0, 0, 0, 0.3));\n",
              "      fill: #FFFFFF;\n",
              "    }\n",
              "  </style>\n",
              "\n",
              "      <script>\n",
              "        const buttonEl =\n",
              "          document.querySelector('#df-54e956d1-83c6-4612-8b05-3ae23b2004e8 button.colab-df-convert');\n",
              "        buttonEl.style.display =\n",
              "          google.colab.kernel.accessAllowed ? 'block' : 'none';\n",
              "\n",
              "        async function convertToInteractive(key) {\n",
              "          const element = document.querySelector('#df-54e956d1-83c6-4612-8b05-3ae23b2004e8');\n",
              "          const dataTable =\n",
              "            await google.colab.kernel.invokeFunction('convertToInteractive',\n",
              "                                                     [key], {});\n",
              "          if (!dataTable) return;\n",
              "\n",
              "          const docLinkHtml = 'Like what you see? Visit the ' +\n",
              "            '<a target=\"_blank\" href=https://colab.research.google.com/notebooks/data_table.ipynb>data table notebook</a>'\n",
              "            + ' to learn more about interactive tables.';\n",
              "          element.innerHTML = '';\n",
              "          dataTable['output_type'] = 'display_data';\n",
              "          await google.colab.output.renderOutput(dataTable, element);\n",
              "          const docLink = document.createElement('div');\n",
              "          docLink.innerHTML = docLinkHtml;\n",
              "          element.appendChild(docLink);\n",
              "        }\n",
              "      </script>\n",
              "    </div>\n",
              "  </div>\n",
              "  "
            ]
          },
          "metadata": {},
          "execution_count": 246
        }
      ]
    },
    {
      "cell_type": "markdown",
      "source": [
        "## EDA"
      ],
      "metadata": {
        "id": "W7WF1-yRjbZl"
      }
    },
    {
      "cell_type": "code",
      "source": [
        "# Pengelompokan customer berdasarkan usia\n",
        "sns.boxplot(x=results[\"segment\"], y=results[\"Sale_Price\"], data=results)"
      ],
      "metadata": {
        "id": "w9NPdhuXjemd",
        "colab": {
          "base_uri": "https://localhost:8080/",
          "height": 466
        },
        "outputId": "a8883717-2de1-467e-bebf-deafbac2d5ee"
      },
      "execution_count": null,
      "outputs": [
        {
          "output_type": "execute_result",
          "data": {
            "text/plain": [
              "<Axes: xlabel='segment', ylabel='Sale_Price'>"
            ]
          },
          "metadata": {},
          "execution_count": 247
        },
        {
          "output_type": "display_data",
          "data": {
            "text/plain": [
              "<Figure size 640x480 with 1 Axes>"
            ],
            "image/png": "[encoded data removed]"
          },
          "metadata": {}
        }
      ]
    },
    {
      "cell_type": "code",
      "source": [
        "# Pengelompokan customer berdasarkan usia\n",
        "sns.boxplot(x=results[\"segment\"], y=results[\"Discount\"], data=results)"
      ],
      "metadata": {
        "colab": {
          "base_uri": "https://localhost:8080/",
          "height": 466
        },
        "id": "xpOwqWVQUZNU",
        "outputId": "0f66c651-75e3-4194-c45d-d3ff0c485d20"
      },
      "execution_count": null,
      "outputs": [
        {
          "output_type": "execute_result",
          "data": {
            "text/plain": [
              "<Axes: xlabel='segment', ylabel='Discount'>"
            ]
          },
          "metadata": {},
          "execution_count": 248
        },
        {
          "output_type": "display_data",
          "data": {
            "text/plain": [
              "<Figure size 640x480 with 1 Axes>"
            ],
            "image/png": "[encoded data removed]"
          },
          "metadata": {}
        }
      ]
    },
    {
      "cell_type": "code",
      "source": [
        "plt.figure(figsize=(15,6))\n",
        "sns.countplot(x=\"segment\", data=results, hue=\"Brand\")\n",
        "plt.title(\"Jumlah Cluster Berdasarkan Profesi\")\n",
        "plt.xlabel(\"Cluster\")\n",
        "plt.ylabel(\"Jumlah Customer\")\n",
        "plt.show()"
      ],
      "metadata": {
        "colab": {
          "base_uri": "https://localhost:8080/",
          "height": 564
        },
        "id": "uXaOkilu1j3Y",
        "outputId": "33d418e2-898f-433d-c24a-abca2b3022eb"
      },
      "execution_count": null,
      "outputs": [
        {
          "output_type": "display_data",
          "data": {
            "text/plain": [
              "<Figure size 1500x600 with 1 Axes>"
            ],
            "image/png": "[encoded data removed]"
          },
          "metadata": {}
        }
      ]
    },
    {
      "cell_type": "code",
      "source": [
        "# Plot customer berdasarkan usia dengan menggunakan scatter plot\n",
        "fig, ax = plt.subplots(1,2, figsize=(20,12))\n",
        "\n",
        "sns.scatterplot(x=results[results[\"segment\"]==0].Brand, y=results[results[\"segment\"]==0].Sale_Price, color=\"red\", ax=ax[0])\n",
        "sns.scatterplot(x=results[results[\"segment\"]==1].Brand, y=results[results[\"segment\"]==1].Sale_Price, color=\"green\", ax=ax[0])\n",
        "sns.scatterplot(x=results[results[\"segment\"]==2].Brand, y=results[results[\"segment\"]==2].Sale_Price, color=\"blue\", ax=ax[0])\n",
        "sns.scatterplot(x=results[results[\"segment\"]==3].Brand, y=results[results[\"segment\"]==3].Sale_Price, color=\"yellow\", ax=ax[0])\n",
        "\n",
        "sns.scatterplot(x=results[results[\"segment\"]==0].Brand, y=results[results[\"segment\"]==0].Discount, color=\"red\", ax=ax[1])\n",
        "sns.scatterplot(x=results[results[\"segment\"]==1].Brand, y=results[results[\"segment\"]==1].Discount, color=\"green\", ax=ax[1])\n",
        "sns.scatterplot(x=results[results[\"segment\"]==2].Brand, y=results[results[\"segment\"]==2].Discount, color=\"blue\", ax=ax[1])\n",
        "sns.scatterplot(x=results[results[\"segment\"]==3].Brand, y=results[results[\"segment\"]==3].Discount, color=\"yellow\", ax=ax[1])"
      ],
      "metadata": {
        "colab": {
          "base_uri": "https://localhost:8080/",
          "height": 1000
        },
        "id": "h3HGzgv32loh",
        "outputId": "501c07da-a31e-468c-8b82-f52efd5f3867"
      },
      "execution_count": null,
      "outputs": [
        {
          "output_type": "execute_result",
          "data": {
            "text/plain": [
              "<Axes: xlabel='Brand', ylabel='Discount'>"
            ]
          },
          "metadata": {},
          "execution_count": 250
        },
        {
          "output_type": "display_data",
          "data": {
            "text/plain": [
              "<Figure size 2000x1200 with 2 Axes>"
            ],
            "image/png": "[encoded data removed]"
          },
          "metadata": {}
        }
      ]
    },
    {
      "cell_type": "markdown",
      "source": [
        "Kesimpulan\n",
        "\n",
        "\n",
        "*   Kelompok pertama yaitu cluster 0 merupakan kelompok brand sepatu dengan harga jual produk saat ini yang terendah ke-3, dengan tiga produk brand dengan rentang harga cukup konsisten, diskon harga yang cukup tinggi dari 30-60\n",
        "*   Kelompok kedua yaitu cluster 1 merupakan kelompok brand sepatu dengan harga jual produk saat ini terendah dari brand lainnya di satu produk saja dengan harga konsisten, diskon harga yang cukup merata mulai dari 0-60\n",
        "\n",
        "\n",
        "*   Kelompok pertama yaitu cluster 2 merupakan kelompok brand sepatu dengan harga jual produk terendah ke-2 dengan satu produk brand dengan rentang harga konsisten, cluster ini tidak memiliki diskon produk\n",
        "*   Kelompok pertama yaitu cluster 3 merupakan kelompok brand sepatu dengan harga jual produk saat ini paling tinggi serta rentang harga bervariasi di tiga produk berbeda, diskon juga tidak merata\n",
        "\n",
        "\n",
        "\n"
      ],
      "metadata": {
        "id": "9QQ4CI6_AEli"
      }
    }
  ]
}